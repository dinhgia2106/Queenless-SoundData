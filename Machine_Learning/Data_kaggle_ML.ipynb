{
  "cells": [
    {
      "cell_type": "code",
      "execution_count": 1,
      "metadata": {},
      "outputs": [],
      "source": [
        "import os\n",
        "import librosa\n",
        "import numpy as np\n",
        "import time\n",
        "import joblib\n",
        "from sklearn.metrics import accuracy_score\n",
        "import librosa.display\n",
        "import scipy.fftpack as fftpack\n",
        "from sklearn.ensemble import RandomForestClassifier, ExtraTreesClassifier\n",
        "from sklearn.model_selection import GridSearchCV\n",
        "from sklearn.preprocessing import StandardScaler\n",
        "from sklearn.svm import SVC\n",
        "from sklearn.linear_model import LogisticRegression\n",
        "from sklearn.neighbors import KNeighborsClassifier\n",
        "from sklearn.preprocessing import MinMaxScaler\n"
      ]
    },
    {
      "cell_type": "code",
      "execution_count": 2,
      "metadata": {},
      "outputs": [],
      "source": [
        "train_path = 'E:/Queenless/archive/nuhive_processed/train'\n",
        "val_path = 'E:/Queenless/archive/nuhive_processed/val'\n",
        "test_path = 'E:/Queenless/archive/nuhive_processed/test'\n",
        "\n",
        "output_dir = 'E:/Queenless/kaggle_features'\n",
        "os.makedirs(output_dir, exist_ok=True)"
      ]
    },
    {
      "cell_type": "markdown",
      "metadata": {},
      "source": [
        "# MFCCs"
      ]
    },
    {
      "cell_type": "code",
      "execution_count": 3,
      "metadata": {},
      "outputs": [],
      "source": [
        "def pre_emphasis(signal_in, alpha=0.97):\n",
        "    \"\"\"\n",
        "    Bước 1: Pre-emphasis - Lọc thông cao\n",
        "    \"\"\"\n",
        "    emphasized_signal = np.append(signal_in[0], signal_in[1:] - alpha * signal_in[:-1]) # y(t) = x(t) - alpha*x(t-1)\n",
        "    return emphasized_signal\n",
        "\n",
        "def framing(signal_in, sample_rate, frame_size=0.025, frame_stride=0.01):\n",
        "    \"\"\"\n",
        "    Bước 2: Chia khung (Framing)\n",
        "    - frame_size: kích thước khung (số giây)\n",
        "    - frame_stride: bước nhảy giữa các khung (số giây)\n",
        "    \"\"\"\n",
        "    frame_length = int(round(frame_size * sample_rate))\n",
        "    frame_step = int(round(frame_stride * sample_rate))\n",
        "    signal_length = len(signal_in)\n",
        "    num_frames = int(np.ceil(float(np.abs(signal_length - frame_length)) / frame_step)) + 1\n",
        "\n",
        "    pad_signal_length = num_frames * frame_step + frame_length\n",
        "    # Zero-padding nếu cần\n",
        "    z = np.zeros((pad_signal_length - signal_length))\n",
        "    pad_signal = np.append(signal_in, z)\n",
        "\n",
        "    indices = np.tile(np.arange(0, frame_length), (num_frames, 1)) + \\\n",
        "              np.tile(np.arange(0, num_frames * frame_step, frame_step), (frame_length, 1)).T\n",
        "    frames = pad_signal[indices.astype(np.int32, copy=False)]\n",
        "    return frames\n",
        "\n",
        "def windowing(frames):\n",
        "    \"\"\"\n",
        "    Bước 3: Áp dụng cửa sổ Hamming cho mỗi khung\n",
        "    \"\"\"\n",
        "    frame_length = frames.shape[1]\n",
        "    hamming = np.hamming(frame_length)\n",
        "    windowed_frames = frames * hamming\n",
        "    return windowed_frames\n",
        "\n",
        "def fft_frames(frames, NFFT=512):\n",
        "    \"\"\"\n",
        "    Bước 4: Tính FFT cho mỗi khung\n",
        "    \"\"\"\n",
        "    mag_frames = np.absolute(np.fft.rfft(frames, NFFT))\n",
        "    return mag_frames\n",
        "\n",
        "def power_spectrum(mag_frames, NFFT=512):\n",
        "    \"\"\"\n",
        "    Bước 4.1: Tính phổ công suất của mỗi khung\n",
        "    \"\"\"\n",
        "    return (1.0 / NFFT) * (mag_frames ** 2)\n",
        "\n",
        "def mel_filterbank(sample_rate, NFFT, nfilt=26, low_freq=0, high_freq=None):\n",
        "    \"\"\"\n",
        "    Bước 5: Tạo Mel filterbank\n",
        "    \"\"\"\n",
        "    if high_freq is None:\n",
        "        high_freq = sample_rate / 2\n",
        "\n",
        "    # Chuyển Hz sang Mel\n",
        "    low_mel = 2595 * np.log10(1 + low_freq / 700.0)\n",
        "    high_mel = 2595 * np.log10(1 + high_freq / 700.0)\n",
        "    mel_points = np.linspace(low_mel, high_mel, nfilt + 2)\n",
        "    # Chuyển lại từ Mel sang Hz\n",
        "    hz_points = 700 * (10**(mel_points / 2595) - 1)\n",
        "    bin = np.floor((NFFT + 1) * hz_points / sample_rate)\n",
        "\n",
        "    fbank = np.zeros((nfilt, int(np.floor(NFFT / 2 + 1))))\n",
        "    for m in range(1, nfilt + 1):\n",
        "        f_m_minus = int(bin[m - 1])   # giới hạn trái\n",
        "        f_m = int(bin[m])             # trung tâm\n",
        "        f_m_plus = int(bin[m + 1])    # giới hạn phải\n",
        "\n",
        "        for k in range(f_m_minus, f_m):\n",
        "            fbank[m - 1, k] = (k - bin[m - 1]) / (bin[m] - bin[m - 1])\n",
        "        for k in range(f_m, f_m_plus):\n",
        "            fbank[m - 1, k] = (bin[m + 1] - k) / (bin[m + 1] - bin[m])\n",
        "    return fbank\n",
        "\n",
        "# Hàm tính mfccs\n",
        "def compute_mfccs(signal_in, sample_rate, frame_size=0.025, frame_stride=0.01, \n",
        "                 pre_emph=0.97, NFFT=512, nfilt=26, num_ceps=13):\n",
        "    emphasized_signal = pre_emphasis(signal_in, pre_emph)\n",
        "    frames = framing(emphasized_signal, sample_rate, frame_size, frame_stride)\n",
        "    windowed_frames = windowing(frames)\n",
        "    mag_frames = fft_frames(windowed_frames, NFFT)\n",
        "    pow_frames = power_spectrum(mag_frames, NFFT)\n",
        "    fbank = mel_filterbank(sample_rate, NFFT, nfilt)\n",
        "    filter_banks = np.dot(pow_frames, fbank.T)\n",
        "    filter_banks = np.where(filter_banks == 0, np.finfo(float).eps, filter_banks)\n",
        "    log_fbank = np.log(filter_banks)\n",
        "    mfccs = fftpack.dct(log_fbank, type=2, axis=1, norm='ortho')[:, :num_ceps]\n",
        "    return mfccs"
      ]
    },
    {
      "cell_type": "code",
      "execution_count": 4,
      "metadata": {},
      "outputs": [
        {
          "name": "stdout",
          "output_type": "stream",
          "text": [
            "Loading train data from .pkl files...\n",
            "Loading val data from .pkl files...\n",
            "Loading test data from .pkl files...\n"
          ]
        }
      ],
      "source": [
        "\n",
        "def extract_mfccs_features(directory, sample_rate=22050, output_dir=None, dataset_type='train'):\n",
        "    # Kiểm tra nếu file đã tồn tại, thì load lại\n",
        "    features_file = os.path.join(output_dir, f'mfccs_features_{dataset_type}.pkl')\n",
        "    labels_file = os.path.join(output_dir, f'mfccs_labels_{dataset_type}.pkl')\n",
        "    data_file = os.path.join(output_dir, f'mfccs_data_{dataset_type}.pkl')\n",
        "    \n",
        "    if os.path.exists(features_file) and os.path.exists(labels_file) and os.path.exists(data_file):\n",
        "        print(f\"Loading {dataset_type} data from .pkl files...\")\n",
        "        features = joblib.load(features_file)\n",
        "        labels = joblib.load(labels_file)\n",
        "        data = joblib.load(data_file)\n",
        "    else:\n",
        "        print(f\"Extracting {dataset_type} data...\")\n",
        "        start_time = time.time()\n",
        "        labels = []\n",
        "        features = []\n",
        "        data = []  # Thêm một biến để lưu dữ liệu đầu vào (có thể là tín hiệu, ví dụ như signal hoặc các thông tin khác)\n",
        "        \n",
        "        for label in ['bee', 'nobee', 'noqueen']:\n",
        "            path = os.path.join(directory, label)\n",
        "            for file in os.listdir(path):\n",
        "                file_path = os.path.join(path, file)\n",
        "                signal, sr = librosa.load(file_path, sr=sample_rate)\n",
        "                mfccs = compute_mfccs(signal_in=signal, sample_rate=sr)\n",
        "                mfccs_mean = np.mean(mfccs, axis=0)\n",
        "                features.append(mfccs_mean)\n",
        "                labels.append(label)\n",
        "                data.append(signal)  # Lưu tín hiệu âm thanh gốc hoặc dữ liệu khác nếu cần\n",
        "        \n",
        "        features = np.array(features)\n",
        "        labels = np.array(labels)\n",
        "        data = np.array(data)  # Chuyển dữ liệu sang dạng numpy array nếu cần lưu\n",
        "        \n",
        "        if output_dir:\n",
        "            # Lưu từng đối tượng riêng biệt cho train/val/test\n",
        "            joblib.dump(features, features_file)\n",
        "            joblib.dump(labels, labels_file)\n",
        "            joblib.dump(data, data_file)  # Lưu tín hiệu âm thanh hoặc dữ liệu\n",
        "        \n",
        "        end_time = time.time()\n",
        "        print(f\"MFCCs extraction time: {end_time - start_time:.2f} seconds\")\n",
        "    \n",
        "    return features, labels, data\n",
        "\n",
        "train_features_mfccs, train_labels_mfccs, train_data_mfccs = extract_mfccs_features(train_path, output_dir=output_dir, dataset_type='train')\n",
        "val_features_mfccs, val_labels_mfccs, val_data_mfccs = extract_mfccs_features(val_path, output_dir=output_dir, dataset_type='val')\n",
        "test_features_mfccs, test_labels_mfccs, test_data_mfccs = extract_mfccs_features(test_path, output_dir=output_dir, dataset_type='test')\n",
        "\n",
        "train_features_mfccs = np.vstack((train_features_mfccs, val_features_mfccs))\n",
        "train_labels_mfccs = np.hstack((train_labels_mfccs, val_labels_mfccs))"
      ]
    },
    {
      "cell_type": "code",
      "execution_count": 5,
      "metadata": {},
      "outputs": [
        {
          "name": "stdout",
          "output_type": "stream",
          "text": [
            "(11032, 13)\n",
            "(2760, 13)\n"
          ]
        }
      ],
      "source": [
        "print(train_features_mfccs.shape)\n",
        "print(test_features_mfccs.shape)"
      ]
    },
    {
      "cell_type": "code",
      "execution_count": 6,
      "metadata": {},
      "outputs": [
        {
          "data": {
            "text/plain": [
              "array([-7.69012215e+01, -6.49288160e+00, -5.74182178e-01, -1.52679723e+00,\n",
              "       -5.43324555e-01, -1.29329803e+00, -1.18185219e+00, -2.59659006e-01,\n",
              "        3.90794469e-04, -1.42850865e-01, -2.83489472e-01, -3.32329969e-01,\n",
              "       -1.84998776e-01])"
            ]
          },
          "execution_count": 6,
          "metadata": {},
          "output_type": "execute_result"
        }
      ],
      "source": [
        "train_features_mfccs[0, :]"
      ]
    },
    {
      "cell_type": "code",
      "execution_count": 7,
      "metadata": {},
      "outputs": [],
      "source": [
        "scaler = StandardScaler()\n",
        "train_features_mfccs_scaled = scaler.fit_transform(train_features_mfccs)\n",
        "test_features_mfccs_scaled = scaler.transform(test_features_mfccs)"
      ]
    },
    {
      "cell_type": "markdown",
      "metadata": {},
      "source": [
        "MFCCs - RF"
      ]
    },
    {
      "cell_type": "code",
      "execution_count": 8,
      "metadata": {},
      "outputs": [
        {
          "name": "stdout",
          "output_type": "stream",
          "text": [
            "Training time: 8.23 seconds\n",
            "Test Accuracy: 85.40%\n"
          ]
        }
      ],
      "source": [
        "start_time = time.time()\n",
        "\n",
        "rf_classifier = RandomForestClassifier(n_estimators=100, criterion='gini', max_depth=None, \n",
        "                                       min_samples_split=2, min_samples_leaf=1, min_weight_fraction_leaf=0.0, \n",
        "                                       max_features='sqrt', max_leaf_nodes=None, min_impurity_decrease=0.0, \n",
        "                                       bootstrap=False, oob_score=False, n_jobs=None, random_state=42, verbose=0, \n",
        "                                       warm_start=False, class_weight=None, ccp_alpha=0.0, max_samples=None, monotonic_cst=None)\n",
        "rf_classifier.fit(train_features_mfccs_scaled, train_labels_mfccs)\n",
        "\n",
        "end_time = time.time()\n",
        "print(f\"Training time: {end_time - start_time:.2f} seconds\")\n",
        "\n",
        "test_predictions = rf_classifier.predict(test_features_mfccs_scaled)\n",
        "test_accuracy_mfccs_rf = accuracy_score(test_labels_mfccs, test_predictions)\n",
        "print(f\"Test Accuracy: {test_accuracy_mfccs_rf * 100:.2f}%\")\n"
      ]
    },
    {
      "cell_type": "markdown",
      "metadata": {},
      "source": [
        "Tuning bootstrap=False from 92% to 92.38%"
      ]
    },
    {
      "cell_type": "markdown",
      "metadata": {},
      "source": [
        "MFCCs - SVM"
      ]
    },
    {
      "cell_type": "code",
      "execution_count": 9,
      "metadata": {},
      "outputs": [
        {
          "name": "stdout",
          "output_type": "stream",
          "text": [
            "Training time: 6.90 seconds\n",
            "Test Accuracy (SVM with RBF Kernel): 84.96%\n"
          ]
        }
      ],
      "source": [
        "start_time = time.time()\n",
        "\n",
        "svm_rbf_classifier = SVC(C=10, kernel='rbf', degree=3, gamma=1, coef0=0.0, shrinking=True, \n",
        "                         probability=False, tol=0.001, cache_size=200, class_weight=None, verbose=False, \n",
        "                         max_iter=-1, decision_function_shape='ovr', break_ties=False, random_state=42)\n",
        "\n",
        "# Huấn luyện mô hình SVM\n",
        "svm_rbf_classifier.fit(train_features_mfccs, train_labels_mfccs)\n",
        "\n",
        "end_time = time.time()\n",
        "print(f\"Training time: {end_time - start_time:.2f} seconds\")\n",
        "\n",
        "# Đánh giá mô hình trên bộ testing\n",
        "test_predictions_svm_rbf = svm_rbf_classifier.predict(test_features_mfccs)\n",
        "test_accuracy_mfccs_svm = accuracy_score(test_labels_mfccs, test_predictions_svm_rbf)\n",
        "print(f\"Test Accuracy (SVM with RBF Kernel): {test_accuracy_mfccs_svm * 100:.2f}%\")"
      ]
    },
    {
      "cell_type": "code",
      "execution_count": 10,
      "metadata": {},
      "outputs": [
        {
          "name": "stdout",
          "output_type": "stream",
          "text": [
            "Training time: 7.44 seconds\n",
            "Test Accuracy (SVM with RBF Kernel): 85.11%\n"
          ]
        }
      ],
      "source": [
        "start_time = time.time()\n",
        "\n",
        "# Khởi tạo mô hình SVM với data scaling\n",
        "svm_rbf_classifier = SVC(C=10, kernel='rbf', degree=3, gamma=1, coef0=0.0, shrinking=True, \n",
        "                         probability=False, tol=0.001, cache_size=200, class_weight=None, verbose=False, \n",
        "                         max_iter=-1, decision_function_shape='ovr', break_ties=False, random_state=42)\n",
        "\n",
        "# Huấn luyện mô hình SVM\n",
        "svm_rbf_classifier.fit(train_features_mfccs_scaled, train_labels_mfccs)\n",
        "\n",
        "end_time = time.time()\n",
        "print(f\"Training time: {end_time - start_time:.2f} seconds\")\n",
        "\n",
        "# Đánh giá mô hình trên bộ testing\n",
        "test_predictions_svm_rbf = svm_rbf_classifier.predict(test_features_mfccs_scaled)\n",
        "scale_test_accuracy_mfccs_svm = accuracy_score(test_labels_mfccs, test_predictions_svm_rbf)\n",
        "print(f\"Test Accuracy (SVM with RBF Kernel): {scale_test_accuracy_mfccs_svm * 100:.2f}%\")"
      ]
    },
    {
      "cell_type": "markdown",
      "metadata": {},
      "source": [
        "Scaling data improve from 94% to 94.05%"
      ]
    },
    {
      "cell_type": "markdown",
      "metadata": {},
      "source": [
        "MFCCs - LR"
      ]
    },
    {
      "cell_type": "code",
      "execution_count": 11,
      "metadata": {},
      "outputs": [
        {
          "name": "stdout",
          "output_type": "stream",
          "text": [
            "Training time: 0.16 seconds\n",
            "Test Accuracy (Logistic Regression): 68.37%\n"
          ]
        }
      ],
      "source": [
        "start_time = time.time()\n",
        "\n",
        "# Khởi tạo mô hình Logistic Regression\n",
        "lr_classifier = LogisticRegression(penalty='l2', dual=False, tol=0.0001, C=1.0, fit_intercept=True, intercept_scaling=1, \n",
        "                                   class_weight=None, random_state=42, solver='liblinear', max_iter=100, multi_class='deprecated', \n",
        "                                   verbose=0, warm_start=False, n_jobs=None, l1_ratio=None)\n",
        "\n",
        "# Huấn luyện mô hình Logistic Regression với dữ liệu đã chuẩn hóa\n",
        "lr_classifier.fit(train_features_mfccs, train_labels_mfccs)\n",
        "\n",
        "end_time = time.time()\n",
        "print(f\"Training time: {end_time - start_time:.2f} seconds\")\n",
        "\n",
        "# Đánh giá mô hình trên bộ testing\n",
        "test_predictions_lr = lr_classifier.predict(test_features_mfccs)\n",
        "test_accuracy_mfccs_lr = accuracy_score(test_labels_mfccs, test_predictions_lr)\n",
        "print(f\"Test Accuracy (Logistic Regression): {test_accuracy_mfccs_lr * 100:.2f}%\")"
      ]
    },
    {
      "cell_type": "code",
      "execution_count": 12,
      "metadata": {},
      "outputs": [
        {
          "name": "stdout",
          "output_type": "stream",
          "text": [
            "Training time: 0.10 seconds\n",
            "Test Accuracy (Logistic Regression): 68.33%\n"
          ]
        }
      ],
      "source": [
        "start_time = time.time()\n",
        "\n",
        "# Khởi tạo mô hình Logistic Regression với data scaling\n",
        "lr_classifier = LogisticRegression(penalty='l2', dual=False, tol=0.0001, C=1.0, fit_intercept=True, intercept_scaling=1, \n",
        "                                   class_weight=None, random_state=42, solver='liblinear', max_iter=100, multi_class='deprecated', \n",
        "                                   verbose=0, warm_start=False, n_jobs=None, l1_ratio=None)\n",
        "\n",
        "# Huấn luyện mô hình Logistic Regression với dữ liệu đã chuẩn hóa\n",
        "lr_classifier.fit(train_features_mfccs_scaled, train_labels_mfccs)\n",
        "\n",
        "end_time = time.time()\n",
        "print(f\"Training time: {end_time - start_time:.2f} seconds\")\n",
        "\n",
        "# Đánh giá mô hình trên bộ testing\n",
        "test_predictions_lr = lr_classifier.predict(test_features_mfccs_scaled)\n",
        "scale_test_accuracy_mfccs_lr = accuracy_score(test_labels_mfccs, test_predictions_lr)\n",
        "print(f\"Test Accuracy (Logistic Regression): {scale_test_accuracy_mfccs_lr * 100:.2f}%\")"
      ]
    },
    {
      "cell_type": "markdown",
      "metadata": {},
      "source": [
        "Tuned the LR model but still only has 73.28% accuracy -> problem with feature extraction method?"
      ]
    },
    {
      "cell_type": "markdown",
      "metadata": {},
      "source": [
        "MFCCs - ET"
      ]
    },
    {
      "cell_type": "code",
      "execution_count": 13,
      "metadata": {},
      "outputs": [
        {
          "name": "stdout",
          "output_type": "stream",
          "text": [
            "Training time: 5.43 seconds\n",
            "Test Accuracy (Extra Trees): 85.43%\n"
          ]
        }
      ],
      "source": [
        "start_time = time.time()\n",
        "\n",
        "# Khởi tạo mô hình Extra Trees \n",
        "et_classifier = ExtraTreesClassifier(n_estimators=200, criterion='gini', max_depth=30, min_samples_split=2, min_samples_leaf=1, \n",
        "                                     min_weight_fraction_leaf=0.0, max_features=None, max_leaf_nodes=None, min_impurity_decrease=0.0,\n",
        "                                     bootstrap=False, oob_score=False, n_jobs=None, random_state=42, verbose=0, warm_start=False, \n",
        "                                     class_weight=None, ccp_alpha=0.0, max_samples=None, monotonic_cst=None)\n",
        "\n",
        "et_classifier.fit(train_features_mfccs, train_labels_mfccs)\n",
        "\n",
        "end_time = time.time()\n",
        "print(f\"Training time: {end_time - start_time:.2f} seconds\")\n",
        "\n",
        "# Đánh giá mô hình trên bộ testing\n",
        "test_predictions_et = et_classifier.predict(test_features_mfccs)\n",
        "test_accuracy_mfccs_et = accuracy_score(test_labels_mfccs, test_predictions_et)\n",
        "print(f\"Test Accuracy (Extra Trees): {test_accuracy_mfccs_et * 100:.2f}%\")\n"
      ]
    },
    {
      "cell_type": "code",
      "execution_count": 14,
      "metadata": {},
      "outputs": [
        {
          "name": "stdout",
          "output_type": "stream",
          "text": [
            "Training time: 5.67 seconds\n",
            "Test Accuracy (Extra Trees): 85.51%\n"
          ]
        }
      ],
      "source": [
        "start_time = time.time()\n",
        "\n",
        "# Khởi tạo mô hình Extra Trees với data scaling\n",
        "et_classifier = ExtraTreesClassifier(n_estimators=200, criterion='gini', max_depth=30, min_samples_split=2, min_samples_leaf=1, \n",
        "                                     min_weight_fraction_leaf=0.0, max_features=None, max_leaf_nodes=None, min_impurity_decrease=0.0,\n",
        "                                     bootstrap=False, oob_score=False, n_jobs=None, random_state=42, verbose=0, warm_start=False, \n",
        "                                     class_weight=None, ccp_alpha=0.0, max_samples=None, monotonic_cst=None)\n",
        "\n",
        "# Huấn luyện mô hình Extra Trees với dữ liệu đã chuẩn hóa\n",
        "et_classifier.fit(train_features_mfccs_scaled, train_labels_mfccs)\n",
        "\n",
        "end_time = time.time()\n",
        "print(f\"Training time: {end_time - start_time:.2f} seconds\")\n",
        "\n",
        "# Đánh giá mô hình trên bộ testing\n",
        "test_predictions_et = et_classifier.predict(test_features_mfccs_scaled)\n",
        "scale_test_accuracy_mfccs_et = accuracy_score(test_labels_mfccs, test_predictions_et)\n",
        "print(f\"Test Accuracy (Extra Trees): {scale_test_accuracy_mfccs_et * 100:.2f}%\")\n"
      ]
    },
    {
      "cell_type": "markdown",
      "metadata": {},
      "source": [
        "Model tuning improved from 92.53% to 92.97%"
      ]
    },
    {
      "cell_type": "markdown",
      "metadata": {},
      "source": [
        "MFCCs - KNN"
      ]
    },
    {
      "cell_type": "code",
      "execution_count": 15,
      "metadata": {},
      "outputs": [
        {
          "name": "stdout",
          "output_type": "stream",
          "text": [
            "Training time: 0.03 seconds\n",
            "Test Accuracy (KNN): 85.00%\n"
          ]
        }
      ],
      "source": [
        "start_time = time.time()\n",
        "\n",
        "knn_classifier = KNeighborsClassifier(n_neighbors=5, weights='uniform', algorithm='auto', leaf_size=30, p=2, \n",
        "                                      metric='minkowski', metric_params=None, n_jobs=None)\n",
        "\n",
        "# Huấn luyện mô hình KNN với dữ liệu đã chuẩn hóa\n",
        "knn_classifier.fit(train_features_mfccs, train_labels_mfccs)\n",
        "\n",
        "end_time = time.time()\n",
        "print(f\"Training time: {end_time - start_time:.2f} seconds\")\n",
        "\n",
        "# Đánh giá mô hình trên bộ testing\n",
        "test_predictions_knn = knn_classifier.predict(test_features_mfccs)\n",
        "test_accuracy_mfccs_knn = accuracy_score(test_labels_mfccs, test_predictions_knn)\n",
        "print(f\"Test Accuracy (KNN): {test_accuracy_mfccs_knn * 100:.2f}%\")"
      ]
    },
    {
      "cell_type": "code",
      "execution_count": 16,
      "metadata": {},
      "outputs": [
        {
          "name": "stdout",
          "output_type": "stream",
          "text": [
            "Training time: 0.02 seconds\n",
            "Test Accuracy (KNN): 83.59%\n"
          ]
        }
      ],
      "source": [
        "start_time = time.time()\n",
        "\n",
        "knn_classifier = KNeighborsClassifier(n_neighbors=5, weights='uniform', algorithm='auto', leaf_size=30, p=2, \n",
        "                                      metric='minkowski', metric_params=None, n_jobs=None)\n",
        "\n",
        "# Huấn luyện mô hình KNN với dữ liệu đã chuẩn hóa\n",
        "knn_classifier.fit(train_features_mfccs_scaled, train_labels_mfccs)\n",
        "\n",
        "end_time = time.time()\n",
        "print(f\"Training time: {end_time - start_time:.2f} seconds\")\n",
        "\n",
        "# Đánh giá mô hình trên bộ testing\n",
        "test_predictions_knn = knn_classifier.predict(test_features_mfccs_scaled)\n",
        "scale_test_accuracy_mfccs_knn = accuracy_score(test_labels_mfccs, test_predictions_knn)\n",
        "print(f\"Test Accuracy (KNN): {scale_test_accuracy_mfccs_knn * 100:.2f}%\")"
      ]
    },
    {
      "cell_type": "markdown",
      "metadata": {},
      "source": [
        "# FFTs (with pre-emphasis, framing, windowing)"
      ]
    },
    {
      "cell_type": "code",
      "execution_count": 17,
      "metadata": {},
      "outputs": [],
      "source": [
        "def pre_emphasis(signal_in, pre_emph=0.97):\n",
        "    \"\"\"\n",
        "    Áp dụng pre-emphasis để nhấn mạnh các tần số cao.\n",
        "    \"\"\"\n",
        "    return np.append(signal_in[0], signal_in[1:] - pre_emph * signal_in[:-1])\n",
        "\n",
        "def framing(signal_in, sample_rate, frame_size=0.025, frame_stride=0.01):\n",
        "    \"\"\"\n",
        "    Chia tín hiệu thành các frame có kích thước và bước nhảy xác định.\n",
        "    \"\"\"\n",
        "    frame_length = int(round(frame_size * sample_rate))\n",
        "    frame_step = int(round(frame_stride * sample_rate))\n",
        "    signal_length = len(signal_in)\n",
        "    num_frames = int(np.ceil(np.abs(signal_length - frame_length) / frame_step)) + 1\n",
        "\n",
        "    pad_signal_length = num_frames * frame_step + frame_length\n",
        "    z = np.zeros((pad_signal_length - signal_length))\n",
        "    pad_signal = np.append(signal_in, z)\n",
        "\n",
        "    indices = np.tile(np.arange(0, frame_length), (num_frames, 1)) + \\\n",
        "              np.tile(np.arange(0, num_frames * frame_step, frame_step), (frame_length, 1)).T\n",
        "    frames = pad_signal[indices.astype(np.int32, copy=False)]\n",
        "    return frames\n",
        "\n",
        "def windowing(frames):\n",
        "    \"\"\"\n",
        "    Áp dụng cửa sổ Hamming cho mỗi frame.\n",
        "    \"\"\"\n",
        "    frame_length = frames.shape[1]\n",
        "    hamming = np.hamming(frame_length)\n",
        "    return frames * hamming\n",
        "\n",
        "def fft_frames(frames, NFFT=512):\n",
        "    \"\"\"\n",
        "    Tính FFT cho mỗi frame và lấy giá trị magnitude.\n",
        "    \"\"\"\n",
        "    return np.absolute(np.fft.rfft(frames, NFFT))\n",
        "\n",
        "def compute_fft_features(signal_in, sample_rate, frame_size=0.025, frame_stride=0.01, NFFT=512, apply_log=True):\n",
        "    \"\"\"\n",
        "    Tính toán đặc trưng FFT cho tín hiệu âm thanh:\n",
        "      - Pre-emphasis, Framing, Windowing.\n",
        "      - Tính FFT cho từng frame và lấy giá trị magnitude.\n",
        "      - Trung bình các frame để có vector đặc trưng ổn định.\n",
        "      - (Tùy chọn) Áp dụng log để giảm phạm vi giá trị.\n",
        "      \n",
        "    Trả về: vector đặc trưng có kích thước (NFFT/2+1,).\n",
        "    \"\"\"\n",
        "    emphasized_signal = pre_emphasis(signal_in)\n",
        "    frames = framing(emphasized_signal, sample_rate, frame_size, frame_stride)\n",
        "    windowed_frames = windowing(frames)\n",
        "    mag_frames = fft_frames(windowed_frames, NFFT)\n",
        "    fft_feature = np.mean(mag_frames, axis=0)  # Trung bình theo các frame\n",
        "    if apply_log:\n",
        "        fft_feature = np.log(fft_feature + 1e-8)  # Thêm epsilon để tránh log(0)\n",
        "    return fft_feature\n"
      ]
    },
    {
      "cell_type": "code",
      "execution_count": 18,
      "metadata": {},
      "outputs": [],
      "source": [
        "def load_fft_features_from_directory(directory, sample_rate=22050, NFFT=512, output_dir=None, dataset_type='train'):\n",
        "    \"\"\"\n",
        "    Duyệt qua các file âm thanh trong thư mục và tính đặc trưng FFT cho mỗi file.\n",
        "    Giả sử trong directory có hai thư mục con: 'Queen' và 'NonQueen'.\n",
        "    \n",
        "    Trả về:\n",
        "      - features: mảng đặc trưng (mỗi đặc trưng có kích thước NFFT/2+1)\n",
        "      - labels: nhãn tương ứng.\n",
        "    \"\"\"\n",
        "    # Kiểm tra nếu file đã tồn tại, thì load lại\n",
        "    features_file = os.path.join(output_dir, f'fft3_features_{dataset_type}.pkl')\n",
        "    labels_file = os.path.join(output_dir, f'fft3_labels_{dataset_type}.pkl')\n",
        "    \n",
        "    if os.path.exists(features_file) and os.path.exists(labels_file):\n",
        "        print(f\"Loading {dataset_type} data from .pkl files...\")\n",
        "        features = joblib.load(features_file)\n",
        "        labels = joblib.load(labels_file)\n",
        "    else:\n",
        "        print(f\"Extracting {dataset_type} data...\")\n",
        "        start_time = time.time()\n",
        "        labels = []\n",
        "        features = []\n",
        "        \n",
        "        for label in ['bee', 'nobee', 'noqueen']:\n",
        "            path = os.path.join(directory, label)\n",
        "            for file in os.listdir(path):\n",
        "                file_path = os.path.join(path, file)\n",
        "                signal, sr = librosa.load(file_path, sr=sample_rate)\n",
        "                fft_feature = compute_fft_features(signal, sr, NFFT=NFFT)\n",
        "                features.append(fft_feature)\n",
        "                labels.append(label)\n",
        "        \n",
        "        features = np.array(features)\n",
        "        labels = np.array(labels)\n",
        "        \n",
        "        # Lưu dữ liệu vào file .pkl nếu chưa tồn tại\n",
        "        if output_dir:\n",
        "            joblib.dump(features, features_file)\n",
        "            joblib.dump(labels, labels_file)\n",
        "        \n",
        "        end_time = time.time()\n",
        "        print(f\"FFT extraction time: {end_time - start_time:.2f} seconds\")\n",
        "    \n",
        "    return features, labels"
      ]
    },
    {
      "cell_type": "code",
      "execution_count": 19,
      "metadata": {},
      "outputs": [
        {
          "name": "stdout",
          "output_type": "stream",
          "text": [
            "Loading train data from .pkl files...\n",
            "Loading val data from .pkl files...\n",
            "Loading test data from .pkl files...\n"
          ]
        }
      ],
      "source": [
        "train_features_fft, train_labels_fft = load_fft_features_from_directory(train_path, sample_rate=22050, NFFT=512, output_dir=output_dir, dataset_type='train')\n",
        "val_features_fft, val_labels_fft = load_fft_features_from_directory(val_path, sample_rate=22050, NFFT=512, output_dir=output_dir, dataset_type='val')\n",
        "test_features_fft, test_labels_fft = load_fft_features_from_directory(test_path, sample_rate=22050, NFFT=512, output_dir=output_dir, dataset_type='test')\n",
        "\n",
        "train_features_fft = np.vstack((train_features_fft, val_features_fft))\n",
        "train_labels_fft = np.hstack((train_labels_fft, val_labels_fft))"
      ]
    },
    {
      "cell_type": "code",
      "execution_count": 20,
      "metadata": {},
      "outputs": [],
      "source": [
        "scaler = StandardScaler()\n",
        "train_features_fft_scaled = scaler.fit_transform(train_features_fft)\n",
        "test_features_fft_scaled = scaler.transform(test_features_fft)"
      ]
    },
    {
      "cell_type": "markdown",
      "metadata": {},
      "source": [
        "FFTs - KNN"
      ]
    },
    {
      "cell_type": "code",
      "execution_count": 21,
      "metadata": {},
      "outputs": [
        {
          "name": "stdout",
          "output_type": "stream",
          "text": [
            "Training time: 0.01 seconds\n",
            "KNN (FFT features) - Test Accuracy: 86.52%\n"
          ]
        }
      ],
      "source": [
        "start_time = time.time()\n",
        "\n",
        "knn_classifier = KNeighborsClassifier(n_neighbors=5)\n",
        "knn_classifier.fit(train_features_fft, train_labels_fft)\n",
        "\n",
        "end_time = time.time()\n",
        "print(f\"Training time: {end_time - start_time:.2f} seconds\")\n",
        "\n",
        "test_accuracy_fft_knn = knn_classifier.predict(test_features_fft)\n",
        "print(f\"KNN (FFT features) - Test Accuracy: {accuracy_score(test_labels_fft, test_accuracy_fft_knn)*100:.2f}%\")"
      ]
    },
    {
      "cell_type": "markdown",
      "metadata": {},
      "source": [
        "94.25% to 95.15%, pre_emph = 0.98 => 95.28"
      ]
    },
    {
      "cell_type": "code",
      "execution_count": 22,
      "metadata": {},
      "outputs": [
        {
          "name": "stdout",
          "output_type": "stream",
          "text": [
            "Training time: 0.01 seconds\n",
            "KNN (FFT features) - Test Accuracy: 85.18%\n"
          ]
        }
      ],
      "source": [
        "start_time = time.time()\n",
        "\n",
        "knn_classifier = KNeighborsClassifier(n_neighbors=5)\n",
        "knn_classifier.fit(train_features_fft_scaled, train_labels_fft)\n",
        "\n",
        "end_time = time.time()\n",
        "print(f\"Training time: {end_time - start_time:.2f} seconds\")\n",
        "\n",
        "test_accuracy_fft_knn = knn_classifier.predict(test_features_fft_scaled)\n",
        "print(f\"KNN (FFT features) - Test Accuracy: {accuracy_score(test_labels_fft, test_accuracy_fft_knn)*100:.2f}%\")"
      ]
    },
    {
      "cell_type": "markdown",
      "metadata": {},
      "source": [
        "94.25%, pre_emph = 0.98 => 94.42"
      ]
    },
    {
      "cell_type": "markdown",
      "metadata": {},
      "source": [
        "FFTs - SVM"
      ]
    },
    {
      "cell_type": "code",
      "execution_count": 23,
      "metadata": {},
      "outputs": [
        {
          "name": "stdout",
          "output_type": "stream",
          "text": [
            "Training time: 9.19 seconds\n",
            "Test Accuracy (SVM with RBF Kernel): 87.72%\n"
          ]
        }
      ],
      "source": [
        "start_time = time.time()\n",
        "\n",
        "svm_rbf_classifier = SVC(C=100, kernel='rbf', degree=3, gamma=0.1, coef0=0.0, shrinking=True, \n",
        "                         probability=False, tol=0.001, cache_size=200, class_weight=None, verbose=False, \n",
        "                         max_iter=-1, decision_function_shape='ovr', break_ties=False, random_state=42)\n",
        "\n",
        "# Huấn luyện mô hình SVM\n",
        "svm_rbf_classifier.fit(train_features_fft, train_labels_fft)\n",
        "\n",
        "end_time = time.time()\n",
        "print(f\"Training time: {end_time - start_time:.2f} seconds\")\n",
        "\n",
        "# Đánh giá mô hình trên bộ testing\n",
        "test_predictions_svm_rbf = svm_rbf_classifier.predict(test_features_fft)\n",
        "test_accuracy_fft_svm = accuracy_score(test_labels_fft, test_predictions_svm_rbf)\n",
        "print(f\"Test Accuracy (SVM with RBF Kernel): {test_accuracy_fft_svm * 100:.2f}%\")"
      ]
    },
    {
      "cell_type": "markdown",
      "metadata": {},
      "source": [
        "97.47%"
      ]
    },
    {
      "cell_type": "code",
      "execution_count": 24,
      "metadata": {},
      "outputs": [
        {
          "name": "stdout",
          "output_type": "stream",
          "text": [
            "Training time: 11.59 seconds\n",
            "Test Accuracy (SVM with RBF Kernel): 87.36%\n"
          ]
        }
      ],
      "source": [
        "start_time = time.time()\n",
        "\n",
        "svm_rbf_classifier = SVC(C=100, kernel='rbf', degree=3, gamma=0.1, coef0=0.0, shrinking=True, \n",
        "                         probability=False, tol=0.001, cache_size=200, class_weight=None, verbose=False, \n",
        "                         max_iter=-1, decision_function_shape='ovr', break_ties=False, random_state=42)\n",
        "\n",
        "# Huấn luyện mô hình SVM\n",
        "svm_rbf_classifier.fit(train_features_fft_scaled, train_labels_fft)\n",
        "\n",
        "end_time = time.time()\n",
        "print(f\"Training time: {end_time - start_time:.2f} seconds\")\n",
        "\n",
        "# Đánh giá mô hình trên bộ testing\n",
        "test_predictions_svm_rbf = svm_rbf_classifier.predict(test_features_fft_scaled)\n",
        "scale_test_accuracy_fft_svm = accuracy_score(test_labels_fft, test_predictions_svm_rbf)\n",
        "print(f\"Test Accuracy (SVM with RBF Kernel): {scale_test_accuracy_fft_svm * 100:.2f}%\")"
      ]
    },
    {
      "cell_type": "markdown",
      "metadata": {},
      "source": [
        "97.82"
      ]
    },
    {
      "cell_type": "markdown",
      "metadata": {},
      "source": [
        "FFTs - LR"
      ]
    },
    {
      "cell_type": "code",
      "execution_count": 25,
      "metadata": {},
      "outputs": [
        {
          "name": "stdout",
          "output_type": "stream",
          "text": [
            "Training time: 5.23 seconds\n",
            "Logistic Regression (FFT features) - Test Accuracy: 79.93%\n"
          ]
        },
        {
          "name": "stderr",
          "output_type": "stream",
          "text": [
            "c:\\Users\\dinhg\\anaconda3\\envs\\AI\\lib\\site-packages\\sklearn\\linear_model\\_logistic.py:465: ConvergenceWarning: lbfgs failed to converge (status=1):\n",
            "STOP: TOTAL NO. OF ITERATIONS REACHED LIMIT.\n",
            "\n",
            "Increase the number of iterations (max_iter) or scale the data as shown in:\n",
            "    https://scikit-learn.org/stable/modules/preprocessing.html\n",
            "Please also refer to the documentation for alternative solver options:\n",
            "    https://scikit-learn.org/stable/modules/linear_model.html#logistic-regression\n",
            "  n_iter_i = _check_optimize_result(\n"
          ]
        }
      ],
      "source": [
        "start_time = time.time()\n",
        "\n",
        "lr_classifier = LogisticRegression(penalty='l2', dual=False, tol=0.0001, C=10, fit_intercept=True, intercept_scaling=1, \n",
        "                                   class_weight=None, random_state=42, solver='lbfgs', max_iter=1500, multi_class='deprecated', \n",
        "                                   verbose=0, warm_start=False, n_jobs=None, l1_ratio=None)\n",
        "lr_classifier.fit(train_features_fft, train_labels_fft)\n",
        "\n",
        "end_time = time.time()\n",
        "print(f\"Training time: {end_time - start_time:.2f} seconds\")\n",
        "\n",
        "test_accuracy_fft_lr = lr_classifier.predict(test_features_fft)\n",
        "print(f\"Logistic Regression (FFT features) - Test Accuracy: {accuracy_score(test_labels_fft, test_accuracy_fft_lr)*100:.2f}%\")\n"
      ]
    },
    {
      "cell_type": "code",
      "execution_count": 26,
      "metadata": {},
      "outputs": [
        {
          "name": "stdout",
          "output_type": "stream",
          "text": [
            "Training time: 92.75 seconds\n",
            "Logistic Regression (FFT features) - Test Accuracy: 80.18%\n"
          ]
        },
        {
          "name": "stderr",
          "output_type": "stream",
          "text": [
            "c:\\Users\\dinhg\\anaconda3\\envs\\AI\\lib\\site-packages\\sklearn\\linear_model\\_sag.py:348: ConvergenceWarning: The max_iter was reached which means the coef_ did not converge\n",
            "  warnings.warn(\n"
          ]
        }
      ],
      "source": [
        "start_time = time.time()\n",
        "\n",
        "lr_classifier = LogisticRegression(penalty='l2', dual=False, tol=0.0001, C=10, fit_intercept=True, intercept_scaling=1, \n",
        "                                   class_weight=None, random_state=42, solver='saga', max_iter=1000, multi_class='deprecated', \n",
        "                                   verbose=0, warm_start=False, n_jobs=None, l1_ratio=None)\n",
        "\n",
        "lr_classifier.fit(train_features_fft_scaled, train_labels_fft)\n",
        "\n",
        "end_time = time.time()\n",
        "print(f\"Training time: {end_time - start_time:.2f} seconds\")\n",
        "\n",
        "scale_test_accuracy_fft_lr = lr_classifier.predict(test_features_fft_scaled)\n",
        "print(f\"Logistic Regression (FFT features) - Test Accuracy: {accuracy_score(test_labels_fft, scale_test_accuracy_fft_lr)*100:.2f}%\")\n"
      ]
    },
    {
      "cell_type": "markdown",
      "metadata": {},
      "source": [
        "Tuning from 85.97% to 86.05%\n",
        "\n",
        "Using min max scaling -> 86.08%\n",
        "\n",
        "But Non-scaling data working better -> 86.33%"
      ]
    },
    {
      "cell_type": "markdown",
      "metadata": {},
      "source": [
        "FFTs - RF"
      ]
    },
    {
      "cell_type": "code",
      "execution_count": 27,
      "metadata": {},
      "outputs": [
        {
          "name": "stdout",
          "output_type": "stream",
          "text": [
            "Training time: 28.82 seconds\n",
            "Random Forest (FFT features) - Test Accuracy: 84.38%\n"
          ]
        }
      ],
      "source": [
        "start_time = time.time()\n",
        "\n",
        "rf_classifier = RandomForestClassifier(n_estimators=100, criterion='gini', max_depth=None, min_samples_split=2, \n",
        "                                       min_samples_leaf=1, min_weight_fraction_leaf=0.0, max_features='sqrt', \n",
        "                                       max_leaf_nodes=None, min_impurity_decrease=0.0, bootstrap=True, oob_score=False, \n",
        "                                       n_jobs=None, random_state=42, verbose=0, warm_start=False, class_weight=None, \n",
        "                                       ccp_alpha=0.0, max_samples=None, monotonic_cst=None)\n",
        "\n",
        "rf_classifier.fit(train_features_fft, train_labels_fft)\n",
        "\n",
        "end_time = time.time()\n",
        "print(f\"Training time: {end_time - start_time:.2f} seconds\")\n",
        "\n",
        "test_accuracy_fft_rf = rf_classifier.predict(test_features_fft)\n",
        "print(f\"Random Forest (FFT features) - Test Accuracy: {accuracy_score(test_labels_fft, test_accuracy_fft_rf)*100:.2f}%\")"
      ]
    },
    {
      "cell_type": "markdown",
      "metadata": {},
      "source": [
        "Not tuning yet"
      ]
    },
    {
      "cell_type": "markdown",
      "metadata": {},
      "source": [
        "FFTs - ET"
      ]
    },
    {
      "cell_type": "code",
      "execution_count": 28,
      "metadata": {},
      "outputs": [
        {
          "name": "stdout",
          "output_type": "stream",
          "text": [
            "Training time: 84.08 seconds\n",
            "Test Accuracy (Extra Trees): 86.59%\n"
          ]
        }
      ],
      "source": [
        "start_time = time.time()\n",
        "\n",
        "et_classifier = ExtraTreesClassifier(n_estimators=200, criterion='gini', max_depth=30, min_samples_split=2, min_samples_leaf=1, \n",
        "                                     min_weight_fraction_leaf=0.0, max_features=None, max_leaf_nodes=None, min_impurity_decrease=0.0,\n",
        "                                     bootstrap=False, oob_score=False, n_jobs=None, random_state=42, verbose=0, warm_start=False, \n",
        "                                     class_weight=None, ccp_alpha=0.0, max_samples=None, monotonic_cst=None)\n",
        "\n",
        "# Huấn luyện mô hình Extra Trees với dữ liệu đã chuẩn hóa\n",
        "et_classifier.fit(train_features_fft, train_labels_fft)\n",
        "\n",
        "end_time = time.time()\n",
        "print(f\"Training time: {end_time - start_time:.2f} seconds\")\n",
        "\n",
        "# Đánh giá mô hình trên bộ testing\n",
        "test_predictions_et = et_classifier.predict(test_features_fft)\n",
        "test_accuracy_fft_et = accuracy_score(test_labels_fft, test_predictions_et)\n",
        "print(f\"Test Accuracy (Extra Trees): {test_accuracy_fft_et * 100:.2f}%\")\n"
      ]
    },
    {
      "cell_type": "code",
      "execution_count": 29,
      "metadata": {},
      "outputs": [
        {
          "name": "stdout",
          "output_type": "stream",
          "text": [
            "Training time: 87.75 seconds\n",
            "Test Accuracy (Extra Trees): 86.59%\n"
          ]
        }
      ],
      "source": [
        "start_time = time.time()\n",
        "\n",
        "et_classifier = ExtraTreesClassifier(n_estimators=200, criterion='gini', max_depth=30, min_samples_split=2, min_samples_leaf=1, \n",
        "                                     min_weight_fraction_leaf=0.0, max_features=None, max_leaf_nodes=None, min_impurity_decrease=0.0,\n",
        "                                     bootstrap=False, oob_score=False, n_jobs=None, random_state=42, verbose=0, warm_start=False, \n",
        "                                     class_weight=None, ccp_alpha=0.0, max_samples=None, monotonic_cst=None)\n",
        "\n",
        "# Huấn luyện mô hình Extra Trees với dữ liệu đã chuẩn hóa\n",
        "et_classifier.fit(train_features_fft_scaled, train_labels_fft)\n",
        "\n",
        "end_time = time.time()\n",
        "print(f\"Training time: {end_time - start_time:.2f} seconds\")\n",
        "\n",
        "# Đánh giá mô hình trên bộ testing\n",
        "test_predictions_et = et_classifier.predict(test_features_fft_scaled)\n",
        "scale_test_accuracy_fft_et = accuracy_score(test_labels_fft, test_predictions_et)\n",
        "print(f\"Test Accuracy (Extra Trees): {scale_test_accuracy_fft_et * 100:.2f}%\")\n"
      ]
    },
    {
      "cell_type": "markdown",
      "metadata": {},
      "source": [
        "93.95% -> 95.80% beautifull"
      ]
    },
    {
      "cell_type": "markdown",
      "metadata": {},
      "source": [
        "# FFTs + MFCC"
      ]
    },
    {
      "cell_type": "code",
      "execution_count": 44,
      "metadata": {},
      "outputs": [],
      "source": [
        "def pre_emphasis(signal_in, pre_emph=0.97):\n",
        "    \"\"\"\n",
        "    Áp dụng pre-emphasis để nhấn mạnh các tần số cao.\n",
        "    \"\"\"\n",
        "    return np.append(signal_in[0], signal_in[1:] - pre_emph * signal_in[:-1])\n",
        "\n",
        "def framing(signal_in, sample_rate, frame_size=0.025, frame_stride=0.01):\n",
        "    \"\"\"\n",
        "    Chia tín hiệu thành các frame có kích thước và bước nhảy xác định.\n",
        "    \"\"\"\n",
        "    frame_length = int(round(frame_size * sample_rate))\n",
        "    frame_step = int(round(frame_stride * sample_rate))\n",
        "    signal_length = len(signal_in)\n",
        "    num_frames = int(np.ceil(np.abs(signal_length - frame_length) / frame_step)) + 1\n",
        "\n",
        "    pad_signal_length = num_frames * frame_step + frame_length\n",
        "    z = np.zeros((pad_signal_length - signal_length))\n",
        "    pad_signal = np.append(signal_in, z)\n",
        "\n",
        "    indices = np.tile(np.arange(0, frame_length), (num_frames, 1)) + \\\n",
        "              np.tile(np.arange(0, num_frames * frame_step, frame_step), (frame_length, 1)).T\n",
        "    frames = pad_signal[indices.astype(np.int32, copy=False)]\n",
        "    return frames\n",
        "\n",
        "def windowing(frames):\n",
        "    \"\"\"\n",
        "    Áp dụng cửa sổ Hamming cho mỗi frame.\n",
        "    \"\"\"\n",
        "    frame_length = frames.shape[1]\n",
        "    hamming = np.hamming(frame_length)\n",
        "    return frames * hamming\n",
        "\n",
        "def fft_frames(frames, NFFT=512):\n",
        "    \"\"\"\n",
        "    Tính FFT cho mỗi frame và lấy giá trị magnitude.\n",
        "    \"\"\"\n",
        "    return np.absolute(np.fft.rfft(frames, NFFT))\n",
        "\n",
        "def compute_fft_features(signal_in, sample_rate, frame_size=0.025, frame_stride=0.01, NFFT=512, apply_log=True):\n",
        "    \"\"\"\n",
        "    Tính toán đặc trưng FFT cho tín hiệu âm thanh.\n",
        "    \"\"\"\n",
        "    emphasized_signal = pre_emphasis(signal_in)\n",
        "    frames = framing(emphasized_signal, sample_rate, frame_size, frame_stride)\n",
        "    windowed_frames = windowing(frames)\n",
        "    mag_frames = fft_frames(windowed_frames, NFFT)\n",
        "    fft_feature = np.mean(mag_frames, axis=0)\n",
        "    if apply_log:\n",
        "        fft_feature = np.log(fft_feature + 1e-8)\n",
        "    return fft_feature\n",
        "\n",
        "def compute_mfcc_features(signal_in, sample_rate, n_mfcc=13):\n",
        "    \"\"\"\n",
        "    Tính toán đặc trưng MFCC cho tín hiệu âm thanh sử dụng thư viện librosa.\n",
        "    \"\"\"\n",
        "    # Trích xuất MFCC sử dụng librosa\n",
        "    mfccs = librosa.feature.mfcc(y=signal_in, sr=sample_rate, n_mfcc=n_mfcc)\n",
        "    # Lấy trung bình theo các frame (theo thời gian)\n",
        "    mfcc_features = np.mean(mfccs, axis=1)\n",
        "    return mfcc_features\n",
        "\n",
        "def compute_fft_mfcc(signal_in, sample_rate, frame_size=0.025, frame_stride=0.01, NFFT=512, n_mfcc=13):\n",
        "    \"\"\"\n",
        "    Kết hợp đặc trưng FFT và MFCC thành một vector duy nhất.\n",
        "    \n",
        "    Args:\n",
        "        signal_in: Tín hiệu âm thanh đầu vào\n",
        "        sample_rate: Tần số lấy mẫu\n",
        "        frame_size: Kích thước frame (giây)\n",
        "        frame_stride: Bước nhảy giữa các frame (giây)\n",
        "        NFFT: Kích thước FFT\n",
        "        n_mfcc: Số lượng hệ số MFCC\n",
        "        \n",
        "    Returns:\n",
        "        Vector đặc trưng kết hợp FFT và MFCC\n",
        "    \"\"\"\n",
        "    # Tính toán đặc trưng FFT\n",
        "    fft_features = compute_fft_features(signal_in, sample_rate, frame_size, frame_stride, NFFT)\n",
        "    \n",
        "    # Tính toán đặc trưng MFCC\n",
        "    mfcc_features = compute_mfcc_features(signal_in, sample_rate, n_mfcc)\n",
        "    \n",
        "    # Kết hợp 2 đặc trưng\n",
        "    fft_mfcc = np.concatenate((fft_features, mfcc_features))\n",
        "    \n",
        "    return fft_mfcc\n",
        "\n",
        "def load_fft_mfcc_from_directory(directory, sample_rate=22050, NFFT=512, n_mfcc=13, \n",
        "                                       output_dir=None, dataset_type='train'):\n",
        "    \"\"\"\n",
        "    Duyệt qua các file âm thanh trong thư mục và tính toán đặc trưng kết hợp (FFT + MFCC).\n",
        "    \n",
        "    Args:\n",
        "        directory: Thư mục chứa file âm thanh\n",
        "        sample_rate: Tần số lấy mẫu\n",
        "        NFFT: Kích thước FFT\n",
        "        n_mfcc: Số lượng hệ số MFCC\n",
        "        output_dir: Thư mục lưu file đặc trưng\n",
        "        dataset_type: Loại dữ liệu (train, val, test)\n",
        "        \n",
        "    Returns:\n",
        "        features: Mảng đặc trưng kết hợp\n",
        "        labels: Nhãn tương ứng\n",
        "    \"\"\"\n",
        "    # Kiểm tra nếu file đã tồn tại\n",
        "    features_file = os.path.join(output_dir, f'fft_mfcc_{dataset_type}2.pkl')\n",
        "    labels_file = os.path.join(output_dir, f'fft_mfcc_labels_{dataset_type}2.pkl')\n",
        "    \n",
        "    if os.path.exists(features_file) and os.path.exists(labels_file):\n",
        "        print(f\"Loading combined {dataset_type} data from .pkl files...\")\n",
        "        features = joblib.load(features_file)\n",
        "        labels = joblib.load(labels_file)\n",
        "    else:\n",
        "        print(f\"Extracting combined features for {dataset_type} data...\")\n",
        "        start_time = time.time()\n",
        "        labels = []\n",
        "        features = []\n",
        "        \n",
        "        for label in ['bee', 'nobee', 'noqueen']:\n",
        "            path = os.path.join(directory, label)\n",
        "            for file in os.listdir(path):\n",
        "                file_path = os.path.join(path, file)\n",
        "                signal, sr = librosa.load(file_path, sr=sample_rate)\n",
        "                \n",
        "                # Tính toán đặc trưng kết hợp\n",
        "                combined_feature = compute_fft_mfcc(signal, sr, NFFT=NFFT, n_mfcc=n_mfcc)\n",
        "                \n",
        "                features.append(combined_feature)\n",
        "                labels.append(label)\n",
        "        \n",
        "        features = np.array(features)\n",
        "        labels = np.array(labels)\n",
        "        \n",
        "        # Lưu dữ liệu vào file\n",
        "        if output_dir:\n",
        "            joblib.dump(features, features_file)\n",
        "            joblib.dump(labels, labels_file)\n",
        "        \n",
        "        end_time = time.time()\n",
        "        print(f\"Combined feature extraction time: {end_time - start_time:.2f} seconds\")\n",
        "    \n",
        "    return features, labels"
      ]
    },
    {
      "cell_type": "code",
      "execution_count": 45,
      "metadata": {},
      "outputs": [
        {
          "name": "stdout",
          "output_type": "stream",
          "text": [
            "Loading combined train data from .pkl files...\n"
          ]
        },
        {
          "name": "stdout",
          "output_type": "stream",
          "text": [
            "Loading combined val data from .pkl files...\n",
            "Loading combined test data from .pkl files...\n"
          ]
        }
      ],
      "source": [
        "train_fft_mfcc, train_fft_mfcc_labels = load_fft_mfcc_from_directory(\n",
        "    train_path, sample_rate=22050, NFFT=512, n_mfcc=70, output_dir=output_dir, dataset_type='train')\n",
        "val_fft_mfcc, val_fft_mfcc_labels = load_fft_mfcc_from_directory(\n",
        "    val_path, sample_rate=22050, NFFT=512, n_mfcc=70, output_dir=output_dir, dataset_type='val')\n",
        "test_fft_mfcc, test_fft_mfcc_labels = load_fft_mfcc_from_directory(\n",
        "    test_path, sample_rate=22050, NFFT=512, n_mfcc=70, output_dir=output_dir, dataset_type='test')\n",
        "\n",
        "train_fft_mfcc = np.vstack((train_fft_mfcc, val_fft_mfcc))\n",
        "train_fft_mfcc_labels = np.hstack((train_fft_mfcc_labels, val_fft_mfcc_labels))\n"
      ]
    },
    {
      "cell_type": "code",
      "execution_count": 46,
      "metadata": {},
      "outputs": [
        {
          "name": "stdout",
          "output_type": "stream",
          "text": [
            "Combined feature shape: (11032, 327)\n"
          ]
        }
      ],
      "source": [
        "print(f\"Combined feature shape: {train_fft_mfcc.shape}\")"
      ]
    },
    {
      "cell_type": "code",
      "execution_count": 47,
      "metadata": {},
      "outputs": [],
      "source": [
        "scaler = StandardScaler()\n",
        "train_fft_mfcc_scaled = scaler.fit_transform(train_fft_mfcc)\n",
        "test_fft_mfcc_scaled = scaler.transform(test_fft_mfcc)"
      ]
    },
    {
      "cell_type": "code",
      "execution_count": 48,
      "metadata": {},
      "outputs": [
        {
          "name": "stdout",
          "output_type": "stream",
          "text": [
            "Training time: 51.47 seconds\n",
            "Test Accuracy: 86.78%\n"
          ]
        }
      ],
      "source": [
        "start_time = time.time()\n",
        "\n",
        "rf_classifier = RandomForestClassifier(n_estimators=100, criterion='gini', max_depth=None, \n",
        "                                       min_samples_split=2, min_samples_leaf=1, min_weight_fraction_leaf=0.0, \n",
        "                                       max_features='sqrt', max_leaf_nodes=None, min_impurity_decrease=0.0, \n",
        "                                       bootstrap=False, oob_score=False, n_jobs=None, random_state=42, verbose=0, \n",
        "                                       warm_start=False, class_weight=None, ccp_alpha=0.0, max_samples=None, monotonic_cst=None)\n",
        "rf_classifier.fit(train_fft_mfcc_scaled, train_fft_mfcc_labels)\n",
        "\n",
        "end_time = time.time()\n",
        "print(f\"Training time: {end_time - start_time:.2f} seconds\")\n",
        "\n",
        "test_predictions = rf_classifier.predict(test_fft_mfcc_scaled)\n",
        "test_accuracy_mfcc_rf = accuracy_score(test_fft_mfcc_labels, test_predictions)\n",
        "print(f\"Test Accuracy: {test_accuracy_mfcc_rf * 100:.2f}%\")\n"
      ]
    },
    {
      "cell_type": "code",
      "execution_count": 51,
      "metadata": {},
      "outputs": [],
      "source": [
        "import numpy as np\n",
        "import pandas as pd\n",
        "import matplotlib.pyplot as plt\n",
        "import seaborn as sns\n",
        "from sklearn.feature_selection import SelectFromModel\n",
        "\n",
        "def get_feature_importance(rf_model, feature_names=None):\n",
        "    \"\"\"\n",
        "    Extract feature importances from a trained Random Forest classifier\n",
        "    \n",
        "    Args:\n",
        "        rf_model: Trained RandomForestClassifier model\n",
        "        feature_names: Optional list of feature names\n",
        "        \n",
        "    Returns:\n",
        "        DataFrame with feature names and importance scores, sorted by importance\n",
        "    \"\"\"\n",
        "    # Get feature importances\n",
        "    importances = rf_model.feature_importances_\n",
        "    \n",
        "    # Create feature names if not provided\n",
        "    if feature_names is None:\n",
        "        feature_names = [f\"feature_{i}\" for i in range(len(importances))]\n",
        "    \n",
        "    # Create DataFrame for better visualization\n",
        "    feature_importance_df = pd.DataFrame({\n",
        "        'Feature': feature_names,\n",
        "        'Importance': importances\n",
        "    })\n",
        "    \n",
        "    # Sort by importance\n",
        "    feature_importance_df = feature_importance_df.sort_values(\n",
        "        by='Importance', ascending=False\n",
        "    ).reset_index(drop=True)\n",
        "    \n",
        "    return feature_importance_df\n",
        "\n",
        "def plot_feature_importance(importance_df, top_n=20, figsize=(12, 8)):\n",
        "    \"\"\"\n",
        "    Plot the top N most important features\n",
        "    \n",
        "    Args:\n",
        "        importance_df: DataFrame with feature importances\n",
        "        top_n: Number of top features to plot\n",
        "        figsize: Figure size (width, height)\n",
        "    \"\"\"\n",
        "    # Get top N features\n",
        "    plot_data = importance_df.head(top_n)\n",
        "    \n",
        "    plt.figure(figsize=figsize)\n",
        "    sns.barplot(x='Importance', y='Feature', data=plot_data)\n",
        "    plt.title(f'Top {top_n} Feature Importance')\n",
        "    plt.tight_layout()\n",
        "    plt.show()\n",
        "\n",
        "def select_top_features(X, rf_model, top_n=None, threshold=None):\n",
        "    \"\"\"\n",
        "    Select top features based on importance from Random Forest model\n",
        "    \n",
        "    Args:\n",
        "        X: Original feature matrix\n",
        "        rf_model: Trained RandomForestClassifier model\n",
        "        top_n: Number of top features to select (optional)\n",
        "        threshold: Minimum importance threshold (optional)\n",
        "        \n",
        "    Returns:\n",
        "        X_reduced: Feature matrix with only selected features\n",
        "        selected_indices: Indices of selected features\n",
        "    \"\"\"\n",
        "    if top_n is not None:\n",
        "        # Get indices of top N features\n",
        "        indices = np.argsort(rf_model.feature_importances_)[::-1][:top_n]\n",
        "        X_reduced = X[:, indices]\n",
        "        return X_reduced, indices\n",
        "    \n",
        "    elif threshold is not None:\n",
        "        # Use scikit-learn's SelectFromModel\n",
        "        sfm = SelectFromModel(rf_model, threshold=threshold)\n",
        "        X_reduced = sfm.fit_transform(X, None)\n",
        "        selected_indices = np.where(sfm.get_support())[0]\n",
        "        return X_reduced, selected_indices\n",
        "    \n",
        "    else:\n",
        "        raise ValueError(\"Either top_n or threshold must be specified\")\n",
        "\n",
        "# Example usage (add this to your code)\n",
        "def analyze_feature_importance(rf_classifier, X_train, X_test, train_labels, test_labels, \n",
        "                              n_features_to_select=100):\n",
        "    \"\"\"\n",
        "    Analyze feature importance, select top features and evaluate model performance\n",
        "    \n",
        "    Args:\n",
        "        rf_classifier: Trained RandomForestClassifier model\n",
        "        X_train: Training feature matrix\n",
        "        X_test: Testing feature matrix\n",
        "        train_labels: Training labels\n",
        "        test_labels: Testing labels\n",
        "        n_features_to_select: Number of top features to select\n",
        "        \n",
        "    Returns:\n",
        "        top_features_df: DataFrame with top features and their importance\n",
        "        X_train_reduced: Reduced training feature matrix\n",
        "        X_test_reduced: Reduced testing feature matrix\n",
        "        selected_indices: Indices of selected features\n",
        "    \"\"\"\n",
        "    # Generate feature names (assuming combined FFT and MFCC features)\n",
        "    n_features = X_train.shape[1]\n",
        "    n_fft = n_features - 70  # Assuming 70 MFCC features as per your code\n",
        "    feature_names = [f\"FFT_{i}\" for i in range(n_fft)]\n",
        "    feature_names.extend([f\"MFCC_{i}\" for i in range(70)])\n",
        "    \n",
        "    # Get and plot feature importance\n",
        "    importance_df = get_feature_importance(rf_classifier, feature_names)\n",
        "    plot_feature_importance(importance_df, top_n=20)\n",
        "    \n",
        "    # Select top features\n",
        "    X_train_reduced, selected_indices = select_top_features(\n",
        "        X_train, rf_classifier, top_n=n_features_to_select\n",
        "    )\n",
        "    X_test_reduced = X_test[:, selected_indices]\n",
        "    \n",
        "    # Train a new model with reduced features\n",
        "    from sklearn.ensemble import RandomForestClassifier\n",
        "    from sklearn.metrics import accuracy_score\n",
        "    \n",
        "    rf_reduced = RandomForestClassifier(n_estimators=100, random_state=42, bootstrap=False)\n",
        "    rf_reduced.fit(X_train_reduced, train_labels)\n",
        "    \n",
        "    # Evaluate\n",
        "    test_pred_reduced = rf_reduced.predict(X_test_reduced)\n",
        "    test_accuracy_reduced = accuracy_score(test_labels, test_pred_reduced)\n",
        "    \n",
        "    print(f\"Original model features: {n_features}\")\n",
        "    print(f\"Reduced model features: {n_features_to_select}\")\n",
        "    print(f\"Reduced model test accuracy: {test_accuracy_reduced * 100:.2f}%\")\n",
        "    \n",
        "    return importance_df, X_train_reduced, X_test_reduced, selected_indices"
      ]
    },
    {
      "cell_type": "code",
      "execution_count": 52,
      "metadata": {},
      "outputs": [
        {
          "data": {
            "image/png": "[encoded data removed]",
            "text/plain": [
              "<Figure size 1200x800 with 1 Axes>"
            ]
          },
          "metadata": {},
          "output_type": "display_data"
        },
        {
          "name": "stdout",
          "output_type": "stream",
          "text": [
            "Original model features: 327\n",
            "Reduced model features: 200\n",
            "Reduced model test accuracy: 87.36%\n",
            "Top 10 most important features:\n",
            "   Feature  Importance\n",
            "0  MFCC_14    0.018421\n",
            "1    FFT_4    0.018178\n",
            "2   FFT_69    0.016804\n",
            "3  MFCC_27    0.015205\n",
            "4    FFT_1    0.015100\n",
            "5    FFT_8    0.014367\n",
            "6  FFT_187    0.013932\n",
            "7   MFCC_3    0.013469\n",
            "8    FFT_2    0.013074\n",
            "9   MFCC_0    0.012829\n",
            "\n",
            "Classification Report for Optimized Model:\n",
            "              precision    recall  f1-score   support\n",
            "\n",
            "         bee       0.89      0.96      0.92      1095\n",
            "       nobee       0.85      0.61      0.71       692\n",
            "     noqueen       0.86      0.97      0.91       973\n",
            "\n",
            "    accuracy                           0.87      2760\n",
            "   macro avg       0.87      0.84      0.85      2760\n",
            "weighted avg       0.87      0.87      0.87      2760\n",
            "\n"
          ]
        }
      ],
      "source": [
        "# After training your Random Forest model, analyze feature importance\n",
        "importance_df, train_reduced, test_reduced, selected_indices = analyze_feature_importance(\n",
        "    rf_classifier,\n",
        "    train_fft_mfcc_scaled,\n",
        "    test_fft_mfcc_scaled,\n",
        "    train_fft_mfcc_labels,\n",
        "    test_fft_mfcc_labels,\n",
        "    n_features_to_select=200  # Select top 100 features\n",
        ")\n",
        "\n",
        "# Save the important features for future use\n",
        "top_features_file = os.path.join(output_dir, 'top_features.pkl')\n",
        "joblib.dump({\n",
        "    'importance_df': importance_df,\n",
        "    'selected_indices': selected_indices\n",
        "}, top_features_file)\n",
        "\n",
        "print(\"Top 10 most important features:\")\n",
        "print(importance_df.head(10))\n",
        "\n",
        "# Optional: Train a new model with only the most important features\n",
        "from sklearn.ensemble import RandomForestClassifier\n",
        "from sklearn.metrics import classification_report\n",
        "\n",
        "rf_optimized = RandomForestClassifier(\n",
        "    n_estimators=100, \n",
        "    criterion='gini',\n",
        "    bootstrap=False,\n",
        "    random_state=42\n",
        ")\n",
        "\n",
        "rf_optimized.fit(train_reduced, train_fft_mfcc_labels)\n",
        "test_pred_optimized = rf_optimized.predict(test_reduced)\n",
        "\n",
        "print(\"\\nClassification Report for Optimized Model:\")\n",
        "print(classification_report(test_fft_mfcc_labels, test_pred_optimized))"
      ]
    },
    {
      "cell_type": "markdown",
      "metadata": {},
      "source": [
        "87.07"
      ]
    },
    {
      "cell_type": "code",
      "execution_count": 53,
      "metadata": {},
      "outputs": [
        {
          "name": "stdout",
          "output_type": "stream",
          "text": [
            "Training time: 14.23 seconds\n",
            "Test Accuracy (Logistic Regression): 81.20%\n"
          ]
        }
      ],
      "source": [
        "start_time = time.time()\n",
        "\n",
        "# Khởi tạo mô hình Logistic Regression với data scaling\n",
        "lr_classifier = LogisticRegression(penalty='l2', dual=False, tol=0.0001, C=1.0, fit_intercept=True, intercept_scaling=1, \n",
        "                                   class_weight=None, random_state=42, solver='liblinear', max_iter=100, multi_class='deprecated', \n",
        "                                   verbose=0, warm_start=False, n_jobs=None, l1_ratio=None)\n",
        "\n",
        "# Huấn luyện mô hình Logistic Regression với dữ liệu đã chuẩn hóa\n",
        "lr_classifier.fit(train_fft_mfcc_scaled, train_fft_mfcc_labels)\n",
        "\n",
        "end_time = time.time()\n",
        "print(f\"Training time: {end_time - start_time:.2f} seconds\")\n",
        "\n",
        "# Đánh giá mô hình trên bộ testing\n",
        "test_predictions_lr = lr_classifier.predict(test_fft_mfcc_scaled)\n",
        "scale_test_accuracy_mfcc_lr = accuracy_score(test_fft_mfcc_labels, test_predictions_lr)\n",
        "print(f\"Test Accuracy (Logistic Regression): {scale_test_accuracy_mfcc_lr * 100:.2f}%\")"
      ]
    },
    {
      "cell_type": "code",
      "execution_count": 54,
      "metadata": {},
      "outputs": [
        {
          "name": "stdout",
          "output_type": "stream",
          "text": [
            "Training time: 113.87 seconds\n",
            "Test Accuracy (Extra Trees): 87.83%\n"
          ]
        }
      ],
      "source": [
        "start_time = time.time()\n",
        "\n",
        "# Khởi tạo mô hình Extra Trees \n",
        "et_classifier = ExtraTreesClassifier(n_estimators=200, criterion='gini', max_depth=30, min_samples_split=2, min_samples_leaf=1, \n",
        "                                     min_weight_fraction_leaf=0.0, max_features=None, max_leaf_nodes=None, min_impurity_decrease=0.0,\n",
        "                                     bootstrap=False, oob_score=False, n_jobs=None, random_state=42, verbose=0, warm_start=False, \n",
        "                                     class_weight=None, ccp_alpha=0.0, max_samples=None, monotonic_cst=None)\n",
        "\n",
        "et_classifier.fit(train_fft_mfcc, train_fft_mfcc_labels)\n",
        "\n",
        "end_time = time.time()\n",
        "print(f\"Training time: {end_time - start_time:.2f} seconds\")\n",
        "\n",
        "# Đánh giá mô hình trên bộ testing\n",
        "test_predictions_et = et_classifier.predict(test_fft_mfcc)\n",
        "test_accuracy_mfcc_et = accuracy_score(test_fft_mfcc_labels, test_predictions_et)\n",
        "print(f\"Test Accuracy (Extra Trees): {test_accuracy_mfcc_et * 100:.2f}%\")\n"
      ]
    },
    {
      "cell_type": "code",
      "execution_count": 55,
      "metadata": {},
      "outputs": [
        {
          "name": "stdout",
          "output_type": "stream",
          "text": [
            "Training time: 0.02 seconds\n",
            "Test Accuracy (KNN): 87.21%\n"
          ]
        }
      ],
      "source": [
        "start_time = time.time()\n",
        "\n",
        "knn_classifier = KNeighborsClassifier(n_neighbors=5, weights='uniform', algorithm='auto', leaf_size=30, p=2, \n",
        "                                      metric='minkowski', metric_params=None, n_jobs=None)\n",
        "\n",
        "# Huấn luyện mô hình KNN với dữ liệu đã chuẩn hóa\n",
        "knn_classifier.fit(train_fft_mfcc_scaled, train_fft_mfcc_labels)\n",
        "\n",
        "end_time = time.time()\n",
        "print(f\"Training time: {end_time - start_time:.2f} seconds\")\n",
        "\n",
        "# Đánh giá mô hình trên bộ testing\n",
        "test_predictions_knn = knn_classifier.predict(test_fft_mfcc_scaled)\n",
        "scale_test_accuracy_mfcc_knn = accuracy_score(test_fft_mfcc_labels, test_predictions_knn)\n",
        "print(f\"Test Accuracy (KNN): {scale_test_accuracy_mfcc_knn * 100:.2f}%\")"
      ]
    },
    {
      "cell_type": "code",
      "execution_count": 56,
      "metadata": {},
      "outputs": [
        {
          "name": "stdout",
          "output_type": "stream",
          "text": [
            "Training time: 7.35 seconds\n",
            "Test Accuracy (SVM with RBF Kernel): 86.30%\n"
          ]
        }
      ],
      "source": [
        "start_time = time.time()\n",
        "\n",
        "svm_rbf_classifier = SVC(C=8.31, kernel='rbf', degree=3, gamma='auto', coef0=0.0, shrinking=True, \n",
        "                         probability=False, tol=0.001, cache_size=200, class_weight=None, verbose=False, \n",
        "                         max_iter=-1, decision_function_shape='ovr', break_ties=False, random_state=42)\n",
        "\n",
        "# Huấn luyện mô hình SVM\n",
        "svm_rbf_classifier.fit(train_fft_mfcc_scaled, train_fft_mfcc_labels)\n",
        "\n",
        "end_time = time.time()\n",
        "print(f\"Training time: {end_time - start_time:.2f} seconds\")\n",
        "\n",
        "# Đánh giá mô hình trên bộ testing\n",
        "test_predictions_svm_rbf = svm_rbf_classifier.predict(test_fft_mfcc_scaled)\n",
        "scale_test_accuracy_mfcc_svm = accuracy_score(test_fft_mfcc_labels, test_predictions_svm_rbf)\n",
        "print(f\"Test Accuracy (SVM with RBF Kernel): {scale_test_accuracy_mfcc_svm * 100:.2f}%\")"
      ]
    },
    {
      "cell_type": "markdown",
      "metadata": {},
      "source": [
        "# MFCC"
      ]
    },
    {
      "cell_type": "code",
      "execution_count": 57,
      "metadata": {},
      "outputs": [],
      "source": [
        "def compute_mfcc(file_path, n_mfcc=13):\n",
        "    y, sr = librosa.load(file_path, sr=16000)\n",
        "    mfcc = librosa.feature.mfcc(y=y, sr=sr, n_mfcc=n_mfcc, dct_type=2, norm='ortho', lifter=0)\n",
        "    return mfcc"
      ]
    },
    {
      "cell_type": "code",
      "execution_count": 58,
      "metadata": {},
      "outputs": [
        {
          "name": "stdout",
          "output_type": "stream",
          "text": [
            "Loading train data from .pkl files...\n",
            "Loading val data from .pkl files...\n",
            "Loading test data from .pkl files...\n"
          ]
        }
      ],
      "source": [
        "def extract_mfcc_features(directory, sample_rate=22050, output_dir=None, dataset_type='train', reduce_dimension=True):\n",
        "    # Kiểm tra nếu file đã tồn tại, thì load lại\n",
        "    features_file = os.path.join(output_dir, f'mfcc2_features_{dataset_type}.pkl')\n",
        "    labels_file = os.path.join(output_dir, f'mfcc2_labels_{dataset_type}.pkl')\n",
        "    data_file = os.path.join(output_dir, f'mfcc2_data_{dataset_type}.pkl')\n",
        "    \n",
        "    if os.path.exists(features_file) and os.path.exists(labels_file) and os.path.exists(data_file):\n",
        "        print(f\"Loading {dataset_type} data from .pkl files...\")\n",
        "        features = joblib.load(features_file)\n",
        "        labels = joblib.load(labels_file)\n",
        "        data = joblib.load(data_file)\n",
        "    else:\n",
        "        print(f\"Extracting {dataset_type} data...\")\n",
        "        start_time = time.time()\n",
        "        labels = []\n",
        "        features = []\n",
        "        data = []  # Thêm một biến để lưu dữ liệu đầu vào (có thể là tín hiệu, ví dụ như signal hoặc các thông tin khác)\n",
        "        \n",
        "        for label in ['bee', 'nobee', 'noqueen']:\n",
        "            path = os.path.join(directory, label)\n",
        "            for file in os.listdir(path):\n",
        "                file_path = os.path.join(path, file)\n",
        "                mfcc = compute_mfcc(file_path=file_path, n_mfcc=70)  # Chiết xuất MFCC cho mỗi tệp âm thanh\n",
        "                features.append(mfcc)  # Lưu ma trận MFCC cho mỗi tệp âm thanh\n",
        "                labels.append(label)\n",
        "        \n",
        "        features = np.array(features)\n",
        "        labels = np.array(labels)\n",
        "        data = np.array(data)  # Chuyển dữ liệu sang dạng numpy array nếu cần lưu\n",
        "        \n",
        "        # Nếu cần giảm chiều theo axis=2\n",
        "        if reduce_dimension:\n",
        "            features = np.mean(features, axis=2)\n",
        "        \n",
        "        if output_dir:\n",
        "            # Lưu từng đối tượng riêng biệt cho train/val/test\n",
        "            joblib.dump(features, features_file)\n",
        "            joblib.dump(labels, labels_file)\n",
        "            joblib.dump(data, data_file)  # Lưu tín hiệu âm thanh hoặc dữ liệu\n",
        "        \n",
        "        end_time = time.time()\n",
        "        print(f\"MFCC extraction time: {end_time - start_time:.2f} seconds\")\n",
        "    \n",
        "    return features, labels, data\n",
        "\n",
        "# Gọi hàm với tham số reduce_dimension=True để giảm chiều ngay khi gọi hàm\n",
        "train_features_mfcc, train_labels_mfcc, train_data_mfcc = extract_mfcc_features(train_path, output_dir=output_dir, dataset_type='train')\n",
        "val_features_mfcc, val_labels_mfcc, val_data_mfcc = extract_mfcc_features(val_path, output_dir=output_dir, dataset_type='val')\n",
        "test_features_mfcc, test_labels_mfcc, test_data_mfcc = extract_mfcc_features(test_path, output_dir=output_dir, dataset_type='test')\n",
        "\n",
        "train_features_mfcc = np.vstack((train_features_mfcc, val_features_mfcc))\n",
        "train_labels_mfcc = np.hstack((train_labels_mfcc, val_labels_mfcc))"
      ]
    },
    {
      "cell_type": "code",
      "execution_count": 59,
      "metadata": {},
      "outputs": [
        {
          "data": {
            "text/plain": [
              "(11032, 70)"
            ]
          },
          "execution_count": 59,
          "metadata": {},
          "output_type": "execute_result"
        }
      ],
      "source": [
        "train_features_mfcc.shape"
      ]
    },
    {
      "cell_type": "code",
      "execution_count": 60,
      "metadata": {},
      "outputs": [],
      "source": [
        "scaler = StandardScaler()\n",
        "train_features_mfcc_scaled = scaler.fit_transform(train_features_mfcc)\n",
        "test_features_mfcc_scaled = scaler.transform(test_features_mfcc)"
      ]
    },
    {
      "cell_type": "code",
      "execution_count": 61,
      "metadata": {},
      "outputs": [
        {
          "name": "stdout",
          "output_type": "stream",
          "text": [
            "Training time: 23.16 seconds\n",
            "Test Accuracy: 86.45%\n"
          ]
        }
      ],
      "source": [
        "start_time = time.time()\n",
        "\n",
        "rf_classifier = RandomForestClassifier(n_estimators=100, criterion='gini', max_depth=None, \n",
        "                                       min_samples_split=2, min_samples_leaf=1, min_weight_fraction_leaf=0.0, \n",
        "                                       max_features='sqrt', max_leaf_nodes=None, min_impurity_decrease=0.0, \n",
        "                                       bootstrap=False, oob_score=False, n_jobs=None, random_state=42, verbose=0, \n",
        "                                       warm_start=False, class_weight=None, ccp_alpha=0.0, max_samples=None, monotonic_cst=None)\n",
        "rf_classifier.fit(train_features_mfcc_scaled, train_labels_mfcc)\n",
        "\n",
        "end_time = time.time()\n",
        "print(f\"Training time: {end_time - start_time:.2f} seconds\")\n",
        "\n",
        "test_predictions = rf_classifier.predict(test_features_mfcc_scaled)\n",
        "test_accuracy_mfcc_rf = accuracy_score(test_labels_mfcc, test_predictions)\n",
        "print(f\"Test Accuracy: {test_accuracy_mfcc_rf * 100:.2f}%\")\n"
      ]
    },
    {
      "cell_type": "code",
      "execution_count": 62,
      "metadata": {},
      "outputs": [
        {
          "name": "stdout",
          "output_type": "stream",
          "text": [
            "Training time: 0.78 seconds\n",
            "Test Accuracy (Logistic Regression): 79.02%\n"
          ]
        }
      ],
      "source": [
        "start_time = time.time()\n",
        "\n",
        "# Khởi tạo mô hình Logistic Regression với data scaling\n",
        "lr_classifier = LogisticRegression(penalty='l2', dual=False, tol=0.0001, C=1.0, fit_intercept=True, intercept_scaling=1, \n",
        "                                   class_weight=None, random_state=42, solver='liblinear', max_iter=100, multi_class='deprecated', \n",
        "                                   verbose=0, warm_start=False, n_jobs=None, l1_ratio=None)\n",
        "\n",
        "# Huấn luyện mô hình Logistic Regression với dữ liệu đã chuẩn hóa\n",
        "lr_classifier.fit(train_features_mfcc_scaled, train_labels_mfcc)\n",
        "\n",
        "end_time = time.time()\n",
        "print(f\"Training time: {end_time - start_time:.2f} seconds\")\n",
        "\n",
        "# Đánh giá mô hình trên bộ testing\n",
        "test_predictions_lr = lr_classifier.predict(test_features_mfcc_scaled)\n",
        "scale_test_accuracy_mfcc_lr = accuracy_score(test_labels_mfcc, test_predictions_lr)\n",
        "print(f\"Test Accuracy (Logistic Regression): {scale_test_accuracy_mfcc_lr * 100:.2f}%\")"
      ]
    },
    {
      "cell_type": "code",
      "execution_count": 63,
      "metadata": {},
      "outputs": [
        {
          "name": "stdout",
          "output_type": "stream",
          "text": [
            "Training time: 23.96 seconds\n",
            "Test Accuracy (Extra Trees): 87.10%\n"
          ]
        }
      ],
      "source": [
        "start_time = time.time()\n",
        "\n",
        "# Khởi tạo mô hình Extra Trees \n",
        "et_classifier = ExtraTreesClassifier(n_estimators=200, criterion='gini', max_depth=30, min_samples_split=2, min_samples_leaf=1, \n",
        "                                     min_weight_fraction_leaf=0.0, max_features=None, max_leaf_nodes=None, min_impurity_decrease=0.0,\n",
        "                                     bootstrap=False, oob_score=False, n_jobs=None, random_state=42, verbose=0, warm_start=False, \n",
        "                                     class_weight=None, ccp_alpha=0.0, max_samples=None, monotonic_cst=None)\n",
        "\n",
        "et_classifier.fit(train_features_mfcc, train_labels_mfcc)\n",
        "\n",
        "end_time = time.time()\n",
        "print(f\"Training time: {end_time - start_time:.2f} seconds\")\n",
        "\n",
        "# Đánh giá mô hình trên bộ testing\n",
        "test_predictions_et = et_classifier.predict(test_features_mfcc)\n",
        "test_accuracy_mfcc_et = accuracy_score(test_labels_mfcc, test_predictions_et)\n",
        "print(f\"Test Accuracy (Extra Trees): {test_accuracy_mfcc_et * 100:.2f}%\")\n"
      ]
    },
    {
      "cell_type": "code",
      "execution_count": 64,
      "metadata": {},
      "outputs": [
        {
          "name": "stdout",
          "output_type": "stream",
          "text": [
            "Training time: 0.01 seconds\n",
            "Test Accuracy (KNN): 86.12%\n"
          ]
        }
      ],
      "source": [
        "start_time = time.time()\n",
        "\n",
        "knn_classifier = KNeighborsClassifier(n_neighbors=5, weights='uniform', algorithm='auto', leaf_size=30, p=2, \n",
        "                                      metric='minkowski', metric_params=None, n_jobs=None)\n",
        "\n",
        "# Huấn luyện mô hình KNN với dữ liệu đã chuẩn hóa\n",
        "knn_classifier.fit(train_features_mfcc_scaled, train_labels_mfcc)\n",
        "\n",
        "end_time = time.time()\n",
        "print(f\"Training time: {end_time - start_time:.2f} seconds\")\n",
        "\n",
        "# Đánh giá mô hình trên bộ testing\n",
        "test_predictions_knn = knn_classifier.predict(test_features_mfcc_scaled)\n",
        "scale_test_accuracy_mfcc_knn = accuracy_score(test_labels_mfcc, test_predictions_knn)\n",
        "print(f\"Test Accuracy (KNN): {scale_test_accuracy_mfcc_knn * 100:.2f}%\")"
      ]
    },
    {
      "cell_type": "code",
      "execution_count": 65,
      "metadata": {},
      "outputs": [
        {
          "name": "stdout",
          "output_type": "stream",
          "text": [
            "Training time: 4.80 seconds\n",
            "Test Accuracy (SVM with RBF Kernel): 87.46%\n"
          ]
        }
      ],
      "source": [
        "start_time = time.time()\n",
        "\n",
        "svm_rbf_classifier = SVC(C=8.31, kernel='rbf', degree=3, gamma='auto', coef0=0.0, shrinking=True, \n",
        "                         probability=False, tol=0.001, cache_size=200, class_weight=None, verbose=False, \n",
        "                         max_iter=-1, decision_function_shape='ovr', break_ties=False, random_state=42)\n",
        "\n",
        "# Huấn luyện mô hình SVM\n",
        "svm_rbf_classifier.fit(train_features_mfcc_scaled, train_labels_mfcc)\n",
        "\n",
        "end_time = time.time()\n",
        "print(f\"Training time: {end_time - start_time:.2f} seconds\")\n",
        "\n",
        "# Đánh giá mô hình trên bộ testing\n",
        "test_predictions_svm_rbf = svm_rbf_classifier.predict(test_features_mfcc_scaled)\n",
        "scale_test_accuracy_mfcc_svm = accuracy_score(test_labels_mfcc, test_predictions_svm_rbf)\n",
        "print(f\"Test Accuracy (SVM with RBF Kernel): {scale_test_accuracy_mfcc_svm * 100:.2f}%\")"
      ]
    },
    {
      "cell_type": "markdown",
      "metadata": {},
      "source": [
        "98.55%"
      ]
    },
    {
      "cell_type": "markdown",
      "metadata": {},
      "source": [
        "# STFTs"
      ]
    },
    {
      "cell_type": "code",
      "execution_count": 66,
      "metadata": {},
      "outputs": [],
      "source": [
        "import numpy as np\n",
        "import librosa\n",
        "import os\n",
        "\n",
        "def apply_preprocessing(signal_in, sample_rate):\n",
        "    \"\"\"\n",
        "    Apply optional preprocessing steps on the signal:\n",
        "      - Apply pre-emphasis filtering.\n",
        "    \"\"\"\n",
        "    # Pre-emphasis filter: Boosting higher frequencies slightly\n",
        "    pre_emphasis = 0.95\n",
        "    signal_in = np.append(signal_in[0], signal_in[1:] - pre_emphasis * signal_in[:-1])\n",
        "    return signal_in\n",
        "\n",
        "def compute_stfts_features(signal_in, sample_rate, n_fft=2048, hop_length=512, apply_log=True):\n",
        "    \"\"\"\n",
        "    Compute stfts features with improvements:\n",
        "      - Apply windowing (Hanning window).\n",
        "      - Optional log scaling with dynamic range compression.\n",
        "      - Optional normalization and energy-based features.\n",
        "    \"\"\"\n",
        "    # Apply preprocessing (e.g., pre-emphasis)\n",
        "    signal_in = apply_preprocessing(signal_in, sample_rate)\n",
        "    \n",
        "    # Compute stfts with a window function to avoid spectral leakage\n",
        "    stfts_matrix = np.abs(librosa.stft(signal_in, n_fft=n_fft, hop_length=hop_length, window='hann'))\n",
        "    \n",
        "    # Optional: Apply logarithmic scaling (dynamic range compression)\n",
        "    if apply_log:\n",
        "        stfts_matrix = np.log(stfts_matrix + 1e-10)  # More robust epsilon for log scaling\n",
        "\n",
        "    # Feature extraction: Mean and additional energy-based features (e.g., variance)\n",
        "    features_mean = np.mean(stfts_matrix, axis=1)\n",
        "    features_variance = np.var(stfts_matrix, axis=1)\n",
        "    \n",
        "    # Combine mean and variance (you could also add other stats like median or skewness)\n",
        "    features = np.concatenate([features_mean, features_variance], axis=0)\n",
        "\n",
        "    # Normalize the features (optional)\n",
        "    features = (features - np.mean(features)) / np.std(features)  # Z-score normalization\n",
        "\n",
        "    return features\n"
      ]
    },
    {
      "cell_type": "code",
      "execution_count": 67,
      "metadata": {},
      "outputs": [
        {
          "name": "stdout",
          "output_type": "stream",
          "text": [
            "Loading train data from .pkl files...\n",
            "Loading val data from .pkl files...\n",
            "Loading test data from .pkl files...\n"
          ]
        }
      ],
      "source": [
        "def load_stfts_features_from_directory(directory, sample_rate=22050, n_fft=2048, hop_length=512, output_dir=None, dataset_type='train'):\n",
        "    \"\"\"\n",
        "    Load and compute stfts features from audio files in a directory, with improved accuracy.\n",
        "    Assumes 'Queen' and 'NonQueen' subdirectories are present.\n",
        "    \"\"\"\n",
        "    # Kiểm tra nếu file đã tồn tại, thì load lại\n",
        "    features_file = os.path.join(output_dir, f'stfts_features_{dataset_type}.pkl')\n",
        "    labels_file = os.path.join(output_dir, f'stfts_labels_{dataset_type}.pkl')\n",
        "    \n",
        "    if os.path.exists(features_file) and os.path.exists(labels_file):\n",
        "        print(f\"Loading {dataset_type} data from .pkl files...\")\n",
        "        features = joblib.load(features_file)\n",
        "        labels = joblib.load(labels_file)\n",
        "    else:\n",
        "        print(f\"Extracting {dataset_type} data...\")\n",
        "        start_time = time.time()\n",
        "        labels = []\n",
        "        features = []\n",
        "\n",
        "        for label in ['bee', 'nobee', 'noqueen']:\n",
        "            path = os.path.join(directory, label)\n",
        "            for file in os.listdir(path):\n",
        "                file_path = os.path.join(path, file)\n",
        "                # Load audio file\n",
        "                signal, sr = librosa.load(file_path, sr=sample_rate)\n",
        "\n",
        "                # Compute stfts features\n",
        "                stfts_feature = compute_stfts_features(signal, sr, n_fft=n_fft, hop_length=hop_length, apply_log=True)\n",
        "\n",
        "                features.append(stfts_feature)\n",
        "                labels.append(label)\n",
        "\n",
        "        features = np.array(features)\n",
        "        labels = np.array(labels)\n",
        "\n",
        "        # Lưu dữ liệu vào file .pkl nếu chưa tồn tại\n",
        "        if output_dir:\n",
        "            joblib.dump(features, features_file)\n",
        "            joblib.dump(labels, labels_file)\n",
        "\n",
        "        end_time = time.time()\n",
        "        print(f\"STFTs extraction time: {end_time - start_time:.2f} seconds\")\n",
        "    \n",
        "    return features, labels\n",
        "\n",
        "train_features_stfts, train_labels_stfts = load_stfts_features_from_directory(train_path, sample_rate=22050, n_fft=2048, hop_length=512, output_dir=output_dir, dataset_type='train')\n",
        "val_features_stfts, val_labels_stfts = load_stfts_features_from_directory(val_path, sample_rate=22050, n_fft=2048, hop_length=512, output_dir=output_dir, dataset_type='val')\n",
        "test_features_stfts, test_labels_stfts = load_stfts_features_from_directory(test_path, sample_rate=22050, n_fft=2048, hop_length=512, output_dir=output_dir, dataset_type='test')\n",
        "\n",
        "train_features_stfts = np.vstack((train_features_stfts, val_features_stfts))\n",
        "train_labels_stfts = np.hstack((train_labels_stfts, val_labels_stfts))"
      ]
    },
    {
      "cell_type": "code",
      "execution_count": 68,
      "metadata": {},
      "outputs": [],
      "source": [
        "scaler_stfts = StandardScaler()\n",
        "train_features_stfts_scaled = scaler_stfts.fit_transform(train_features_stfts)\n",
        "test_features_stfts_scaled  = scaler_stfts.transform(test_features_stfts)\n"
      ]
    },
    {
      "cell_type": "markdown",
      "metadata": {},
      "source": [
        "STFTs - KNN"
      ]
    },
    {
      "cell_type": "code",
      "execution_count": 69,
      "metadata": {},
      "outputs": [
        {
          "name": "stdout",
          "output_type": "stream",
          "text": [
            "Training time: 0.00 seconds\n",
            "KNN (STFTs) - Test Accuracy: 85.40%\n"
          ]
        }
      ],
      "source": [
        "start_time = time.time()\n",
        "\n",
        "knn_classifier_stfts = KNeighborsClassifier(n_neighbors=3, weights='uniform', algorithm='auto', leaf_size=30, p=2, \n",
        "                                           metric='minkowski', metric_params=None, n_jobs=None)\n",
        "\n",
        "end_time = time.time()\n",
        "print(f\"Training time: {end_time - start_time:.2f} seconds\")\n",
        "\n",
        "knn_classifier_stfts.fit(train_features_stfts, train_labels_stfts)\n",
        "test_pred_stfts_knn = knn_classifier_stfts.predict(test_features_stfts)\n",
        "\n",
        "test_accuracy_stfts_knn = accuracy_score(test_labels_stfts, test_pred_stfts_knn)\n",
        "print(f\"KNN (STFTs) - Test Accuracy: {test_accuracy_stfts_knn*100:.2f}%\")\n"
      ]
    },
    {
      "cell_type": "markdown",
      "metadata": {},
      "source": [
        "Old 95.10%"
      ]
    },
    {
      "cell_type": "code",
      "execution_count": 70,
      "metadata": {},
      "outputs": [
        {
          "name": "stdout",
          "output_type": "stream",
          "text": [
            "Training time: 0.00 seconds\n",
            "KNN (STFTs) - Test Accuracy: 78.37%\n"
          ]
        }
      ],
      "source": [
        "start_time = time.time()\n",
        "\n",
        "knn_classifier_stfts = KNeighborsClassifier(n_neighbors=3, weights='uniform', algorithm='auto', leaf_size=30, p=2, \n",
        "                                           metric='minkowski', metric_params=None, n_jobs=None)\n",
        "\n",
        "end_time = time.time()\n",
        "print(f\"Training time: {end_time - start_time:.2f} seconds\")\n",
        "\n",
        "knn_classifier_stfts.fit(train_features_stfts_scaled, train_labels_stfts)\n",
        "test_pred_stfts_knn = knn_classifier_stfts.predict(test_features_stfts_scaled)\n",
        "\n",
        "test_accuracy_stfts_knn = accuracy_score(test_labels_stfts, test_pred_stfts_knn)\n",
        "print(f\"KNN (STFTs) - Test Accuracy: {test_accuracy_stfts_knn*100:.2f}%\")\n"
      ]
    },
    {
      "cell_type": "markdown",
      "metadata": {},
      "source": [
        "Old 94.50%"
      ]
    },
    {
      "cell_type": "markdown",
      "metadata": {},
      "source": [
        "STFTs - SVM"
      ]
    },
    {
      "cell_type": "code",
      "execution_count": 71,
      "metadata": {},
      "outputs": [
        {
          "name": "stdout",
          "output_type": "stream",
          "text": [
            "Training time: 159.39 seconds\n",
            "Test Accuracy (SVM with RBF Kernel): 82.79%\n"
          ]
        }
      ],
      "source": [
        "start_time = time.time()\n",
        "\n",
        "svm_rbf_classifier = SVC(C=10, kernel='rbf', degree=3, gamma='scale', coef0=0.0, shrinking=True, \n",
        "                         probability=False, tol=0.001, cache_size=200, class_weight=None, verbose=False, \n",
        "                         max_iter=-1, decision_function_shape='ovr', break_ties=False, random_state=42)\n",
        "\n",
        "# Huấn luyện mô hình SVM\n",
        "svm_rbf_classifier.fit(train_features_stfts_scaled, train_labels_stfts)\n",
        "\n",
        "end_time = time.time()\n",
        "print(f\"Training time: {end_time - start_time:.2f} seconds\")\n",
        "\n",
        "# Đánh giá mô hình trên bộ testing\n",
        "test_predictions_svm_rbf = svm_rbf_classifier.predict(test_features_stfts_scaled)\n",
        "scale_test_accuracy_stfts_svm = accuracy_score(test_labels_stfts, test_predictions_svm_rbf)\n",
        "print(f\"Test Accuracy (SVM with RBF Kernel): {scale_test_accuracy_stfts_svm * 100:.2f}%\")"
      ]
    },
    {
      "cell_type": "markdown",
      "metadata": {},
      "source": [
        "STFTs - LR"
      ]
    },
    {
      "cell_type": "code",
      "execution_count": 72,
      "metadata": {},
      "outputs": [
        {
          "name": "stdout",
          "output_type": "stream",
          "text": [
            "Training time: 55.97 seconds\n",
            "Logistic Regression (STFTs) - Test Accuracy: 77.46%\n"
          ]
        }
      ],
      "source": [
        "start_time = time.time()\n",
        "\n",
        "lr_classifier_stfts = LogisticRegression(random_state=42, max_iter=1000, solver='liblinear', penalty= 'l2', C= 0.08858667904100823)\n",
        "lr_classifier_stfts.fit(train_features_stfts_scaled, train_labels_stfts)\n",
        "\n",
        "end_time = time.time()\n",
        "print(f\"Training time: {end_time - start_time:.2f} seconds\")\n",
        "\n",
        "test_pred_stfts_lr = lr_classifier_stfts.predict(test_features_stfts_scaled)\n",
        "\n",
        "test_accuracy_stfts_lr = accuracy_score(test_labels_stfts, test_pred_stfts_lr)\n",
        "print(f\"Logistic Regression (STFTs) - Test Accuracy: {test_accuracy_stfts_lr*100:.2f}%\")"
      ]
    },
    {
      "cell_type": "markdown",
      "metadata": {},
      "source": [
        "STFTs - RF"
      ]
    },
    {
      "cell_type": "code",
      "execution_count": 73,
      "metadata": {},
      "outputs": [
        {
          "name": "stdout",
          "output_type": "stream",
          "text": [
            "Training time: 175.23 seconds\n",
            "Random Forest (STFTs) - Test Accuracy: 83.19%\n"
          ]
        }
      ],
      "source": [
        "start_time = time.time()\n",
        "\n",
        "rf_classifier_stfts = RandomForestClassifier(n_estimators=100, criterion='gini', max_depth=None, \n",
        "                                       min_samples_split=2, min_samples_leaf=1, min_weight_fraction_leaf=0.0, \n",
        "                                       max_features='sqrt', max_leaf_nodes=None, min_impurity_decrease=0.0, \n",
        "                                       bootstrap=False, oob_score=False, n_jobs=None, random_state=42, verbose=0, \n",
        "                                       warm_start=False, class_weight=None, ccp_alpha=0.0, max_samples=None, monotonic_cst=None)\n",
        "\n",
        "rf_classifier_stfts.fit(train_features_stfts, train_labels_stfts)\n",
        "\n",
        "end_time = time.time()\n",
        "print(f\"Training time: {end_time - start_time:.2f} seconds\")\n",
        "\n",
        "test_pred_stfts_rf = rf_classifier_stfts.predict(test_features_stfts)\n",
        "\n",
        "test_accuracy_stfts_rf = accuracy_score(test_labels_stfts, test_pred_stfts_rf)\n",
        "print(f\"Random Forest (STFTs) - Test Accuracy: {test_accuracy_stfts_rf*100:.2f}%\")\n"
      ]
    },
    {
      "cell_type": "markdown",
      "metadata": {},
      "source": [
        "STFTs - ET"
      ]
    },
    {
      "cell_type": "code",
      "execution_count": 74,
      "metadata": {},
      "outputs": [
        {
          "name": "stdout",
          "output_type": "stream",
          "text": [
            "Training time: 195.03 seconds\n",
            "Extra Trees (STFTs) - Test Accuracy: 81.16%\n"
          ]
        }
      ],
      "source": [
        "start_time\n",
        "\n",
        "et_classifier_stfts = ExtraTreesClassifier(n_estimators=100, random_state=42)\n",
        "et_classifier_stfts.fit(train_features_stfts_scaled, train_labels_stfts)\n",
        "\n",
        "end_time = time.time()\n",
        "print(f\"Training time: {end_time - start_time:.2f} seconds\")\n",
        "\n",
        "test_pred_stfts_et = et_classifier_stfts.predict(test_features_stfts_scaled)\n",
        "\n",
        "test_accuracy_stfts_et = accuracy_score(test_labels_stfts, test_pred_stfts_et)\n",
        "print(f\"Extra Trees (STFTs) - Test Accuracy: {test_accuracy_stfts_et*100:.2f}%\")\n"
      ]
    },
    {
      "cell_type": "markdown",
      "metadata": {},
      "source": [
        "# STFT"
      ]
    },
    {
      "cell_type": "code",
      "execution_count": 75,
      "metadata": {},
      "outputs": [],
      "source": [
        "import numpy as np\n",
        "import librosa\n",
        "\n",
        "def compute_stft_features(signal_in, sample_rate, n_fft=2048, hop_length=512, apply_log=True):\n",
        "    \"\"\"\n",
        "    Tính đặc trưng STFT của tín hiệu:\n",
        "      - Tính STFT bằng librosa.stft và lấy giá trị magnitude.\n",
        "      - (Tùy chọn) Áp dụng log scaling.\n",
        "      - Trung bình theo trục thời gian (axis=1) để thu được vector đặc trưng có kích thước (n_fft/2+1,).\n",
        "    \"\"\"\n",
        "    stft_matrix = np.abs(librosa.stft(signal_in, n_fft=n_fft, hop_length=hop_length))\n",
        "    if apply_log:\n",
        "        stft_matrix = np.log(stft_matrix + 1e-8)  # Thêm epsilon để tránh log(0)\n",
        "    # Trung bình theo trục thời gian (tính trung bình các cột)\n",
        "    features = np.mean(stft_matrix, axis=1)\n",
        "    return features"
      ]
    },
    {
      "cell_type": "code",
      "execution_count": 76,
      "metadata": {},
      "outputs": [
        {
          "name": "stdout",
          "output_type": "stream",
          "text": [
            "Loading train data from .pkl files...\n",
            "Loading val data from .pkl files...\n",
            "Loading test data from .pkl files...\n"
          ]
        }
      ],
      "source": [
        "def load_stft_features_from_directory(directory, sample_rate=22050, n_fft=2048, hop_length=512, output_dir=None, dataset_type='train'):\n",
        "    \"\"\"\n",
        "    Load and compute stft features from audio files in a directory, with improved accuracy.\n",
        "    Assumes 'Queen' and 'NonQueen' subdirectories are present.\n",
        "    \"\"\"\n",
        "    # Kiểm tra nếu file đã tồn tại, thì load lại\n",
        "    features_file = os.path.join(output_dir, f'stft_features_{dataset_type}.pkl')\n",
        "    labels_file = os.path.join(output_dir, f'stft_labels_{dataset_type}.pkl')\n",
        "    \n",
        "    if os.path.exists(features_file) and os.path.exists(labels_file):\n",
        "        print(f\"Loading {dataset_type} data from .pkl files...\")\n",
        "        features = joblib.load(features_file)\n",
        "        labels = joblib.load(labels_file)\n",
        "    else:\n",
        "        print(f\"Extracting {dataset_type} data...\")\n",
        "        start_time = time.time()\n",
        "        labels = []\n",
        "        features = []\n",
        "\n",
        "        for label in ['bee', 'nobee', 'noqueen']:\n",
        "            path = os.path.join(directory, label)\n",
        "            for file in os.listdir(path):\n",
        "                file_path = os.path.join(path, file)\n",
        "                # Load audio file\n",
        "                signal, sr = librosa.load(file_path, sr=sample_rate)\n",
        "\n",
        "                # Compute stft features\n",
        "                stft_feature = compute_stft_features(signal, sr, n_fft=n_fft, hop_length=hop_length, apply_log=True)\n",
        "\n",
        "                features.append(stft_feature)\n",
        "                labels.append(label)\n",
        "\n",
        "        features = np.array(features)\n",
        "        labels = np.array(labels)\n",
        "\n",
        "        # Lưu dữ liệu vào file .pkl nếu chưa tồn tại\n",
        "        if output_dir:\n",
        "            joblib.dump(features, features_file)\n",
        "            joblib.dump(labels, labels_file)\n",
        "\n",
        "        end_time = time.time()\n",
        "        print(f\"stft extraction time: {end_time - start_time:.2f} seconds\")\n",
        "    \n",
        "    return features, labels\n",
        "\n",
        "train_features_stft, train_labels_stft = load_stft_features_from_directory(train_path, sample_rate=22050, n_fft=2048, hop_length=512, output_dir=output_dir, dataset_type='train')\n",
        "val_features_stft, val_labels_stft = load_stft_features_from_directory(val_path, sample_rate=22050, n_fft=2048, hop_length=512, output_dir=output_dir, dataset_type='val')\n",
        "test_features_stft, test_labels_stft = load_stft_features_from_directory(test_path, sample_rate=22050, n_fft=2048, hop_length=512, output_dir=output_dir, dataset_type='test')\n",
        "\n",
        "train_features_stft = np.vstack((train_features_stft, val_features_stft))\n",
        "train_labels_stft = np.hstack((train_labels_stft, val_labels_stft))"
      ]
    },
    {
      "cell_type": "code",
      "execution_count": 77,
      "metadata": {},
      "outputs": [],
      "source": [
        "scaler_stft = StandardScaler()\n",
        "train_features_stft_scaled = scaler_stft.fit_transform(train_features_stft)\n",
        "test_features_stft_scaled  = scaler_stft.transform(test_features_stft)"
      ]
    },
    {
      "cell_type": "code",
      "execution_count": 78,
      "metadata": {},
      "outputs": [
        {
          "name": "stdout",
          "output_type": "stream",
          "text": [
            "KNN (STFT) - Test Accuracy: 82.46%\n"
          ]
        }
      ],
      "source": [
        "knn_classifier_stft = KNeighborsClassifier(n_neighbors=25)\n",
        "knn_classifier_stft.fit(train_features_stft_scaled, train_labels_stft)\n",
        "test_pred_stft_knn = knn_classifier_stft.predict(test_features_stft_scaled)\n",
        "\n",
        "test_accuracy_stft_knn = accuracy_score(test_labels_stft, test_pred_stft_knn)\n",
        "print(f\"KNN (STFT) - Test Accuracy: {test_accuracy_stft_knn*100:.2f}%\")\n"
      ]
    },
    {
      "cell_type": "code",
      "execution_count": 79,
      "metadata": {},
      "outputs": [
        {
          "name": "stdout",
          "output_type": "stream",
          "text": [
            "Test Accuracy (SVM with RBF Kernel): 84.96%\n"
          ]
        }
      ],
      "source": [
        "# Khởi tạo mô hình SVM với data scaling\n",
        "svm_rbf_classifier = SVC(C=10, kernel='rbf', degree=3, gamma='scale', coef0=0.0, shrinking=True, \n",
        "                         probability=False, tol=0.001, cache_size=200, class_weight=None, verbose=False, \n",
        "                         max_iter=-1, decision_function_shape='ovr', break_ties=False, random_state=42)\n",
        "\n",
        "# Huấn luyện mô hình SVM\n",
        "svm_rbf_classifier.fit(train_features_stft_scaled, train_labels_stft)\n",
        "\n",
        "# Đánh giá mô hình trên bộ testing\n",
        "test_predictions_svm_rbf = svm_rbf_classifier.predict(test_features_stft_scaled)\n",
        "scale_test_accuracy_stft_svm = accuracy_score(test_labels_stft, test_predictions_svm_rbf)\n",
        "print(f\"Test Accuracy (SVM with RBF Kernel): {scale_test_accuracy_stft_svm * 100:.2f}%\")"
      ]
    },
    {
      "cell_type": "code",
      "execution_count": 80,
      "metadata": {},
      "outputs": [
        {
          "name": "stdout",
          "output_type": "stream",
          "text": [
            "Logistic Regression (STFT) - Test Accuracy: 80.07%\n"
          ]
        }
      ],
      "source": [
        "lr_classifier_stft = LogisticRegression(random_state=42, max_iter=1000, solver='liblinear', penalty= 'l2', C= 0.08858667904100823)\n",
        "lr_classifier_stft.fit(train_features_stft_scaled, train_labels_stft)\n",
        "\n",
        "test_pred_stft_lr = lr_classifier_stft.predict(test_features_stft_scaled)\n",
        "\n",
        "test_accuracy_stft_lr = accuracy_score(test_labels_stft, test_pred_stft_lr)\n",
        "print(f\"Logistic Regression (STFT) - Test Accuracy: {test_accuracy_stft_lr*100:.2f}%\")"
      ]
    },
    {
      "cell_type": "code",
      "execution_count": 81,
      "metadata": {},
      "outputs": [
        {
          "name": "stdout",
          "output_type": "stream",
          "text": [
            "Random Forest (STFT) - Test Accuracy: 83.59%\n"
          ]
        }
      ],
      "source": [
        "rf_classifier_stft = RandomForestClassifier(n_estimators=100, random_state=42)\n",
        "rf_classifier_stft.fit(train_features_stft, train_labels_stft)\n",
        "\n",
        "test_pred_stft_rf = rf_classifier_stft.predict(test_features_stft)\n",
        "\n",
        "test_accuracy_stft_rf = accuracy_score(test_labels_stft, test_pred_stft_rf)\n",
        "print(f\"Random Forest (STFT) - Test Accuracy: {test_accuracy_stft_rf*100:.2f}%\")\n"
      ]
    },
    {
      "cell_type": "code",
      "execution_count": 82,
      "metadata": {},
      "outputs": [
        {
          "name": "stdout",
          "output_type": "stream",
          "text": [
            "Extra Trees (STFT) - Test Accuracy: 82.43%\n"
          ]
        }
      ],
      "source": [
        "from sklearn.ensemble import ExtraTreesClassifier\n",
        "\n",
        "et_classifier_stft = ExtraTreesClassifier(n_estimators=100, random_state=42)\n",
        "et_classifier_stft.fit(train_features_stft_scaled, train_labels_stft)\n",
        "\n",
        "test_pred_stft_et = et_classifier_stft.predict(test_features_stft_scaled)\n",
        "\n",
        "test_accuracy_stft_et = accuracy_score(test_labels_stft, test_pred_stft_et)\n",
        "print(f\"Extra Trees (STFT) - Test Accuracy: {test_accuracy_stft_et*100:.2f}%\")\n"
      ]
    },
    {
      "cell_type": "markdown",
      "metadata": {},
      "source": [
        "# CQT"
      ]
    },
    {
      "cell_type": "code",
      "execution_count": 83,
      "metadata": {},
      "outputs": [],
      "source": [
        "def compute_cqt_features(signal_in, sample_rate, hop_length=512, fmin=None, \n",
        "                         n_bins=84, bins_per_octave=12, apply_log=True):\n",
        "    \"\"\"\n",
        "    Tính đặc trưng CQT của tín hiệu:\n",
        "      - Sử dụng librosa.cqt để tính ma trận CQT, lấy giá trị magnitude.\n",
        "      - (Tùy chọn) Áp dụng log scaling để giảm phạm vi giá trị.\n",
        "      - Trung bình theo trục thời gian (axis=1) để thu được vector đặc trưng có kích thước (n_bins,).\n",
        "      \n",
        "    Nếu fmin không được chỉ định, librosa sẽ tự động sử dụng fmin mặc định.\n",
        "    \"\"\"\n",
        "    cqt_matrix = np.abs(librosa.cqt(signal_in, sr=sample_rate, hop_length=hop_length,\n",
        "                                    fmin=fmin, n_bins=n_bins, bins_per_octave=bins_per_octave))\n",
        "    if apply_log:\n",
        "        cqt_matrix = np.log(cqt_matrix + 1e-8)\n",
        "    # Trung bình theo trục thời gian (tính trung bình các cột)\n",
        "    features = np.mean(cqt_matrix, axis=1)\n",
        "    return features\n"
      ]
    },
    {
      "cell_type": "code",
      "execution_count": 84,
      "metadata": {},
      "outputs": [
        {
          "name": "stdout",
          "output_type": "stream",
          "text": [
            "Loading train data from .pkl files...\n",
            "Loading val data from .pkl files...\n",
            "Loading test data from .pkl files...\n"
          ]
        }
      ],
      "source": [
        "def load_cqt_features_from_directory(directory, sample_rate=22050, hop_length=512, \n",
        "                                     fmin=None, n_bins=84, bins_per_octave=12, output_dir=None, dataset_type='train'):\n",
        "    # Kiểm tra nếu file đã tồn tại, thì load lại\n",
        "    features_file = os.path.join(output_dir, f'cqt_features_{dataset_type}.pkl')\n",
        "    labels_file = os.path.join(output_dir, f'cqt_labels_{dataset_type}.pkl')\n",
        "    \n",
        "    if os.path.exists(features_file) and os.path.exists(labels_file):\n",
        "        print(f\"Loading {dataset_type} data from .pkl files...\")\n",
        "        features = joblib.load(features_file)\n",
        "        labels = joblib.load(labels_file)\n",
        "    else:\n",
        "        print(f\"Extracting {dataset_type} data...\")\n",
        "        start_time = time.time()\n",
        "        labels = []\n",
        "        features = []\n",
        "        \n",
        "        for label in ['bee', 'nobee', 'noqueen']:\n",
        "            path = os.path.join(directory, label)\n",
        "            for file in os.listdir(path):\n",
        "                file_path = os.path.join(path, file)\n",
        "                signal, sr = librosa.load(file_path, sr=sample_rate)\n",
        "                \n",
        "                # Compute CQT features\n",
        "                cqt_feature = compute_cqt_features(signal, sr, hop_length=hop_length, \n",
        "                                                   fmin=fmin, n_bins=n_bins, bins_per_octave=bins_per_octave, \n",
        "                                                   apply_log=True)\n",
        "                \n",
        "                features.append(cqt_feature)\n",
        "                labels.append(label)\n",
        "\n",
        "        features = np.array(features)\n",
        "        labels = np.array(labels)\n",
        "        \n",
        "        # Lưu dữ liệu vào file .pkl nếu chưa tồn tại\n",
        "        if output_dir:\n",
        "            joblib.dump(features, features_file)\n",
        "            joblib.dump(labels, labels_file)\n",
        "        \n",
        "        end_time = time.time()\n",
        "        print(f\"CQT extraction time: {end_time - start_time:.2f} seconds\")\n",
        "    \n",
        "    return features, labels\n",
        "\n",
        "train_features_cqt, train_labels_cqt = load_cqt_features_from_directory(train_path, sample_rate=22050,\n",
        "                                                                        hop_length=512, fmin=None, n_bins=84, bins_per_octave=12, \n",
        "                                                                        output_dir=output_dir, dataset_type='train')\n",
        "val_features_cqt, val_labels_cqt = load_cqt_features_from_directory(val_path, sample_rate=22050,\n",
        "                                                                    hop_length=512, fmin=None, n_bins=84, bins_per_octave=12, \n",
        "                                                                    output_dir=output_dir, dataset_type='val')\n",
        "test_features_cqt, test_labels_cqt = load_cqt_features_from_directory(test_path, sample_rate=22050,\n",
        "                                                                      hop_length=512, fmin=None, n_bins=84, bins_per_octave=12, \n",
        "                                                                      output_dir=output_dir, dataset_type='test')\n",
        "\n",
        "train_features_cqt = np.vstack((train_features_cqt, val_features_cqt))\n",
        "train_labels_cqt = np.hstack((train_labels_cqt, val_labels_cqt))"
      ]
    },
    {
      "cell_type": "code",
      "execution_count": 85,
      "metadata": {},
      "outputs": [],
      "source": [
        "scaler_cqt = StandardScaler()\n",
        "train_features_cqt_scaled = scaler_cqt.fit_transform(train_features_cqt)\n",
        "test_features_cqt_scaled  = scaler_cqt.transform(test_features_cqt)"
      ]
    },
    {
      "cell_type": "markdown",
      "metadata": {},
      "source": [
        "CQT - KNN"
      ]
    },
    {
      "cell_type": "code",
      "execution_count": 86,
      "metadata": {},
      "outputs": [
        {
          "name": "stdout",
          "output_type": "stream",
          "text": [
            "Training time: 0.01 seconds\n",
            "KNN (CQT) - Test Accuracy: 85.54%\n"
          ]
        }
      ],
      "source": [
        "start_time = time.time()\n",
        "\n",
        "knn_classifier_cqt = KNeighborsClassifier(n_neighbors=1, weights='uniform', algorithm='auto', leaf_size=30, p=2, \n",
        "                                      metric='minkowski', metric_params=None, n_jobs=None)\n",
        "\n",
        "knn_classifier_cqt.fit(train_features_cqt_scaled, train_labels_cqt)\n",
        "\n",
        "end_time = time.time()\n",
        "print(f\"Training time: {end_time - start_time:.2f} seconds\")\n",
        "\n",
        "test_pred_cqt_knn = knn_classifier_cqt.predict(test_features_cqt_scaled)\n",
        "\n",
        "test_accuracy_cqt_knn = accuracy_score(test_labels_cqt, test_pred_cqt_knn)\n",
        "print(f\"KNN (CQT) - Test Accuracy: {test_accuracy_cqt_knn*100:.2f}%\")\n"
      ]
    },
    {
      "cell_type": "markdown",
      "metadata": {},
      "source": [
        "CQT - SVM"
      ]
    },
    {
      "cell_type": "code",
      "execution_count": 87,
      "metadata": {},
      "outputs": [
        {
          "name": "stdout",
          "output_type": "stream",
          "text": [
            "Training time: 6.38 seconds\n",
            "SVM (CQT) - Test Accuracy: 85.29%\n"
          ]
        }
      ],
      "source": [
        "start_time = time.time()\n",
        "\n",
        "svm_classifier_cqt = SVC(C=100, kernel='rbf', gamma='auto', random_state=42)\n",
        "svm_classifier_cqt.fit(train_features_cqt, train_labels_cqt)\n",
        "\n",
        "end_time = time.time()\n",
        "print(f\"Training time: {end_time - start_time:.2f} seconds\")\n",
        "\n",
        "test_pred_cqt_svm = svm_classifier_cqt.predict(test_features_cqt)\n",
        "\n",
        "test_accuracy_cqt_svm = accuracy_score(test_labels_cqt, test_pred_cqt_svm)\n",
        "print(f\"SVM (CQT) - Test Accuracy: {test_accuracy_cqt_svm*100:.2f}%\")\n"
      ]
    },
    {
      "cell_type": "code",
      "execution_count": 88,
      "metadata": {},
      "outputs": [
        {
          "name": "stdout",
          "output_type": "stream",
          "text": [
            "Training time: 6.58 seconds\n",
            "SVM (CQT) - Test Accuracy: 85.51%\n"
          ]
        }
      ],
      "source": [
        "start_time = time.time()\n",
        "\n",
        "svm_classifier_cqt = SVC(C=100, kernel='rbf', gamma='auto', random_state=42)\n",
        "svm_classifier_cqt.fit(train_features_cqt_scaled, train_labels_cqt)\n",
        "\n",
        "end_time = time.time()\n",
        "print(f\"Training time: {end_time - start_time:.2f} seconds\")\n",
        "\n",
        "test_pred_cqt_svm = svm_classifier_cqt.predict(test_features_cqt_scaled)\n",
        "\n",
        "test_accuracy_cqt_svm = accuracy_score(test_labels_cqt, test_pred_cqt_svm)\n",
        "print(f\"SVM (CQT) - Test Accuracy: {test_accuracy_cqt_svm*100:.2f}%\")\n"
      ]
    },
    {
      "cell_type": "markdown",
      "metadata": {},
      "source": [
        "CQT - LR"
      ]
    },
    {
      "cell_type": "code",
      "execution_count": 89,
      "metadata": {},
      "outputs": [
        {
          "name": "stdout",
          "output_type": "stream",
          "text": [
            "Training time: 0.75 seconds\n",
            "Logistic Regression (CQT) - Test Accuracy: 74.67%\n"
          ]
        }
      ],
      "source": [
        "start_time = time.time()\n",
        "\n",
        "lr_classifier_cqt =LogisticRegression(penalty='l2', dual=False, tol=0.0001, C=1.0, \n",
        "                                      fit_intercept=True, intercept_scaling=1, \n",
        "                                      class_weight=None, random_state=None, solver='lbfgs', \n",
        "                                      max_iter=500, multi_class='deprecated', verbose=0, \n",
        "                                      warm_start=False, n_jobs=None, l1_ratio=None)\n",
        "\n",
        "lr_classifier_cqt.fit(train_features_cqt_scaled, train_labels_cqt)\n",
        "\n",
        "end_time = time.time()\n",
        "print(f\"Training time: {end_time - start_time:.2f} seconds\")\n",
        "\n",
        "test_pred_cqt_lr = lr_classifier_cqt.predict(test_features_cqt_scaled)\n",
        "\n",
        "test_accuracy_cqt_lr = accuracy_score(test_labels_cqt, test_pred_cqt_lr)\n",
        "print(f\"Logistic Regression (CQT) - Test Accuracy: {test_accuracy_cqt_lr*100:.2f}%\")\n"
      ]
    },
    {
      "cell_type": "markdown",
      "metadata": {},
      "source": [
        "CQT - RF"
      ]
    },
    {
      "cell_type": "code",
      "execution_count": 90,
      "metadata": {},
      "outputs": [
        {
          "name": "stdout",
          "output_type": "stream",
          "text": [
            "Training time: 28.42 seconds\n",
            "Random Forest (CQT) - Test Accuracy: 86.34%\n"
          ]
        }
      ],
      "source": [
        "start_time = time.time()\n",
        "\n",
        "rf_classifier_cqt = RandomForestClassifier(n_estimators=100, criterion='gini', max_depth=None, \n",
        "                                       min_samples_split=2, min_samples_leaf=1, min_weight_fraction_leaf=0.0, \n",
        "                                       max_features='sqrt', max_leaf_nodes=None, min_impurity_decrease=0.0, \n",
        "                                       bootstrap=False, oob_score=False, n_jobs=None, random_state=42, verbose=0, \n",
        "                                       warm_start=False, class_weight=None, ccp_alpha=0.0, max_samples=None, monotonic_cst=None)\n",
        "\n",
        "rf_classifier_cqt.fit(train_features_cqt, train_labels_cqt)\n",
        "\n",
        "end_time = time.time()\n",
        "print(f\"Training time: {end_time - start_time:.2f} seconds\")\n",
        "\n",
        "test_pred_cqt_rf = rf_classifier_cqt.predict(test_features_cqt)\n",
        "\n",
        "test_accuracy_cqt_rf = accuracy_score(test_labels_cqt, test_pred_cqt_rf)\n",
        "print(f\"Random Forest (CQT) - Test Accuracy: {test_accuracy_cqt_rf*100:.2f}%\")\n"
      ]
    },
    {
      "cell_type": "markdown",
      "metadata": {},
      "source": [
        "CQT - ET"
      ]
    },
    {
      "cell_type": "code",
      "execution_count": 91,
      "metadata": {},
      "outputs": [
        {
          "name": "stdout",
          "output_type": "stream",
          "text": [
            "Training time: 30.09 seconds\n",
            "Extra Trees (CQT) - Test Accuracy: 86.59%\n"
          ]
        }
      ],
      "source": [
        "start_time = time.time()\n",
        "\n",
        "et_classifier_cqt = ExtraTreesClassifier(n_estimators=200, criterion='gini', max_depth=30, min_samples_split=2, min_samples_leaf=1, \n",
        "                                     min_weight_fraction_leaf=0.0, max_features=None, max_leaf_nodes=None, min_impurity_decrease=0.0,\n",
        "                                     bootstrap=False, oob_score=False, n_jobs=None, random_state=42, verbose=0, warm_start=False, \n",
        "                                     class_weight=None, ccp_alpha=0.0, max_samples=None, monotonic_cst=None)\n",
        "\n",
        "et_classifier_cqt.fit(train_features_cqt_scaled, train_labels_cqt)\n",
        "\n",
        "end_time = time.time()\n",
        "print(f\"Training time: {end_time - start_time:.2f} seconds\")\n",
        "\n",
        "test_pred_cqt_et = et_classifier_cqt.predict(test_features_cqt_scaled)\n",
        "\n",
        "test_accuracy_cqt_et = accuracy_score(test_labels_cqt, test_pred_cqt_et)\n",
        "print(f\"Extra Trees (CQT) - Test Accuracy: {test_accuracy_cqt_et*100:.2f}%\")"
      ]
    }
  ],
  "metadata": {
    "kernelspec": {
      "display_name": "AI",
      "language": "python",
      "name": "python3"
    },
    "language_info": {
      "codemirror_mode": {
        "name": "ipython",
        "version": 3
      },
      "file_extension": ".py",
      "mimetype": "text/x-python",
      "name": "python",
      "nbconvert_exporter": "python",
      "pygments_lexer": "ipython3",
      "version": "3.10.16"
    }
  },
  "nbformat": 4,
  "nbformat_minor": 2
}
