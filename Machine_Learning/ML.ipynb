{
 "cells": [
  {
   "cell_type": "markdown",
   "metadata": {},
   "source": [
    "# MFCCs"
   ]
  },
  {
   "cell_type": "code",
   "execution_count": 30,
   "metadata": {},
   "outputs": [],
   "source": [
    "train_nonqueen_path = 'E:/Queenless/20k_audio_splitted_dataset/train/NonQueen'\n",
    "train_queen_path = 'E:/Queenless/20k_audio_splitted_dataset/train/Queen'\n",
    "test_nonqueen_path = 'E:/Queenless/20k_audio_splitted_dataset/test/NonQueen'\n",
    "test_queen_path = 'E:/Queenless/20k_audio_splitted_dataset/test/Queen'\n",
    "val_nonqueen_path = 'E:/Queenless/20k_audio_splitted_dataset/val/NonQueen'\n",
    "val_queen_path = 'E:/Queenless/20k_audio_splitted_dataset/val/Queen'"
   ]
  },
  {
   "cell_type": "markdown",
   "metadata": {},
   "source": [
    "MFCCs - RF"
   ]
  },
  {
   "cell_type": "code",
   "execution_count": 31,
   "metadata": {},
   "outputs": [
    {
     "name": "stdout",
     "output_type": "stream",
     "text": [
      "Validation Accuracy: 91.59%\n",
      "Test Accuracy: 92.00%\n"
     ]
    }
   ],
   "source": [
    "import os\n",
    "import librosa\n",
    "import numpy as np\n",
    "from sklearn.ensemble import RandomForestClassifier\n",
    "from sklearn.metrics import accuracy_score\n",
    "from sklearn.model_selection import train_test_split\n",
    "from sklearn.preprocessing import LabelEncoder\n",
    "import librosa.display\n",
    "import scipy.fftpack as fftpack\n",
    "\n",
    "def pre_emphasis(signal_in, pre_emph=0.97):\n",
    "    \"\"\"\n",
    "    Bước 1: Pre-emphasis - Lọc thông cao\n",
    "    \"\"\"\n",
    "    emphasized_signal = np.append(signal_in[0], signal_in[1:] - pre_emph * signal_in[:-1]) # y(t) = x(t) - alpha*x(t-1)\n",
    "    return emphasized_signal\n",
    "\n",
    "def framing(signal_in, sample_rate, frame_size=0.025, frame_stride=0.01):\n",
    "    \"\"\"\n",
    "    Bước 2: Chia khung (Framing)\n",
    "    - frame_size: kích thước khung (số giây)\n",
    "    - frame_stride: bước nhảy giữa các khung (số giây)\n",
    "    \"\"\"\n",
    "    frame_length = int(round(frame_size * sample_rate))\n",
    "    frame_step = int(round(frame_stride * sample_rate))\n",
    "    signal_length = len(signal_in)\n",
    "    num_frames = int(np.ceil(float(np.abs(signal_length - frame_length)) / frame_step)) + 1\n",
    "\n",
    "    pad_signal_length = num_frames * frame_step + frame_length\n",
    "    # Zero-padding nếu cần\n",
    "    z = np.zeros((pad_signal_length - signal_length))\n",
    "    pad_signal = np.append(signal_in, z)\n",
    "\n",
    "    indices = np.tile(np.arange(0, frame_length), (num_frames, 1)) + \\\n",
    "              np.tile(np.arange(0, num_frames * frame_step, frame_step), (frame_length, 1)).T\n",
    "    frames = pad_signal[indices.astype(np.int32, copy=False)]\n",
    "    return frames\n",
    "\n",
    "def windowing(frames):\n",
    "    \"\"\"\n",
    "    Bước 3: Áp dụng cửa sổ Hamming cho mỗi khung\n",
    "    \"\"\"\n",
    "    frame_length = frames.shape[1]\n",
    "    hamming = np.hamming(frame_length)\n",
    "    windowed_frames = frames * hamming\n",
    "    return windowed_frames\n",
    "\n",
    "def fft_frames(frames, NFFT=512):\n",
    "    \"\"\"\n",
    "    Bước 4: Tính FFT cho mỗi khung\n",
    "    \"\"\"\n",
    "    mag_frames = np.absolute(np.fft.rfft(frames, NFFT))\n",
    "    return mag_frames\n",
    "\n",
    "def power_spectrum(mag_frames, NFFT=512):\n",
    "    \"\"\"\n",
    "    Bước 4.1: Tính phổ công suất của mỗi khung\n",
    "    \"\"\"\n",
    "    return (1.0 / NFFT) * (mag_frames ** 2)\n",
    "\n",
    "def mel_filterbank(sample_rate, NFFT, nfilt=26, low_freq=0, high_freq=None):\n",
    "    \"\"\"\n",
    "    Bước 5: Tạo Mel filterbank\n",
    "    \"\"\"\n",
    "    if high_freq is None:\n",
    "        high_freq = sample_rate / 2\n",
    "\n",
    "    # Chuyển Hz sang Mel\n",
    "    low_mel = 2595 * np.log10(1 + low_freq / 700.0)\n",
    "    high_mel = 2595 * np.log10(1 + high_freq / 700.0)\n",
    "    mel_points = np.linspace(low_mel, high_mel, nfilt + 2)\n",
    "    # Chuyển lại từ Mel sang Hz\n",
    "    hz_points = 700 * (10**(mel_points / 2595) - 1)\n",
    "    bin = np.floor((NFFT + 1) * hz_points / sample_rate)\n",
    "\n",
    "    fbank = np.zeros((nfilt, int(np.floor(NFFT / 2 + 1))))\n",
    "    for m in range(1, nfilt + 1):\n",
    "        f_m_minus = int(bin[m - 1])   # giới hạn trái\n",
    "        f_m = int(bin[m])             # trung tâm\n",
    "        f_m_plus = int(bin[m + 1])    # giới hạn phải\n",
    "\n",
    "        for k in range(f_m_minus, f_m):\n",
    "            fbank[m - 1, k] = (k - bin[m - 1]) / (bin[m] - bin[m - 1])\n",
    "        for k in range(f_m, f_m_plus):\n",
    "            fbank[m - 1, k] = (bin[m + 1] - k) / (bin[m + 1] - bin[m])\n",
    "    return fbank\n",
    "\n",
    "# Hàm tính MFCC\n",
    "def compute_mfcc(signal_in, sample_rate, frame_size=0.025, frame_stride=0.01, \n",
    "                 pre_emph=0.97, NFFT=512, nfilt=26, num_ceps=13):\n",
    "    # Tính MFCCs theo các bước trong code bạn đã cung cấp\n",
    "    emphasized_signal = pre_emphasis(signal_in, pre_emph)\n",
    "    frames = framing(emphasized_signal, sample_rate, frame_size, frame_stride)\n",
    "    windowed_frames = windowing(frames)\n",
    "    mag_frames = fft_frames(windowed_frames, NFFT)\n",
    "    pow_frames = power_spectrum(mag_frames, NFFT)\n",
    "    fbank = mel_filterbank(sample_rate, NFFT, nfilt)\n",
    "    filter_banks = np.dot(pow_frames, fbank.T)\n",
    "    filter_banks = np.where(filter_banks == 0, np.finfo(float).eps, filter_banks)\n",
    "    log_fbank = np.log(filter_banks)\n",
    "    mfccs = fftpack.dct(log_fbank, type=2, axis=1, norm='ortho')[:, :num_ceps]\n",
    "    return mfccs\n",
    "\n",
    "# Hàm load dữ liệu từ các thư mục\n",
    "def load_data_from_directory(directory, sample_rate=22050):\n",
    "    labels = []\n",
    "    features = []\n",
    "    for label in ['Queen', 'NonQueen']:\n",
    "        path = os.path.join(directory, label)\n",
    "        for file in os.listdir(path):\n",
    "            file_path = os.path.join(path, file)\n",
    "            signal, sr = librosa.load(file_path, sr=sample_rate)\n",
    "            mfcc = compute_mfcc(signal, sr)\n",
    "            mfcc_mean = np.mean(mfcc, axis=0)  # Tính trung bình của MFCCs để giảm chiều\n",
    "            features.append(mfcc_mean)\n",
    "            labels.append(label)\n",
    "    return np.array(features), np.array(labels)\n",
    "\n",
    "# Load training, validation và testing data\n",
    "train_features, train_labels = load_data_from_directory('E:/Queenless/20k_audio_splitted_dataset/train', sample_rate=22050)\n",
    "val_features, val_labels = load_data_from_directory('E:/Queenless/20k_audio_splitted_dataset/val', sample_rate=22050)\n",
    "test_features, test_labels = load_data_from_directory('E:/Queenless/20k_audio_splitted_dataset/test', sample_rate=22050)\n",
    "\n",
    "# Chuyển đổi labels thành số để train với RandomForest\n",
    "label_encoder = LabelEncoder()\n",
    "train_labels = label_encoder.fit_transform(train_labels)\n",
    "val_labels = label_encoder.transform(val_labels)\n",
    "test_labels = label_encoder.transform(test_labels)\n",
    "\n",
    "# Huấn luyện mô hình Random Forest\n",
    "rf_classifier = RandomForestClassifier(n_estimators=100, random_state=42)\n",
    "rf_classifier.fit(train_features, train_labels)\n",
    "\n",
    "# Đánh giá mô hình trên bộ validation\n",
    "val_predictions = rf_classifier.predict(val_features)\n",
    "val_accuracy = accuracy_score(val_labels, val_predictions)\n",
    "print(f\"Validation Accuracy: {val_accuracy * 100:.2f}%\")\n",
    "\n",
    "# Đánh giá mô hình trên bộ testing\n",
    "test_predictions = rf_classifier.predict(test_features)\n",
    "test_accuracy_mfcc_rf = accuracy_score(test_labels, test_predictions)\n",
    "print(f\"Test Accuracy: {test_accuracy_mfcc_rf * 100:.2f}%\")\n",
    "\n"
   ]
  },
  {
   "cell_type": "markdown",
   "metadata": {},
   "source": [
    "MFFCS - SVM"
   ]
  },
  {
   "cell_type": "code",
   "execution_count": null,
   "metadata": {},
   "outputs": [
    {
     "name": "stdout",
     "output_type": "stream",
     "text": [
      "Fitting 5 folds for each of 16 candidates, totalling 80 fits\n",
      "[CV 1/5] END ....C=0.1, gamma=scale, kernel=rbf;, score=0.561 total time=   4.8s\n",
      "[CV 2/5] END ....C=0.1, gamma=scale, kernel=rbf;, score=0.847 total time=   6.2s\n",
      "[CV 3/5] END ....C=0.1, gamma=scale, kernel=rbf;, score=0.717 total time=   5.7s\n",
      "[CV 4/5] END ....C=0.1, gamma=scale, kernel=rbf;, score=0.667 total time=   6.3s\n",
      "[CV 5/5] END ....C=0.1, gamma=scale, kernel=rbf;, score=0.716 total time=   5.7s\n",
      "[CV 1/5] END .....C=0.1, gamma=auto, kernel=rbf;, score=0.560 total time=   4.9s\n",
      "[CV 2/5] END .....C=0.1, gamma=auto, kernel=rbf;, score=0.849 total time=   6.3s\n",
      "[CV 3/5] END .....C=0.1, gamma=auto, kernel=rbf;, score=0.717 total time=   5.6s\n",
      "[CV 4/5] END .....C=0.1, gamma=auto, kernel=rbf;, score=0.667 total time=   6.4s\n",
      "[CV 5/5] END .....C=0.1, gamma=auto, kernel=rbf;, score=0.710 total time=   5.7s\n",
      "[CV 1/5] END ......C=0.1, gamma=0.1, kernel=rbf;, score=0.569 total time=   4.7s\n",
      "[CV 2/5] END ......C=0.1, gamma=0.1, kernel=rbf;, score=0.859 total time=   5.9s\n",
      "[CV 3/5] END ......C=0.1, gamma=0.1, kernel=rbf;, score=0.719 total time=   5.6s\n",
      "[CV 4/5] END ......C=0.1, gamma=0.1, kernel=rbf;, score=0.674 total time=   5.8s\n",
      "[CV 5/5] END ......C=0.1, gamma=0.1, kernel=rbf;, score=0.723 total time=   5.5s\n",
      "[CV 1/5] END ........C=0.1, gamma=1, kernel=rbf;, score=0.678 total time=   8.6s\n",
      "[CV 2/5] END ........C=0.1, gamma=1, kernel=rbf;, score=0.845 total time=   9.2s\n",
      "[CV 3/5] END ........C=0.1, gamma=1, kernel=rbf;, score=0.737 total time=   9.2s\n",
      "[CV 4/5] END ........C=0.1, gamma=1, kernel=rbf;, score=0.712 total time=   9.3s\n",
      "[CV 5/5] END ........C=0.1, gamma=1, kernel=rbf;, score=0.733 total time=   9.3s\n",
      "[CV 1/5] END ......C=1, gamma=scale, kernel=rbf;, score=0.630 total time=   3.1s\n",
      "[CV 2/5] END ......C=1, gamma=scale, kernel=rbf;, score=0.888 total time=   4.8s\n",
      "[CV 3/5] END ......C=1, gamma=scale, kernel=rbf;, score=0.727 total time=   4.1s\n",
      "[CV 4/5] END ......C=1, gamma=scale, kernel=rbf;, score=0.674 total time=   4.6s\n",
      "[CV 5/5] END ......C=1, gamma=scale, kernel=rbf;, score=0.750 total time=   3.9s\n",
      "[CV 1/5] END .......C=1, gamma=auto, kernel=rbf;, score=0.628 total time=   3.3s\n",
      "[CV 2/5] END .......C=1, gamma=auto, kernel=rbf;, score=0.889 total time=   4.6s\n",
      "[CV 3/5] END .......C=1, gamma=auto, kernel=rbf;, score=0.727 total time=   4.0s\n",
      "[CV 4/5] END .......C=1, gamma=auto, kernel=rbf;, score=0.674 total time=   4.4s\n",
      "[CV 5/5] END .......C=1, gamma=auto, kernel=rbf;, score=0.747 total time=   3.9s\n",
      "[CV 1/5] END ........C=1, gamma=0.1, kernel=rbf;, score=0.647 total time=   3.0s\n",
      "[CV 2/5] END ........C=1, gamma=0.1, kernel=rbf;, score=0.900 total time=   4.3s\n",
      "[CV 3/5] END ........C=1, gamma=0.1, kernel=rbf;, score=0.727 total time=   3.7s\n",
      "[CV 4/5] END ........C=1, gamma=0.1, kernel=rbf;, score=0.679 total time=   4.2s\n",
      "[CV 5/5] END ........C=1, gamma=0.1, kernel=rbf;, score=0.753 total time=   3.7s\n",
      "[CV 1/5] END ..........C=1, gamma=1, kernel=rbf;, score=0.744 total time=   8.4s\n",
      "[CV 2/5] END ..........C=1, gamma=1, kernel=rbf;, score=0.933 total time=   9.8s\n",
      "[CV 3/5] END ..........C=1, gamma=1, kernel=rbf;, score=0.755 total time=   9.9s\n",
      "[CV 4/5] END ..........C=1, gamma=1, kernel=rbf;, score=0.808 total time=   9.8s\n",
      "[CV 5/5] END ..........C=1, gamma=1, kernel=rbf;, score=0.798 total time=  10.3s\n",
      "[CV 1/5] END .....C=10, gamma=scale, kernel=rbf;, score=0.689 total time=   2.9s\n",
      "[CV 2/5] END .....C=10, gamma=scale, kernel=rbf;, score=0.910 total time=   4.2s\n",
      "[CV 3/5] END .....C=10, gamma=scale, kernel=rbf;, score=0.723 total time=   3.6s\n",
      "[CV 4/5] END .....C=10, gamma=scale, kernel=rbf;, score=0.681 total time=   4.1s\n",
      "[CV 5/5] END .....C=10, gamma=scale, kernel=rbf;, score=0.749 total time=   3.6s\n",
      "[CV 1/5] END ......C=10, gamma=auto, kernel=rbf;, score=0.688 total time=   2.8s\n",
      "[CV 2/5] END ......C=10, gamma=auto, kernel=rbf;, score=0.910 total time=   4.2s\n",
      "[CV 3/5] END ......C=10, gamma=auto, kernel=rbf;, score=0.725 total time=   3.5s\n",
      "[CV 4/5] END ......C=10, gamma=auto, kernel=rbf;, score=0.683 total time=   4.1s\n",
      "[CV 5/5] END ......C=10, gamma=auto, kernel=rbf;, score=0.749 total time=   3.6s\n",
      "[CV 1/5] END .......C=10, gamma=0.1, kernel=rbf;, score=0.698 total time=   2.7s\n",
      "[CV 2/5] END .......C=10, gamma=0.1, kernel=rbf;, score=0.914 total time=   4.1s\n",
      "[CV 3/5] END .......C=10, gamma=0.1, kernel=rbf;, score=0.728 total time=   3.5s\n",
      "[CV 4/5] END .......C=10, gamma=0.1, kernel=rbf;, score=0.688 total time=   4.1s\n",
      "[CV 5/5] END .......C=10, gamma=0.1, kernel=rbf;, score=0.747 total time=   3.7s\n",
      "[CV 1/5] END .........C=10, gamma=1, kernel=rbf;, score=0.750 total time=  11.0s\n",
      "[CV 2/5] END .........C=10, gamma=1, kernel=rbf;, score=0.938 total time=  12.0s\n",
      "[CV 3/5] END .........C=10, gamma=1, kernel=rbf;, score=0.755 total time=  12.0s\n",
      "[CV 4/5] END .........C=10, gamma=1, kernel=rbf;, score=0.802 total time=  12.0s\n",
      "[CV 5/5] END .........C=10, gamma=1, kernel=rbf;, score=0.800 total time=  11.5s\n",
      "[CV 1/5] END ....C=100, gamma=scale, kernel=rbf;, score=0.701 total time=   4.0s\n",
      "[CV 2/5] END ....C=100, gamma=scale, kernel=rbf;, score=0.905 total time=   6.1s\n",
      "[CV 3/5] END ....C=100, gamma=scale, kernel=rbf;, score=0.729 total time=   5.2s\n",
      "[CV 4/5] END ....C=100, gamma=scale, kernel=rbf;, score=0.693 total time=   6.1s\n",
      "[CV 5/5] END ....C=100, gamma=scale, kernel=rbf;, score=0.753 total time=   5.3s\n",
      "[CV 1/5] END .....C=100, gamma=auto, kernel=rbf;, score=0.701 total time=   4.1s\n",
      "[CV 2/5] END .....C=100, gamma=auto, kernel=rbf;, score=0.906 total time=   5.9s\n",
      "[CV 3/5] END .....C=100, gamma=auto, kernel=rbf;, score=0.728 total time=   5.1s\n",
      "[CV 4/5] END .....C=100, gamma=auto, kernel=rbf;, score=0.694 total time=   6.0s\n",
      "[CV 5/5] END .....C=100, gamma=auto, kernel=rbf;, score=0.750 total time=   5.4s\n",
      "[CV 1/5] END ......C=100, gamma=0.1, kernel=rbf;, score=0.708 total time=   4.1s\n",
      "[CV 2/5] END ......C=100, gamma=0.1, kernel=rbf;, score=0.903 total time=   5.9s\n",
      "[CV 3/5] END ......C=100, gamma=0.1, kernel=rbf;, score=0.730 total time=   5.2s\n",
      "[CV 4/5] END ......C=100, gamma=0.1, kernel=rbf;, score=0.698 total time=   6.1s\n",
      "[CV 5/5] END ......C=100, gamma=0.1, kernel=rbf;, score=0.757 total time=   5.4s\n",
      "[CV 1/5] END ........C=100, gamma=1, kernel=rbf;, score=0.750 total time=  11.0s\n",
      "[CV 2/5] END ........C=100, gamma=1, kernel=rbf;, score=0.938 total time=  12.1s\n",
      "[CV 3/5] END ........C=100, gamma=1, kernel=rbf;, score=0.755 total time=  11.7s\n",
      "[CV 4/5] END ........C=100, gamma=1, kernel=rbf;, score=0.795 total time=  12.3s\n",
      "[CV 5/5] END ........C=100, gamma=1, kernel=rbf;, score=0.800 total time=  11.6s\n",
      "Best parameters found:  {'C': 10, 'gamma': 1, 'kernel': 'rbf'}\n",
      "Validation Accuracy (Best SVM with RBF Kernel): 93.03%\n",
      "Test Accuracy (Best SVM with RBF Kernel): 94.05%\n"
     ]
    }
   ],
   "source": [
    "from sklearn.model_selection import GridSearchCV\n",
    "from sklearn.preprocessing import StandardScaler\n",
    "from sklearn.svm import SVC\n",
    "\n",
    "scaler = StandardScaler()\n",
    "train_features_scaled = scaler.fit_transform(train_features)\n",
    "val_features_scaled = scaler.transform(val_features)\n",
    "test_features_scaled = scaler.transform(test_features)\n",
    "\n",
    "# Thiết lập phạm vi tham số\n",
    "param_grid = {\n",
    "    'C': [0.1, 1, 10, 100],\n",
    "    'gamma': ['scale', 'auto', 0.1, 1],\n",
    "    'kernel': ['rbf']\n",
    "}\n",
    "\n",
    "# Khởi tạo GridSearchCV\n",
    "grid_search = GridSearchCV(SVC(), param_grid, refit=True, verbose=3)\n",
    "\n",
    "# Huấn luyện GridSearchCV\n",
    "grid_search.fit(train_features_scaled, train_labels)\n",
    "\n",
    "# In ra tham số tốt nhất\n",
    "print(\"Best parameters found: \", grid_search.best_params_)\n",
    "\n",
    "# Đánh giá mô hình với các tham số tối ưu\n",
    "best_svm_rbf_classifier = grid_search.best_estimator_\n",
    "\n",
    "# Đánh giá mô hình trên bộ validation\n",
    "val_predictions_best_svm = best_svm_rbf_classifier.predict(val_features_scaled)\n",
    "val_accuracy_best_svm = accuracy_score(val_labels, val_predictions_best_svm)\n",
    "print(f\"Validation Accuracy (Best SVM with RBF Kernel): {val_accuracy_best_svm * 100:.2f}%\")\n",
    "\n",
    "# Đánh giá mô hình trên bộ testing\n",
    "test_predictions_best_svm = best_svm_rbf_classifier.predict(test_features_scaled)\n",
    "test_accuracy_best_svm = accuracy_score(test_labels, test_predictions_best_svm)\n",
    "print(f\"Test Accuracy (Best SVM with RBF Kernel): {test_accuracy_best_svm * 100:.2f}%\")\n"
   ]
  },
  {
   "cell_type": "code",
   "execution_count": 33,
   "metadata": {},
   "outputs": [
    {
     "name": "stdout",
     "output_type": "stream",
     "text": [
      "Validation Accuracy (SVM with RBF Kernel): 93.63%\n",
      "Test Accuracy (SVM with RBF Kernel): 94.00%\n"
     ]
    }
   ],
   "source": [
    "from sklearn.svm import SVC\n",
    "from sklearn.metrics import accuracy_score\n",
    "\n",
    "# Khởi tạo mô hình SVM với kernel RBF\n",
    "svm_rbf_classifier = SVC(C=10, kernel='rbf', gamma=1)\n",
    "\n",
    "# Huấn luyện mô hình SVM\n",
    "svm_rbf_classifier.fit(train_features, train_labels)\n",
    "\n",
    "# Đánh giá mô hình trên bộ validation\n",
    "val_predictions_svm_rbf = svm_rbf_classifier.predict(val_features)\n",
    "val_accuracy_svm_rbf = accuracy_score(val_labels, val_predictions_svm_rbf)\n",
    "print(f\"Validation Accuracy (SVM with RBF Kernel): {val_accuracy_svm_rbf * 100:.2f}%\")\n",
    "\n",
    "# Đánh giá mô hình trên bộ testing\n",
    "test_predictions_svm_rbf = svm_rbf_classifier.predict(test_features)\n",
    "test_accuracy_mfcc_svm = accuracy_score(test_labels, test_predictions_svm_rbf)\n",
    "print(f\"Test Accuracy (SVM with RBF Kernel): {test_accuracy_mfcc_svm * 100:.2f}%\")\n"
   ]
  },
  {
   "cell_type": "markdown",
   "metadata": {},
   "source": [
    "MFCC - LR"
   ]
  },
  {
   "cell_type": "code",
   "execution_count": null,
   "metadata": {},
   "outputs": [
    {
     "name": "stdout",
     "output_type": "stream",
     "text": [
      "Validation Accuracy (Logistic Regression): 71.79%\n",
      "Test Accuracy (Logistic Regression): 73.28%\n"
     ]
    }
   ],
   "source": [
    "from sklearn.linear_model import LogisticRegression\n",
    "from sklearn.metrics import accuracy_score\n",
    "\n",
    "# Khởi tạo mô hình Logistic Regression\n",
    "lr_classifier = LogisticRegression(random_state=42)\n",
    "\n",
    "# Huấn luyện mô hình Logistic Regression với dữ liệu đã chuẩn hóa\n",
    "lr_classifier.fit(train_features_scaled, train_labels)\n",
    "\n",
    "# Đánh giá mô hình trên bộ validation\n",
    "val_predictions_lr = lr_classifier.predict(val_features_scaled)\n",
    "val_accuracy_lr = accuracy_score(val_labels, val_predictions_lr)\n",
    "print(f\"Validation Accuracy (Logistic Regression): {val_accuracy_lr * 100:.2f}%\")\n",
    "\n",
    "# Đánh giá mô hình trên bộ testing\n",
    "test_predictions_lr = lr_classifier.predict(test_features_scaled)\n",
    "test_accuracy_mfcc_lr = accuracy_score(test_labels, test_predictions_lr)\n",
    "print(f\"Test Accuracy (Logistic Regression): {test_accuracy_mfcc_lr * 100:.2f}%\")"
   ]
  },
  {
   "cell_type": "markdown",
   "metadata": {},
   "source": [
    "MFCC - ET"
   ]
  },
  {
   "cell_type": "code",
   "execution_count": 48,
   "metadata": {},
   "outputs": [
    {
     "name": "stdout",
     "output_type": "stream",
     "text": [
      "Validation Accuracy (Extra Trees): 91.94%\n",
      "Test Accuracy (Extra Trees): 92.53%\n"
     ]
    }
   ],
   "source": [
    "from sklearn.ensemble import ExtraTreesClassifier\n",
    "from sklearn.metrics import accuracy_score\n",
    "\n",
    "# Khởi tạo mô hình Extra Trees với các tham số mặc định\n",
    "et_classifier = ExtraTreesClassifier(n_estimators=100, random_state=42)\n",
    "\n",
    "# Huấn luyện mô hình Extra Trees với dữ liệu đã chuẩn hóa\n",
    "et_classifier.fit(train_features_scaled, train_labels)\n",
    "\n",
    "# Đánh giá mô hình trên bộ validation\n",
    "val_predictions_et = et_classifier.predict(val_features_scaled)\n",
    "val_accuracy_et = accuracy_score(val_labels, val_predictions_et)\n",
    "print(f\"Validation Accuracy (Extra Trees): {val_accuracy_et * 100:.2f}%\")\n",
    "\n",
    "# Đánh giá mô hình trên bộ testing\n",
    "test_predictions_et = et_classifier.predict(test_features_scaled)\n",
    "test_accuracy_mfcc_et = accuracy_score(test_labels, test_predictions_et)\n",
    "print(f\"Test Accuracy (Extra Trees): {test_accuracy_mfcc_et * 100:.2f}%\")\n"
   ]
  },
  {
   "cell_type": "markdown",
   "metadata": {},
   "source": [
    "MFFC - KNN"
   ]
  },
  {
   "cell_type": "code",
   "execution_count": null,
   "metadata": {},
   "outputs": [
    {
     "name": "stdout",
     "output_type": "stream",
     "text": [
      "Validation Accuracy (KNN): 91.44%\n",
      "Test Accuracy (KNN): 92.75%\n"
     ]
    }
   ],
   "source": [
    "from sklearn.neighbors import KNeighborsClassifier\n",
    "from sklearn.metrics import accuracy_score\n",
    "\n",
    "knn_classifier = KNeighborsClassifier(n_neighbors=5)\n",
    "\n",
    "# Huấn luyện mô hình KNN với dữ liệu đã chuẩn hóa\n",
    "knn_classifier.fit(train_features_scaled, train_labels)\n",
    "\n",
    "# Đánh giá mô hình trên bộ validation\n",
    "val_predictions_knn = knn_classifier.predict(val_features_scaled)\n",
    "val_accuracy_knn = accuracy_score(val_labels, val_predictions_knn)\n",
    "print(f\"Validation Accuracy (KNN): {val_accuracy_knn * 100:.2f}%\")\n",
    "\n",
    "# Đánh giá mô hình trên bộ testing\n",
    "test_predictions_knn = knn_classifier.predict(test_features_scaled)\n",
    "test_accuracy_mfcc_knn = accuracy_score(test_labels, test_predictions_knn)\n",
    "print(f\"Test Accuracy (KNN): {test_accuracy_mfcc_knn * 100:.2f}%\")\n"
   ]
  },
  {
   "cell_type": "markdown",
   "metadata": {},
   "source": [
    "# FFT with pre-emphasis, framing, windowing"
   ]
  },
  {
   "cell_type": "code",
   "execution_count": 1,
   "metadata": {},
   "outputs": [],
   "source": [
    "import numpy as np\n",
    "import librosa\n",
    "\n",
    "def pre_emphasis(signal_in, pre_emph=0.97):\n",
    "    \"\"\"\n",
    "    Áp dụng pre-emphasis để nhấn mạnh các tần số cao.\n",
    "    \"\"\"\n",
    "    return np.append(signal_in[0], signal_in[1:] - pre_emph * signal_in[:-1])\n",
    "\n",
    "def framing(signal_in, sample_rate, frame_size=0.025, frame_stride=0.01):\n",
    "    \"\"\"\n",
    "    Chia tín hiệu thành các frame có kích thước và bước nhảy xác định.\n",
    "    \"\"\"\n",
    "    frame_length = int(round(frame_size * sample_rate))\n",
    "    frame_step = int(round(frame_stride * sample_rate))\n",
    "    signal_length = len(signal_in)\n",
    "    num_frames = int(np.ceil(np.abs(signal_length - frame_length) / frame_step)) + 1\n",
    "\n",
    "    pad_signal_length = num_frames * frame_step + frame_length\n",
    "    z = np.zeros((pad_signal_length - signal_length))\n",
    "    pad_signal = np.append(signal_in, z)\n",
    "\n",
    "    indices = np.tile(np.arange(0, frame_length), (num_frames, 1)) + \\\n",
    "              np.tile(np.arange(0, num_frames * frame_step, frame_step), (frame_length, 1)).T\n",
    "    frames = pad_signal[indices.astype(np.int32, copy=False)]\n",
    "    return frames\n",
    "\n",
    "def windowing(frames):\n",
    "    \"\"\"\n",
    "    Áp dụng cửa sổ Hamming cho mỗi frame.\n",
    "    \"\"\"\n",
    "    frame_length = frames.shape[1]\n",
    "    hamming = np.hamming(frame_length)\n",
    "    return frames * hamming\n",
    "\n",
    "def fft_frames(frames, NFFT=512):\n",
    "    \"\"\"\n",
    "    Tính FFT cho mỗi frame và lấy giá trị magnitude.\n",
    "    \"\"\"\n",
    "    return np.absolute(np.fft.rfft(frames, NFFT))\n",
    "\n",
    "def compute_fft_features(signal_in, sample_rate, frame_size=0.025, frame_stride=0.01, NFFT=512, apply_log=True):\n",
    "    \"\"\"\n",
    "    Tính toán đặc trưng FFT cho tín hiệu âm thanh:\n",
    "      - Pre-emphasis, Framing, Windowing.\n",
    "      - Tính FFT cho từng frame và lấy giá trị magnitude.\n",
    "      - Trung bình các frame để có vector đặc trưng ổn định.\n",
    "      - (Tùy chọn) Áp dụng log để giảm phạm vi giá trị.\n",
    "      \n",
    "    Trả về: vector đặc trưng có kích thước (NFFT/2+1,).\n",
    "    \"\"\"\n",
    "    emphasized_signal = pre_emphasis(signal_in)\n",
    "    frames = framing(emphasized_signal, sample_rate, frame_size, frame_stride)\n",
    "    windowed_frames = windowing(frames)\n",
    "    mag_frames = fft_frames(windowed_frames, NFFT)\n",
    "    fft_feature = np.mean(mag_frames, axis=0)  # Trung bình theo các frame\n",
    "    if apply_log:\n",
    "        fft_feature = np.log(fft_feature + 1e-8)  # Thêm epsilon để tránh log(0)\n",
    "    return fft_feature\n"
   ]
  },
  {
   "cell_type": "code",
   "execution_count": 2,
   "metadata": {},
   "outputs": [],
   "source": [
    "import os\n",
    "\n",
    "def load_fft_features_from_directory(directory, sample_rate=22050, NFFT=512):\n",
    "    \"\"\"\n",
    "    Duyệt qua các file âm thanh trong thư mục và tính đặc trưng FFT cho mỗi file.\n",
    "    Giả sử trong directory có hai thư mục con: 'Queen' và 'NonQueen'.\n",
    "    \n",
    "    Trả về:\n",
    "      - features: mảng đặc trưng (mỗi đặc trưng có kích thước NFFT/2+1)\n",
    "      - labels: nhãn tương ứng.\n",
    "    \"\"\"\n",
    "    labels = []\n",
    "    features = []\n",
    "    for label in ['Queen', 'NonQueen']:\n",
    "        path = os.path.join(directory, label)\n",
    "        for file in os.listdir(path):\n",
    "            file_path = os.path.join(path, file)\n",
    "            signal, sr = librosa.load(file_path, sr=sample_rate)\n",
    "            fft_feature = compute_fft_features(signal, sr, NFFT=NFFT)\n",
    "            features.append(fft_feature)\n",
    "            labels.append(label)\n",
    "    return np.array(features), np.array(labels)\n"
   ]
  },
  {
   "cell_type": "code",
   "execution_count": 3,
   "metadata": {},
   "outputs": [],
   "source": [
    "train_dir = r'E:\\Queenless\\20k_audio_splitted_dataset\\train'\n",
    "val_dir   = r'E:\\Queenless\\20k_audio_splitted_dataset\\val'\n",
    "test_dir  = r'E:\\Queenless\\20k_audio_splitted_dataset\\test'\n",
    "\n",
    "train_features, train_labels = load_fft_features_from_directory(train_dir, sample_rate=22050, NFFT=512)\n",
    "val_features, val_labels = load_fft_features_from_directory(val_dir, sample_rate=22050, NFFT=512)\n",
    "test_features, test_labels = load_fft_features_from_directory(test_dir, sample_rate=22050, NFFT=512)\n"
   ]
  },
  {
   "cell_type": "code",
   "execution_count": 4,
   "metadata": {},
   "outputs": [],
   "source": [
    "from sklearn.preprocessing import LabelEncoder, StandardScaler\n",
    "\n",
    "# Chuyển đổi nhãn từ chuỗi sang số\n",
    "label_encoder = LabelEncoder()\n",
    "train_labels = label_encoder.fit_transform(train_labels)\n",
    "val_labels = label_encoder.transform(val_labels)\n",
    "test_labels = label_encoder.transform(test_labels)\n",
    "\n",
    "# Chuẩn hóa đặc trưng (chỉ dùng cho các mô hình cần)\n",
    "scaler = StandardScaler()\n",
    "train_features_scaled = scaler.fit_transform(train_features)\n",
    "val_features_scaled = scaler.transform(val_features)\n",
    "test_features_scaled = scaler.transform(test_features)\n"
   ]
  },
  {
   "cell_type": "markdown",
   "metadata": {},
   "source": [
    "FFT - KNN"
   ]
  },
  {
   "cell_type": "code",
   "execution_count": 5,
   "metadata": {},
   "outputs": [
    {
     "name": "stdout",
     "output_type": "stream",
     "text": [
      "KNN (FFT features) - Validation Accuracy: 93.03%\n",
      "KNN (FFT features) - Test Accuracy: 94.25%\n"
     ]
    }
   ],
   "source": [
    "from sklearn.neighbors import KNeighborsClassifier\n",
    "from sklearn.metrics import accuracy_score\n",
    "\n",
    "knn_classifier = KNeighborsClassifier(n_neighbors=5)\n",
    "knn_classifier.fit(train_features_scaled, train_labels)\n",
    "\n",
    "val_pred_knn = knn_classifier.predict(val_features_scaled)\n",
    "test_accuracy_fft_knn = knn_classifier.predict(test_features_scaled)\n",
    "print(f\"KNN (FFT features) - Validation Accuracy: {accuracy_score(val_labels, val_pred_knn)*100:.2f}%\")\n",
    "print(f\"KNN (FFT features) - Test Accuracy: {accuracy_score(test_labels, test_accuracy_fft_knn)*100:.2f}%\")"
   ]
  },
  {
   "cell_type": "markdown",
   "metadata": {},
   "source": [
    "FFT - SVM"
   ]
  },
  {
   "cell_type": "code",
   "execution_count": 11,
   "metadata": {},
   "outputs": [
    {
     "name": "stdout",
     "output_type": "stream",
     "text": [
      "Fitting 5 folds for each of 16 candidates, totalling 80 fits\n",
      "[CV 1/5] END ....C=0.1, gamma=scale, kernel=rbf;, score=0.568 total time=  18.5s\n",
      "[CV 2/5] END ....C=0.1, gamma=scale, kernel=rbf;, score=0.819 total time=  20.8s\n",
      "[CV 3/5] END ....C=0.1, gamma=scale, kernel=rbf;, score=0.718 total time=  21.7s\n",
      "[CV 4/5] END ....C=0.1, gamma=scale, kernel=rbf;, score=0.595 total time=  20.3s\n",
      "[CV 5/5] END ....C=0.1, gamma=scale, kernel=rbf;, score=0.767 total time=  19.7s\n",
      "[CV 1/5] END .....C=0.1, gamma=auto, kernel=rbf;, score=0.571 total time=  17.8s\n",
      "[CV 2/5] END .....C=0.1, gamma=auto, kernel=rbf;, score=0.822 total time=  20.6s\n",
      "[CV 3/5] END .....C=0.1, gamma=auto, kernel=rbf;, score=0.716 total time=  19.9s\n",
      "[CV 4/5] END .....C=0.1, gamma=auto, kernel=rbf;, score=0.594 total time=  19.8s\n",
      "[CV 5/5] END .....C=0.1, gamma=auto, kernel=rbf;, score=0.766 total time=  19.9s\n",
      "[CV 1/5] END ......C=0.1, gamma=0.1, kernel=rbf;, score=0.601 total time=  14.6s\n",
      "[CV 2/5] END ......C=0.1, gamma=0.1, kernel=rbf;, score=0.865 total time=  17.2s\n",
      "[CV 3/5] END ......C=0.1, gamma=0.1, kernel=rbf;, score=0.726 total time=  16.2s\n",
      "[CV 4/5] END ......C=0.1, gamma=0.1, kernel=rbf;, score=0.699 total time=  16.8s\n",
      "[CV 5/5] END ......C=0.1, gamma=0.1, kernel=rbf;, score=0.779 total time=  16.7s\n",
      "[CV 1/5] END ........C=0.1, gamma=1, kernel=rbf;, score=0.502 total time=  33.2s\n",
      "[CV 2/5] END ........C=0.1, gamma=1, kernel=rbf;, score=0.502 total time=  32.5s\n",
      "[CV 3/5] END ........C=0.1, gamma=1, kernel=rbf;, score=0.502 total time=  32.7s\n",
      "[CV 4/5] END ........C=0.1, gamma=1, kernel=rbf;, score=0.502 total time=  33.0s\n",
      "[CV 5/5] END ........C=0.1, gamma=1, kernel=rbf;, score=0.502 total time=  32.9s\n",
      "[CV 1/5] END ......C=1, gamma=scale, kernel=rbf;, score=0.605 total time=  11.4s\n",
      "[CV 2/5] END ......C=1, gamma=scale, kernel=rbf;, score=0.887 total time=  14.6s\n",
      "[CV 3/5] END ......C=1, gamma=scale, kernel=rbf;, score=0.715 total time=  13.0s\n",
      "[CV 4/5] END ......C=1, gamma=scale, kernel=rbf;, score=0.659 total time=  13.4s\n",
      "[CV 5/5] END ......C=1, gamma=scale, kernel=rbf;, score=0.751 total time=  12.2s\n",
      "[CV 1/5] END .......C=1, gamma=auto, kernel=rbf;, score=0.604 total time=  11.1s\n",
      "[CV 2/5] END .......C=1, gamma=auto, kernel=rbf;, score=0.888 total time=  13.8s\n",
      "[CV 3/5] END .......C=1, gamma=auto, kernel=rbf;, score=0.716 total time=  12.9s\n",
      "[CV 4/5] END .......C=1, gamma=auto, kernel=rbf;, score=0.659 total time=  13.1s\n",
      "[CV 5/5] END .......C=1, gamma=auto, kernel=rbf;, score=0.747 total time=  12.6s\n",
      "[CV 1/5] END ........C=1, gamma=0.1, kernel=rbf;, score=0.735 total time=  10.1s\n",
      "[CV 2/5] END ........C=1, gamma=0.1, kernel=rbf;, score=0.940 total time=  12.0s\n",
      "[CV 3/5] END ........C=1, gamma=0.1, kernel=rbf;, score=0.756 total time=  11.8s\n",
      "[CV 4/5] END ........C=1, gamma=0.1, kernel=rbf;, score=0.774 total time=  11.8s\n",
      "[CV 5/5] END ........C=1, gamma=0.1, kernel=rbf;, score=0.776 total time=  10.8s\n",
      "[CV 1/5] END ..........C=1, gamma=1, kernel=rbf;, score=0.698 total time= 1.2min\n",
      "[CV 2/5] END ..........C=1, gamma=1, kernel=rbf;, score=0.750 total time= 1.2min\n",
      "[CV 3/5] END ..........C=1, gamma=1, kernel=rbf;, score=0.726 total time= 1.1min\n",
      "[CV 4/5] END ..........C=1, gamma=1, kernel=rbf;, score=0.602 total time= 1.2min\n",
      "[CV 5/5] END ..........C=1, gamma=1, kernel=rbf;, score=0.663 total time= 1.1min\n",
      "[CV 1/5] END .....C=10, gamma=scale, kernel=rbf;, score=0.659 total time=   7.1s\n",
      "[CV 2/5] END .....C=10, gamma=scale, kernel=rbf;, score=0.907 total time=   9.9s\n",
      "[CV 3/5] END .....C=10, gamma=scale, kernel=rbf;, score=0.736 total time=   8.6s\n",
      "[CV 4/5] END .....C=10, gamma=scale, kernel=rbf;, score=0.742 total time=   9.2s\n",
      "[CV 5/5] END .....C=10, gamma=scale, kernel=rbf;, score=0.762 total time=   7.5s\n",
      "[CV 1/5] END ......C=10, gamma=auto, kernel=rbf;, score=0.661 total time=   6.7s\n",
      "[CV 2/5] END ......C=10, gamma=auto, kernel=rbf;, score=0.903 total time=   9.7s\n",
      "[CV 3/5] END ......C=10, gamma=auto, kernel=rbf;, score=0.739 total time=   8.2s\n",
      "[CV 4/5] END ......C=10, gamma=auto, kernel=rbf;, score=0.743 total time=   9.3s\n",
      "[CV 5/5] END ......C=10, gamma=auto, kernel=rbf;, score=0.764 total time=   8.4s\n",
      "[CV 1/5] END .......C=10, gamma=0.1, kernel=rbf;, score=0.754 total time=  10.4s\n",
      "[CV 2/5] END .......C=10, gamma=0.1, kernel=rbf;, score=0.945 total time=  11.7s\n",
      "[CV 3/5] END .......C=10, gamma=0.1, kernel=rbf;, score=0.754 total time=  11.3s\n",
      "[CV 4/5] END .......C=10, gamma=0.1, kernel=rbf;, score=0.768 total time=  12.0s\n",
      "[CV 5/5] END .......C=10, gamma=0.1, kernel=rbf;, score=0.777 total time=  10.8s\n",
      "[CV 1/5] END .........C=10, gamma=1, kernel=rbf;, score=0.709 total time= 1.3min\n",
      "[CV 2/5] END .........C=10, gamma=1, kernel=rbf;, score=0.774 total time= 1.3min\n",
      "[CV 3/5] END .........C=10, gamma=1, kernel=rbf;, score=0.737 total time= 1.3min\n",
      "[CV 4/5] END .........C=10, gamma=1, kernel=rbf;, score=0.618 total time= 1.2min\n",
      "[CV 5/5] END .........C=10, gamma=1, kernel=rbf;, score=0.691 total time= 1.3min\n",
      "[CV 1/5] END ....C=100, gamma=scale, kernel=rbf;, score=0.698 total time=   5.5s\n",
      "[CV 2/5] END ....C=100, gamma=scale, kernel=rbf;, score=0.893 total time=   7.9s\n",
      "[CV 3/5] END ....C=100, gamma=scale, kernel=rbf;, score=0.746 total time=   6.7s\n",
      "[CV 4/5] END ....C=100, gamma=scale, kernel=rbf;, score=0.762 total time=   7.7s\n",
      "[CV 5/5] END ....C=100, gamma=scale, kernel=rbf;, score=0.759 total time=   6.1s\n",
      "[CV 1/5] END .....C=100, gamma=auto, kernel=rbf;, score=0.702 total time=   5.4s\n",
      "[CV 2/5] END .....C=100, gamma=auto, kernel=rbf;, score=0.890 total time=   7.8s\n",
      "[CV 3/5] END .....C=100, gamma=auto, kernel=rbf;, score=0.746 total time=   6.8s\n",
      "[CV 4/5] END .....C=100, gamma=auto, kernel=rbf;, score=0.762 total time=   7.5s\n",
      "[CV 5/5] END .....C=100, gamma=auto, kernel=rbf;, score=0.760 total time=   6.3s\n",
      "[CV 1/5] END ......C=100, gamma=0.1, kernel=rbf;, score=0.754 total time=   9.6s\n",
      "[CV 2/5] END ......C=100, gamma=0.1, kernel=rbf;, score=0.946 total time=  11.6s\n",
      "[CV 3/5] END ......C=100, gamma=0.1, kernel=rbf;, score=0.754 total time=  10.8s\n",
      "[CV 4/5] END ......C=100, gamma=0.1, kernel=rbf;, score=0.768 total time=  11.3s\n",
      "[CV 5/5] END ......C=100, gamma=0.1, kernel=rbf;, score=0.777 total time=  10.4s\n",
      "[CV 1/5] END ........C=100, gamma=1, kernel=rbf;, score=0.709 total time= 1.4min\n",
      "[CV 2/5] END ........C=100, gamma=1, kernel=rbf;, score=0.774 total time= 1.3min\n",
      "[CV 3/5] END ........C=100, gamma=1, kernel=rbf;, score=0.737 total time= 1.3min\n",
      "[CV 4/5] END ........C=100, gamma=1, kernel=rbf;, score=0.618 total time= 1.3min\n",
      "[CV 5/5] END ........C=100, gamma=1, kernel=rbf;, score=0.691 total time= 1.3min\n",
      "Best parameters (SVM with GridSearchCV): {'C': 100, 'gamma': 0.1, 'kernel': 'rbf'}\n",
      "SVM (GridSearchCV, FFT features) - Validation Accuracy: 97.11%\n",
      "SVM (GridSearchCV, FFT features) - Test Accuracy: 97.82%\n"
     ]
    }
   ],
   "source": [
    "from sklearn.model_selection import GridSearchCV\n",
    "from sklearn.svm import SVC\n",
    "\n",
    "param_grid = {\n",
    "    'C': [0.1, 1, 10, 100],\n",
    "    'gamma': ['scale', 'auto', 0.1, 1],\n",
    "    'kernel': ['rbf']\n",
    "}\n",
    "\n",
    "grid_search = GridSearchCV(SVC(), param_grid, refit=True, verbose=3)\n",
    "grid_search.fit(train_features_scaled, train_labels)\n",
    "print(\"Best parameters (SVM with GridSearchCV):\", grid_search.best_params_)\n",
    "\n",
    "best_svm = grid_search.best_estimator_\n",
    "val_pred_svm = best_svm.predict(val_features_scaled)\n",
    "test_accuracy_fft_svm = best_svm.predict(test_features_scaled)\n",
    "print(f\"SVM (GridSearchCV, FFT features) - Validation Accuracy: {accuracy_score(val_labels, val_pred_svm)*100:.2f}%\")\n",
    "print(f\"SVM (GridSearchCV, FFT features) - Test Accuracy: {accuracy_score(test_labels, test_accuracy_fft_svm)*100:.2f}%\")\n"
   ]
  },
  {
   "cell_type": "code",
   "execution_count": null,
   "metadata": {},
   "outputs": [],
   "source": [
    "from sklearn.model_selection import GridSearchCV\n",
    "from sklearn.svm import SVC\n",
    "from sklearn.metrics import accuracy_score\n",
    "\n",
    "param_grid = {\n",
    "    'C': [100],\n",
    "    'gamma': [0.1],\n",
    "    'kernel': ['rbf']\n",
    "}\n",
    "\n",
    "grid_search = GridSearchCV(SVC(), param_grid, refit=True, verbose=3)\n",
    "grid_search.fit(train_features_scaled, train_labels)\n",
    "\n",
    "print(\"Best parameters (SVM with GridSearchCV):\", grid_search.best_params_)\n",
    "\n",
    "best_svm = grid_search.best_estimator_\n",
    "val_pred_svm = best_svm.predict(val_features_scaled)\n",
    "test_pred_svm = best_svm.predict(test_features_scaled)\n",
    "\n",
    "print(f\"SVM (GridSearchCV, FFT features) - Validation Accuracy: {accuracy_score(val_labels, val_pred_svm)*100:.2f}%\")\n",
    "print(f\"SVM (GridSearchCV, FFT features) - Test Accuracy: {accuracy_score(test_labels, test_pred_svm)*100:.2f}%\")\n"
   ]
  },
  {
   "cell_type": "markdown",
   "metadata": {},
   "source": [
    "FFT - LR"
   ]
  },
  {
   "cell_type": "code",
   "execution_count": 12,
   "metadata": {},
   "outputs": [
    {
     "name": "stdout",
     "output_type": "stream",
     "text": [
      "Logistic Regression (FFT features) - Validation Accuracy: 85.62%\n",
      "Logistic Regression (FFT features) - Test Accuracy: 85.97%\n"
     ]
    }
   ],
   "source": [
    "from sklearn.linear_model import LogisticRegression\n",
    "\n",
    "lr_classifier = LogisticRegression(random_state=42, max_iter=1000)\n",
    "lr_classifier.fit(train_features_scaled, train_labels)\n",
    "\n",
    "val_pred_lr = lr_classifier.predict(val_features_scaled)\n",
    "test_accuracy_fft_lr = lr_classifier.predict(test_features_scaled)\n",
    "print(f\"Logistic Regression (FFT features) - Validation Accuracy: {accuracy_score(val_labels, val_pred_lr)*100:.2f}%\")\n",
    "print(f\"Logistic Regression (FFT features) - Test Accuracy: {accuracy_score(test_labels, test_accuracy_fft_lr)*100:.2f}%\")\n"
   ]
  },
  {
   "cell_type": "markdown",
   "metadata": {},
   "source": [
    "FFT - RF"
   ]
  },
  {
   "cell_type": "code",
   "execution_count": 13,
   "metadata": {},
   "outputs": [
    {
     "name": "stdout",
     "output_type": "stream",
     "text": [
      "Random Forest (FFT features) - Validation Accuracy: 93.58%\n",
      "Random Forest (FFT features) - Test Accuracy: 94.67%\n"
     ]
    }
   ],
   "source": [
    "from sklearn.ensemble import RandomForestClassifier\n",
    "from sklearn.metrics import accuracy_score\n",
    "\n",
    "rf_classifier = RandomForestClassifier(n_estimators=100, random_state=42)\n",
    "rf_classifier.fit(train_features, train_labels)\n",
    "\n",
    "val_pred_rf = rf_classifier.predict(val_features)\n",
    "test_accuracy_fft_rf = rf_classifier.predict(test_features)\n",
    "print(f\"Random Forest (FFT features) - Validation Accuracy: {accuracy_score(val_labels, val_pred_rf)*100:.2f}%\")\n",
    "print(f\"Random Forest (FFT features) - Test Accuracy: {accuracy_score(test_labels, test_accuracy_fft_rf)*100:.2f}%\")\n"
   ]
  },
  {
   "cell_type": "markdown",
   "metadata": {},
   "source": [
    "FFT - ET"
   ]
  },
  {
   "cell_type": "code",
   "execution_count": 14,
   "metadata": {},
   "outputs": [
    {
     "name": "stdout",
     "output_type": "stream",
     "text": [
      "Extra Trees (FFT features) - Validation Accuracy: 92.74%\n",
      "Extra Trees (FFT features) - Test Accuracy: 93.95%\n"
     ]
    }
   ],
   "source": [
    "from sklearn.ensemble import ExtraTreesClassifier\n",
    "\n",
    "et_classifier = ExtraTreesClassifier(n_estimators=100, random_state=42)\n",
    "et_classifier.fit(train_features_scaled, train_labels)\n",
    "\n",
    "val_pred_et = et_classifier.predict(val_features_scaled)\n",
    "test_accuracy_fft_et = et_classifier.predict(test_features_scaled)\n",
    "print(f\"Extra Trees (FFT features) - Validation Accuracy: {accuracy_score(val_labels, val_pred_et)*100:.2f}%\")\n",
    "print(f\"Extra Trees (FFT features) - Test Accuracy: {accuracy_score(test_labels, test_accuracy_fft_et)*100:.2f}%\")\n"
   ]
  },
  {
   "cell_type": "markdown",
   "metadata": {},
   "source": [
    "# FFT 1D"
   ]
  },
  {
   "cell_type": "code",
   "execution_count": 14,
   "metadata": {},
   "outputs": [],
   "source": [
    "import numpy as np\n",
    "import librosa\n",
    "import os\n",
    "from sklearn.preprocessing import StandardScaler, LabelEncoder\n",
    "\n",
    "# Hàm FFT 1D\n",
    "def fft_1d(x):\n",
    "    N = len(x)\n",
    "    if N <= 1:\n",
    "        return x\n",
    "    even = fft_1d(x[::2])  \n",
    "    odd = fft_1d(x[1::2])  \n",
    "    factor = np.exp(-2j * np.pi * np.arange(N) / N)\n",
    "    X = np.zeros(N, dtype=complex)\n",
    "    for k in range(N // 2):\n",
    "        X[k] = even[k] + factor[k] * odd[k]\n",
    "        X[k + N // 2] = even[k] - factor[k] * odd[k]\n",
    "    return X\n",
    "\n",
    "# Hàm tải và tính đặc trưng FFT cho dữ liệu trong thư mục\n",
    "def load_fft_features_from_directory(directory, sample_rate=22050, NFFT=512):\n",
    "    labels = []\n",
    "    features = []\n",
    "    for label in ['Queen', 'NonQueen']:\n",
    "        path = os.path.join(directory, label)\n",
    "        for file in os.listdir(path):\n",
    "            file_path = os.path.join(path, file)\n",
    "            signal, sr = librosa.load(file_path, sr=sample_rate)\n",
    "            fft_feature = fft_1d(signal[:NFFT])\n",
    "            features.append(fft_feature)\n",
    "            labels.append(label)\n",
    "    return np.array(features), np.array(labels)"
   ]
  },
  {
   "cell_type": "code",
   "execution_count": 15,
   "metadata": {},
   "outputs": [],
   "source": [
    "def preprocess_features(features):\n",
    "    real_part = features.real\n",
    "    imag_part = features.imag\n",
    "    scaler = StandardScaler()\n",
    "    real_scaled = scaler.fit_transform(real_part)\n",
    "    imag_scaled = scaler.fit_transform(imag_part)\n",
    "    return np.stack((real_scaled, imag_scaled), axis=-1)\n",
    "\n",
    "# Đọc dữ liệu và tính đặc trưng FFT\n",
    "train_dir = r'E:\\Queenless\\20k_audio_splitted_dataset\\train'\n",
    "val_dir = r'E:\\Queenless\\20k_audio_splitted_dataset\\val'\n",
    "test_dir = r'E:\\Queenless\\20k_audio_splitted_dataset\\test'\n",
    "\n",
    "train_features, train_labels = load_fft_features_from_directory(train_dir)\n",
    "val_features, val_labels = load_fft_features_from_directory(val_dir)\n",
    "test_features, test_labels = load_fft_features_from_directory(test_dir)"
   ]
  },
  {
   "cell_type": "code",
   "execution_count": 16,
   "metadata": {},
   "outputs": [],
   "source": [
    "# Chuyển đổi nhãn từ chuỗi sang số\n",
    "label_encoder = LabelEncoder()\n",
    "train_labels = label_encoder.fit_transform(train_labels)\n",
    "val_labels = label_encoder.transform(val_labels)\n",
    "test_labels = label_encoder.transform(test_labels)\n",
    "\n",
    "# Chuẩn hóa đặc trưng\n",
    "train_features_scaled = preprocess_features(train_features)\n",
    "val_features_scaled = preprocess_features(val_features)\n",
    "test_features_scaled = preprocess_features(test_features)"
   ]
  },
  {
   "cell_type": "markdown",
   "metadata": {},
   "source": [
    "FFT 1D - KNN"
   ]
  },
  {
   "cell_type": "code",
   "execution_count": 21,
   "metadata": {},
   "outputs": [
    {
     "name": "stdout",
     "output_type": "stream",
     "text": [
      "KNN (FFT features) - Validation Accuracy: 53.53%\n",
      "KNN (FFT features) - Test Accuracy: 52.35%\n"
     ]
    }
   ],
   "source": [
    "from sklearn.neighbors import KNeighborsClassifier\n",
    "from sklearn.metrics import accuracy_score\n",
    "\n",
    "# Flatten features to make them 2D (samples, features)\n",
    "train_features_flat = train_features_scaled.reshape(train_features_scaled.shape[0], -1)\n",
    "val_features_flat = val_features_scaled.reshape(val_features_scaled.shape[0], -1)\n",
    "test_features_flat = test_features_scaled.reshape(test_features_scaled.shape[0], -1)\n",
    "\n",
    "knn_classifier = KNeighborsClassifier(n_neighbors=5)\n",
    "\n",
    "knn_classifier.fit(train_features_flat, train_labels)\n",
    "\n",
    "val_pred_knn = knn_classifier.predict(val_features_flat)\n",
    "\n",
    "test_accuracy_fft1d_knn = knn_classifier.predict(test_features_flat)\n",
    "\n",
    "print(f\"KNN (FFT features) - Validation Accuracy: {accuracy_score(val_labels, val_pred_knn)*100:.2f}%\")\n",
    "print(f\"KNN (FFT features) - Test Accuracy: {accuracy_score(test_labels, test_accuracy_fft1d_knn)*100:.2f}%\")\n"
   ]
  },
  {
   "cell_type": "markdown",
   "metadata": {},
   "source": [
    "FFT 1D - SVM"
   ]
  },
  {
   "cell_type": "code",
   "execution_count": 24,
   "metadata": {},
   "outputs": [
    {
     "name": "stdout",
     "output_type": "stream",
     "text": [
      "SVM (Manual Parameters) - Validation Accuracy: 57.86%\n",
      "SVM (Manual Parameters) - Test Accuracy: 56.23%\n"
     ]
    }
   ],
   "source": [
    "from sklearn.svm import SVC\n",
    "from sklearn.metrics import accuracy_score\n",
    "\n",
    "svm = SVC(C=100, gamma=0.1, kernel='rbf')\n",
    "svm.fit(train_features_flat, train_labels)\n",
    "\n",
    "val_pred_svm = svm.predict(val_features_flat)\n",
    "test_accuracy_fft1d_svm = svm.predict(test_features_flat)\n",
    "\n",
    "print(f\"SVM (Manual Parameters) - Validation Accuracy: {accuracy_score(val_labels, val_pred_svm)*100:.2f}%\")\n",
    "print(f\"SVM (Manual Parameters) - Test Accuracy: {accuracy_score(test_labels, test_accuracy_fft1d_svm)*100:.2f}%\")\n"
   ]
  },
  {
   "cell_type": "markdown",
   "metadata": {},
   "source": [
    "FFT 1D - RF"
   ]
  },
  {
   "cell_type": "code",
   "execution_count": 25,
   "metadata": {},
   "outputs": [
    {
     "name": "stdout",
     "output_type": "stream",
     "text": [
      "Random Forest (FFT features) - Validation Accuracy: 64.28%\n",
      "Random Forest (FFT features) - Test Accuracy: 67.70%\n"
     ]
    }
   ],
   "source": [
    "from sklearn.ensemble import RandomForestClassifier\n",
    "from sklearn.metrics import accuracy_score\n",
    "\n",
    "rf_classifier = RandomForestClassifier(n_estimators=100, random_state=42)\n",
    "rf_classifier.fit(train_features_flat, train_labels)\n",
    "\n",
    "val_pred_rf = rf_classifier.predict(val_features_flat)\n",
    "test_accuracy_fft1d_rf = rf_classifier.predict(test_features_flat)\n",
    "print(f\"Random Forest (FFT features) - Validation Accuracy: {accuracy_score(val_labels, val_pred_rf)*100:.2f}%\")\n",
    "print(f\"Random Forest (FFT features) - Test Accuracy: {accuracy_score(test_labels, test_accuracy_fft1d_rf)*100:.2f}%\")\n"
   ]
  },
  {
   "cell_type": "markdown",
   "metadata": {},
   "source": [
    "FFT 1D - ET"
   ]
  },
  {
   "cell_type": "code",
   "execution_count": 26,
   "metadata": {},
   "outputs": [
    {
     "name": "stdout",
     "output_type": "stream",
     "text": [
      "Extra Trees (FFT features) - Validation Accuracy: 64.38%\n",
      "Extra Trees (FFT features) - Test Accuracy: 63.45%\n"
     ]
    }
   ],
   "source": [
    "from sklearn.ensemble import ExtraTreesClassifier\n",
    "\n",
    "et_classifier = ExtraTreesClassifier(n_estimators=100, random_state=42)\n",
    "et_classifier.fit(train_features_flat, train_labels)\n",
    "\n",
    "val_pred_et = et_classifier.predict(val_features_flat)\n",
    "test_accuracy_fft1d_et = et_classifier.predict(test_features_flat)\n",
    "print(f\"Extra Trees (FFT features) - Validation Accuracy: {accuracy_score(val_labels, val_pred_et)*100:.2f}%\")\n",
    "print(f\"Extra Trees (FFT features) - Test Accuracy: {accuracy_score(test_labels, test_accuracy_fft1d_et)*100:.2f}%\")\n"
   ]
  },
  {
   "cell_type": "markdown",
   "metadata": {},
   "source": [
    "# STFT"
   ]
  },
  {
   "cell_type": "code",
   "execution_count": 15,
   "metadata": {},
   "outputs": [],
   "source": [
    "import numpy as np\n",
    "import librosa\n",
    "\n",
    "def compute_stft_features(signal_in, sample_rate, n_fft=2048, hop_length=512, apply_log=True):\n",
    "    \"\"\"\n",
    "    Tính đặc trưng STFT của tín hiệu:\n",
    "      - Tính STFT bằng librosa.stft và lấy giá trị magnitude.\n",
    "      - (Tùy chọn) Áp dụng log scaling.\n",
    "      - Trung bình theo trục thời gian (axis=1) để thu được vector đặc trưng có kích thước (n_fft/2+1,).\n",
    "    \"\"\"\n",
    "    stft_matrix = np.abs(librosa.stft(signal_in, n_fft=n_fft, hop_length=hop_length))\n",
    "    if apply_log:\n",
    "        stft_matrix = np.log(stft_matrix + 1e-8)  # Thêm epsilon để tránh log(0)\n",
    "    # Trung bình theo trục thời gian (tính trung bình các cột)\n",
    "    features = np.mean(stft_matrix, axis=1)\n",
    "    return features\n",
    "\n",
    "def load_stft_features_from_directory(directory, sample_rate=22050, n_fft=2048, hop_length=512):\n",
    "    \"\"\"\n",
    "    Duyệt qua các file âm thanh trong thư mục và tính đặc trưng STFT cho mỗi file.\n",
    "    Giả sử trong directory có 2 thư mục con: 'Queen' và 'NonQueen'.\n",
    "    \n",
    "    Trả về:\n",
    "      - features: mảng các vector đặc trưng (mỗi vector có kích thước n_fft/2+1)\n",
    "      - labels: nhãn tương ứng.\n",
    "    \"\"\"\n",
    "    import os\n",
    "    features = []\n",
    "    labels = []\n",
    "    for label in ['Queen', 'NonQueen']:\n",
    "        path = os.path.join(directory, label)\n",
    "        for file in os.listdir(path):\n",
    "            file_path = os.path.join(path, file)\n",
    "            signal, sr = librosa.load(file_path, sr=sample_rate)\n",
    "            stft_feature = compute_stft_features(signal, sr, n_fft=n_fft, hop_length=hop_length, apply_log=True)\n",
    "            features.append(stft_feature)\n",
    "            labels.append(label)\n",
    "    return np.array(features), np.array(labels)\n"
   ]
  },
  {
   "cell_type": "code",
   "execution_count": 16,
   "metadata": {},
   "outputs": [],
   "source": [
    "train_features_stft, train_labels_stft = load_stft_features_from_directory(train_dir, sample_rate=22050, n_fft=2048, hop_length=512)\n",
    "val_features_stft, val_labels_stft     = load_stft_features_from_directory(val_dir, sample_rate=22050, n_fft=2048, hop_length=512)\n",
    "test_features_stft, test_labels_stft   = load_stft_features_from_directory(test_dir, sample_rate=22050, n_fft=2048, hop_length=512)\n"
   ]
  },
  {
   "cell_type": "code",
   "execution_count": 17,
   "metadata": {},
   "outputs": [],
   "source": [
    "from sklearn.preprocessing import LabelEncoder, StandardScaler\n",
    "\n",
    "# Chuyển đổi nhãn từ chuỗi sang số\n",
    "label_encoder_stft = LabelEncoder()\n",
    "train_labels_stft = label_encoder_stft.fit_transform(train_labels_stft)\n",
    "val_labels_stft   = label_encoder_stft.transform(val_labels_stft)\n",
    "test_labels_stft  = label_encoder_stft.transform(test_labels_stft)\n",
    "\n",
    "# Chuẩn hóa đặc trưng (STFT) cho các mô hình cần đặc trưng đã chuẩn hóa\n",
    "scaler_stft = StandardScaler()\n",
    "train_features_stft_scaled = scaler_stft.fit_transform(train_features_stft)\n",
    "val_features_stft_scaled   = scaler_stft.transform(val_features_stft)\n",
    "test_features_stft_scaled  = scaler_stft.transform(test_features_stft)\n"
   ]
  },
  {
   "cell_type": "markdown",
   "metadata": {},
   "source": [
    "STFT - KNN"
   ]
  },
  {
   "cell_type": "code",
   "execution_count": 18,
   "metadata": {},
   "outputs": [
    {
     "name": "stdout",
     "output_type": "stream",
     "text": [
      "KNN (STFT) - Test Accuracy: 94.50%\n"
     ]
    }
   ],
   "source": [
    "from sklearn.neighbors import KNeighborsClassifier\n",
    "from sklearn.metrics import accuracy_score\n",
    "\n",
    "knn_classifier_stft = KNeighborsClassifier(n_neighbors=25)\n",
    "knn_classifier_stft.fit(train_features_stft_scaled, train_labels_stft)\n",
    "val_pred_stft_knn = knn_classifier_stft.predict(val_features_stft_scaled)\n",
    "test_pred_stft_knn = knn_classifier_stft.predict(test_features_stft_scaled)\n",
    "\n",
    "test_accuracy_stft_knn = accuracy_score(test_labels_stft, test_pred_stft_knn)\n",
    "print(f\"KNN (STFT) - Test Accuracy: {test_accuracy_stft_knn*100:.2f}%\")\n"
   ]
  },
  {
   "cell_type": "markdown",
   "metadata": {},
   "source": [
    "STFT - SVM"
   ]
  },
  {
   "cell_type": "code",
   "execution_count": 67,
   "metadata": {},
   "outputs": [
    {
     "name": "stdout",
     "output_type": "stream",
     "text": [
      "SVM (STFT) - Test Accuracy: 56.62%\n"
     ]
    }
   ],
   "source": [
    "from sklearn.svm import SVC\n",
    "\n",
    "svm_classifier_stft = SVC(C=100, kernel='rbf', gamma=1, random_state=42)\n",
    "svm_classifier_stft.fit(train_features_stft_scaled, train_labels_stft)\n",
    "val_pred_stft_svm = svm_classifier_stft.predict(val_features_stft_scaled)\n",
    "test_pred_stft_svm = svm_classifier_stft.predict(test_features_stft_scaled)\n",
    "\n",
    "test_accuracy_stft_svm = accuracy_score(test_labels_stft, test_pred_stft_svm)\n",
    "print(f\"SVM (STFT) - Test Accuracy: {test_accuracy_stft_svm*100:.2f}%\")"
   ]
  },
  {
   "cell_type": "markdown",
   "metadata": {},
   "source": [
    "STFT - LR"
   ]
  },
  {
   "cell_type": "code",
   "execution_count": 20,
   "metadata": {},
   "outputs": [
    {
     "name": "stdout",
     "output_type": "stream",
     "text": [
      "Logistic Regression (STFT) - Test Accuracy: 89.50%\n"
     ]
    }
   ],
   "source": [
    "from sklearn.linear_model import LogisticRegression\n",
    "\n",
    "lr_classifier_stft = LogisticRegression(random_state=42, max_iter=1000)\n",
    "lr_classifier_stft.fit(train_features_stft_scaled, train_labels_stft)\n",
    "val_pred_stft_lr = lr_classifier_stft.predict(val_features_stft_scaled)\n",
    "test_pred_stft_lr = lr_classifier_stft.predict(test_features_stft_scaled)\n",
    "\n",
    "test_accuracy_stft_lr = accuracy_score(test_labels_stft, test_pred_stft_lr)\n",
    "print(f\"Logistic Regression (STFT) - Test Accuracy: {test_accuracy_stft_lr*100:.2f}%\")"
   ]
  },
  {
   "cell_type": "markdown",
   "metadata": {},
   "source": [
    "STFT - RF"
   ]
  },
  {
   "cell_type": "code",
   "execution_count": 21,
   "metadata": {},
   "outputs": [
    {
     "name": "stdout",
     "output_type": "stream",
     "text": [
      "Random Forest (STFT) - Test Accuracy: 94.65%\n"
     ]
    }
   ],
   "source": [
    "from sklearn.ensemble import RandomForestClassifier\n",
    "\n",
    "rf_classifier_stft = RandomForestClassifier(n_estimators=100, random_state=42)\n",
    "rf_classifier_stft.fit(train_features_stft, train_labels_stft)\n",
    "val_pred_stft_rf = rf_classifier_stft.predict(val_features_stft)\n",
    "test_pred_stft_rf = rf_classifier_stft.predict(test_features_stft)\n",
    "\n",
    "test_accuracy_stft_rf = accuracy_score(test_labels_stft, test_pred_stft_rf)\n",
    "print(f\"Random Forest (STFT) - Test Accuracy: {test_accuracy_stft_rf*100:.2f}%\")\n"
   ]
  },
  {
   "cell_type": "markdown",
   "metadata": {},
   "source": [
    "STFT - ET"
   ]
  },
  {
   "cell_type": "code",
   "execution_count": 22,
   "metadata": {},
   "outputs": [
    {
     "name": "stdout",
     "output_type": "stream",
     "text": [
      "Extra Trees (STFT) - Test Accuracy: 94.10%\n"
     ]
    }
   ],
   "source": [
    "from sklearn.ensemble import ExtraTreesClassifier\n",
    "\n",
    "et_classifier_stft = ExtraTreesClassifier(n_estimators=100, random_state=42)\n",
    "et_classifier_stft.fit(train_features_stft_scaled, train_labels_stft)\n",
    "val_pred_stft_et = et_classifier_stft.predict(val_features_stft_scaled)\n",
    "test_pred_stft_et = et_classifier_stft.predict(test_features_stft_scaled)\n",
    "\n",
    "test_accuracy_stft_et = accuracy_score(test_labels_stft, test_pred_stft_et)\n",
    "print(f\"Extra Trees (STFT) - Test Accuracy: {test_accuracy_stft_et*100:.2f}%\")\n"
   ]
  },
  {
   "cell_type": "markdown",
   "metadata": {},
   "source": [
    "# CQT"
   ]
  },
  {
   "cell_type": "code",
   "execution_count": 23,
   "metadata": {},
   "outputs": [],
   "source": [
    "import numpy as np\n",
    "import librosa\n",
    "\n",
    "def compute_cqt_features(signal_in, sample_rate, hop_length=512, fmin=None, \n",
    "                         n_bins=84, bins_per_octave=12, apply_log=True):\n",
    "    \"\"\"\n",
    "    Tính đặc trưng CQT của tín hiệu:\n",
    "      - Sử dụng librosa.cqt để tính ma trận CQT, lấy giá trị magnitude.\n",
    "      - (Tùy chọn) Áp dụng log scaling để giảm phạm vi giá trị.\n",
    "      - Trung bình theo trục thời gian (axis=1) để thu được vector đặc trưng có kích thước (n_bins,).\n",
    "      \n",
    "    Nếu fmin không được chỉ định, librosa sẽ tự động sử dụng fmin mặc định.\n",
    "    \"\"\"\n",
    "    cqt_matrix = np.abs(librosa.cqt(signal_in, sr=sample_rate, hop_length=hop_length,\n",
    "                                    fmin=fmin, n_bins=n_bins, bins_per_octave=bins_per_octave))\n",
    "    if apply_log:\n",
    "        cqt_matrix = np.log(cqt_matrix + 1e-8)\n",
    "    # Trung bình theo trục thời gian (tính trung bình các cột)\n",
    "    features = np.mean(cqt_matrix, axis=1)\n",
    "    return features\n",
    "\n",
    "def load_cqt_features_from_directory(directory, sample_rate=22050, \n",
    "                                     hop_length=512, fmin=None, n_bins=84, bins_per_octave=12):\n",
    "    \"\"\"\n",
    "    Duyệt qua các file âm thanh trong thư mục và tính đặc trưng CQT cho mỗi file.\n",
    "    Giả sử trong directory có 2 thư mục con: 'Queen' và 'NonQueen'.\n",
    "    \n",
    "    Trả về:\n",
    "      - features: mảng các vector đặc trưng (mỗi vector có kích thước n_bins)\n",
    "      - labels: nhãn tương ứng.\n",
    "    \"\"\"\n",
    "    import os\n",
    "    features = []\n",
    "    labels = []\n",
    "    for label in ['Queen', 'NonQueen']:\n",
    "        path = os.path.join(directory, label)\n",
    "        for file in os.listdir(path):\n",
    "            file_path = os.path.join(path, file)\n",
    "            signal, sr = librosa.load(file_path, sr=sample_rate)\n",
    "            cqt_feature = compute_cqt_features(signal, sr, hop_length=hop_length, \n",
    "                                               fmin=fmin, n_bins=n_bins, bins_per_octave=bins_per_octave, \n",
    "                                               apply_log=True)\n",
    "            features.append(cqt_feature)\n",
    "            labels.append(label)\n",
    "    return np.array(features), np.array(labels)\n"
   ]
  },
  {
   "cell_type": "code",
   "execution_count": 24,
   "metadata": {},
   "outputs": [],
   "source": [
    "train_features_cqt, train_labels_cqt = load_cqt_features_from_directory(train_dir, sample_rate=22050,\n",
    "                                                                        hop_length=512, fmin=None, n_bins=84, bins_per_octave=12)\n",
    "val_features_cqt, val_labels_cqt     = load_cqt_features_from_directory(val_dir, sample_rate=22050,\n",
    "                                                                        hop_length=512, fmin=None, n_bins=84, bins_per_octave=12)\n",
    "test_features_cqt, test_labels_cqt   = load_cqt_features_from_directory(test_dir, sample_rate=22050,\n",
    "                                                                        hop_length=512, fmin=None, n_bins=84, bins_per_octave=12)\n"
   ]
  },
  {
   "cell_type": "code",
   "execution_count": 25,
   "metadata": {},
   "outputs": [],
   "source": [
    "from sklearn.preprocessing import LabelEncoder, StandardScaler\n",
    "\n",
    "# Chuyển đổi nhãn từ chuỗi sang số\n",
    "label_encoder_cqt = LabelEncoder()\n",
    "train_labels_cqt = label_encoder_cqt.fit_transform(train_labels_cqt)\n",
    "val_labels_cqt   = label_encoder_cqt.transform(val_labels_cqt)\n",
    "test_labels_cqt  = label_encoder_cqt.transform(test_labels_cqt)\n",
    "\n",
    "# Chuẩn hóa đặc trưng (CQT) cho các mô hình cần đặc trưng đã chuẩn hóa\n",
    "scaler_cqt = StandardScaler()\n",
    "train_features_cqt_scaled = scaler_cqt.fit_transform(train_features_cqt)\n",
    "val_features_cqt_scaled   = scaler_cqt.transform(val_features_cqt)\n",
    "test_features_cqt_scaled  = scaler_cqt.transform(test_features_cqt)\n"
   ]
  },
  {
   "cell_type": "markdown",
   "metadata": {},
   "source": [
    "CQT - KNN"
   ]
  },
  {
   "cell_type": "code",
   "execution_count": 26,
   "metadata": {},
   "outputs": [
    {
     "name": "stdout",
     "output_type": "stream",
     "text": [
      "KNN (CQT) - Test Accuracy: 95.83%\n"
     ]
    }
   ],
   "source": [
    "from sklearn.neighbors import KNeighborsClassifier\n",
    "from sklearn.metrics import accuracy_score\n",
    "\n",
    "knn_classifier_cqt = KNeighborsClassifier(n_neighbors=5)\n",
    "knn_classifier_cqt.fit(train_features_cqt_scaled, train_labels_cqt)\n",
    "val_pred_cqt_knn = knn_classifier_cqt.predict(val_features_cqt_scaled)\n",
    "test_pred_cqt_knn = knn_classifier_cqt.predict(test_features_cqt_scaled)\n",
    "\n",
    "test_accuracy_cqt_knn = accuracy_score(test_labels_cqt, test_pred_cqt_knn)\n",
    "print(f\"KNN (CQT) - Test Accuracy: {test_accuracy_cqt_knn*100:.2f}%\")\n"
   ]
  },
  {
   "cell_type": "markdown",
   "metadata": {},
   "source": [
    "CQT - SVM"
   ]
  },
  {
   "cell_type": "code",
   "execution_count": 27,
   "metadata": {},
   "outputs": [
    {
     "name": "stdout",
     "output_type": "stream",
     "text": [
      "SVM (CQT) - Test Accuracy: 80.17%\n"
     ]
    }
   ],
   "source": [
    "from sklearn.svm import SVC\n",
    "\n",
    "svm_classifier_cqt = SVC(C=10, kernel='rbf', gamma=1, random_state=42)\n",
    "svm_classifier_cqt.fit(train_features_cqt_scaled, train_labels_cqt)\n",
    "val_pred_cqt_svm = svm_classifier_cqt.predict(val_features_cqt_scaled)\n",
    "test_pred_cqt_svm = svm_classifier_cqt.predict(test_features_cqt_scaled)\n",
    "\n",
    "test_accuracy_cqt_svm = accuracy_score(test_labels_cqt, test_pred_cqt_svm)\n",
    "print(f\"SVM (CQT) - Test Accuracy: {test_accuracy_cqt_svm*100:.2f}%\")\n"
   ]
  },
  {
   "cell_type": "markdown",
   "metadata": {},
   "source": [
    "CQT - LR"
   ]
  },
  {
   "cell_type": "code",
   "execution_count": 28,
   "metadata": {},
   "outputs": [
    {
     "name": "stdout",
     "output_type": "stream",
     "text": [
      "Logistic Regression (CQT) - Test Accuracy: 83.60%\n"
     ]
    }
   ],
   "source": [
    "from sklearn.linear_model import LogisticRegression\n",
    "\n",
    "lr_classifier_cqt = LogisticRegression(random_state=42, max_iter=1000)\n",
    "lr_classifier_cqt.fit(train_features_cqt_scaled, train_labels_cqt)\n",
    "val_pred_cqt_lr = lr_classifier_cqt.predict(val_features_cqt_scaled)\n",
    "test_pred_cqt_lr = lr_classifier_cqt.predict(test_features_cqt_scaled)\n",
    "\n",
    "test_accuracy_cqt_lr = accuracy_score(test_labels_cqt, test_pred_cqt_lr)\n",
    "print(f\"Logistic Regression (CQT) - Test Accuracy: {test_accuracy_cqt_lr*100:.2f}%\")\n"
   ]
  },
  {
   "cell_type": "markdown",
   "metadata": {},
   "source": [
    "CQT - RF"
   ]
  },
  {
   "cell_type": "code",
   "execution_count": 29,
   "metadata": {},
   "outputs": [
    {
     "name": "stdout",
     "output_type": "stream",
     "text": [
      "Random Forest (CQT) - Test Accuracy: 94.55%\n"
     ]
    }
   ],
   "source": [
    "from sklearn.ensemble import RandomForestClassifier\n",
    "\n",
    "rf_classifier_cqt = RandomForestClassifier(n_estimators=100, random_state=42)\n",
    "rf_classifier_cqt.fit(train_features_cqt, train_labels_cqt)\n",
    "val_pred_cqt_rf = rf_classifier_cqt.predict(val_features_cqt)\n",
    "test_pred_cqt_rf = rf_classifier_cqt.predict(test_features_cqt)\n",
    "\n",
    "test_accuracy_cqt_rf = accuracy_score(test_labels_cqt, test_pred_cqt_rf)\n",
    "print(f\"Random Forest (CQT) - Test Accuracy: {test_accuracy_cqt_rf*100:.2f}%\")\n"
   ]
  },
  {
   "cell_type": "markdown",
   "metadata": {},
   "source": [
    "CQT - ET"
   ]
  },
  {
   "cell_type": "code",
   "execution_count": 30,
   "metadata": {},
   "outputs": [
    {
     "name": "stdout",
     "output_type": "stream",
     "text": [
      "Extra Trees (CQT) - Test Accuracy: 95.08%\n"
     ]
    }
   ],
   "source": [
    "from sklearn.ensemble import ExtraTreesClassifier\n",
    "\n",
    "et_classifier_cqt = ExtraTreesClassifier(n_estimators=100, random_state=42)\n",
    "et_classifier_cqt.fit(train_features_cqt_scaled, train_labels_cqt)\n",
    "val_pred_cqt_et = et_classifier_cqt.predict(val_features_cqt_scaled)\n",
    "test_pred_cqt_et = et_classifier_cqt.predict(test_features_cqt_scaled)\n",
    "\n",
    "test_accuracy_cqt_et = accuracy_score(test_labels_cqt, test_pred_cqt_et)\n",
    "print(f\"Extra Trees (CQT) - Test Accuracy: {test_accuracy_cqt_et*100:.2f}%\")\n"
   ]
  },
  {
   "cell_type": "markdown",
   "metadata": {},
   "source": [
    "# Chroma"
   ]
  },
  {
   "cell_type": "code",
   "execution_count": 31,
   "metadata": {},
   "outputs": [],
   "source": [
    "import numpy as np\n",
    "import librosa\n",
    "\n",
    "def compute_chroma_features(signal_in, sample_rate, n_fft=2048, hop_length=512, n_chroma=12):\n",
    "    \"\"\"\n",
    "    Tính đặc trưng Chroma của tín hiệu:\n",
    "      - Sử dụng librosa.feature.chroma_stft để tính ma trận chroma.\n",
    "      - Trung bình theo trục thời gian (axis=1) để thu được vector đặc trưng có kích thước (n_chroma,).\n",
    "    \"\"\"\n",
    "    chroma = librosa.feature.chroma_stft(y=signal_in, sr=sample_rate, n_fft=n_fft, \n",
    "                                           hop_length=hop_length, n_chroma=n_chroma)\n",
    "    # Tính trung bình theo thời gian (các frame)\n",
    "    feature_vector = np.mean(chroma, axis=1)\n",
    "    return feature_vector\n",
    "\n",
    "def load_chroma_features_from_directory(directory, sample_rate=22050, n_fft=2048, hop_length=512, n_chroma=12):\n",
    "    \"\"\"\n",
    "    Duyệt qua các file âm thanh trong thư mục và tính đặc trưng Chroma cho mỗi file.\n",
    "    Giả sử trong directory có 2 thư mục con: 'Queen' và 'NonQueen'.\n",
    "    \n",
    "    Trả về:\n",
    "      - features: mảng các vector đặc trưng (mỗi vector có kích thước n_chroma)\n",
    "      - labels: nhãn tương ứng.\n",
    "    \"\"\"\n",
    "    import os\n",
    "    features = []\n",
    "    labels = []\n",
    "    for label in ['Queen', 'NonQueen']:\n",
    "        path = os.path.join(directory, label)\n",
    "        for file in os.listdir(path):\n",
    "            file_path = os.path.join(path, file)\n",
    "            signal, sr = librosa.load(file_path, sr=sample_rate)\n",
    "            chroma_feature = compute_chroma_features(signal, sr, n_fft=n_fft, \n",
    "                                                     hop_length=hop_length, n_chroma=n_chroma)\n",
    "            features.append(chroma_feature)\n",
    "            labels.append(label)\n",
    "    return np.array(features), np.array(labels)\n"
   ]
  },
  {
   "cell_type": "code",
   "execution_count": 32,
   "metadata": {},
   "outputs": [
    {
     "name": "stderr",
     "output_type": "stream",
     "text": [
      "C:\\Users\\dinhg\\AppData\\Local\\Packages\\PythonSoftwareFoundation.Python.3.12_qbz5n2kfra8p0\\LocalCache\\local-packages\\Python312\\site-packages\\librosa\\core\\pitch.py:101: UserWarning: Trying to estimate tuning from empty frequency set.\n",
      "  return pitch_tuning(\n"
     ]
    }
   ],
   "source": [
    "# Load dữ liệu từ các thư mục đã định nghĩa sử dụng hàm trích xuất Chroma\n",
    "train_features_chroma, train_labels_chroma = load_chroma_features_from_directory(train_dir, sample_rate=22050, n_fft=2048, hop_length=512, n_chroma=12)\n",
    "val_features_chroma, val_labels_chroma     = load_chroma_features_from_directory(val_dir, sample_rate=22050, n_fft=2048, hop_length=512, n_chroma=12)\n",
    "test_features_chroma, test_labels_chroma   = load_chroma_features_from_directory(test_dir, sample_rate=22050, n_fft=2048, hop_length=512, n_chroma=12)\n"
   ]
  },
  {
   "cell_type": "code",
   "execution_count": 33,
   "metadata": {},
   "outputs": [],
   "source": [
    "from sklearn.preprocessing import LabelEncoder, StandardScaler\n",
    "\n",
    "# Chuyển đổi nhãn từ chuỗi sang số\n",
    "label_encoder_chroma = LabelEncoder()\n",
    "train_labels_chroma = label_encoder_chroma.fit_transform(train_labels_chroma)\n",
    "val_labels_chroma   = label_encoder_chroma.transform(val_labels_chroma)\n",
    "test_labels_chroma  = label_encoder_chroma.transform(test_labels_chroma)\n",
    "\n",
    "# Chuẩn hóa đặc trưng (Chroma)\n",
    "scaler_chroma = StandardScaler()\n",
    "train_features_chroma_scaled = scaler_chroma.fit_transform(train_features_chroma)\n",
    "val_features_chroma_scaled   = scaler_chroma.transform(val_features_chroma)\n",
    "test_features_chroma_scaled  = scaler_chroma.transform(test_features_chroma)\n"
   ]
  },
  {
   "cell_type": "markdown",
   "metadata": {},
   "source": [
    "Chroma - KNN"
   ]
  },
  {
   "cell_type": "code",
   "execution_count": 34,
   "metadata": {},
   "outputs": [
    {
     "name": "stdout",
     "output_type": "stream",
     "text": [
      "KNN (Chroma) - Test Accuracy: 73.22%\n"
     ]
    }
   ],
   "source": [
    "from sklearn.neighbors import KNeighborsClassifier\n",
    "from sklearn.metrics import accuracy_score\n",
    "\n",
    "knn_classifier_chroma = KNeighborsClassifier(n_neighbors=5)\n",
    "knn_classifier_chroma.fit(train_features_chroma_scaled, train_labels_chroma)\n",
    "val_pred_chroma_knn = knn_classifier_chroma.predict(val_features_chroma_scaled)\n",
    "test_pred_chroma_knn = knn_classifier_chroma.predict(test_features_chroma_scaled)\n",
    "\n",
    "test_accuracy_chroma_knn = accuracy_score(test_labels_chroma, test_pred_chroma_knn)\n",
    "print(f\"KNN (Chroma) - Test Accuracy: {test_accuracy_chroma_knn*100:.2f}%\")\n"
   ]
  },
  {
   "cell_type": "markdown",
   "metadata": {},
   "source": [
    "Chroma - SVM"
   ]
  },
  {
   "cell_type": "code",
   "execution_count": 35,
   "metadata": {},
   "outputs": [
    {
     "name": "stdout",
     "output_type": "stream",
     "text": [
      "SVM (Chroma) - Test Accuracy: 76.17%\n"
     ]
    }
   ],
   "source": [
    "from sklearn.svm import SVC\n",
    "\n",
    "svm_classifier_chroma = SVC(C=10, kernel='rbf', gamma=1, random_state=42)\n",
    "svm_classifier_chroma.fit(train_features_chroma_scaled, train_labels_chroma)\n",
    "val_pred_chroma_svm = svm_classifier_chroma.predict(val_features_chroma_scaled)\n",
    "test_pred_chroma_svm = svm_classifier_chroma.predict(test_features_chroma_scaled)\n",
    "\n",
    "test_accuracy_chroma_svm = accuracy_score(test_labels_chroma, test_pred_chroma_svm)\n",
    "print(f\"SVM (Chroma) - Test Accuracy: {test_accuracy_chroma_svm*100:.2f}%\")\n"
   ]
  },
  {
   "cell_type": "markdown",
   "metadata": {},
   "source": [
    "Chroma - LR"
   ]
  },
  {
   "cell_type": "code",
   "execution_count": 36,
   "metadata": {},
   "outputs": [
    {
     "name": "stdout",
     "output_type": "stream",
     "text": [
      "Logistic Regression (Chroma) - Test Accuracy: 63.12%\n"
     ]
    }
   ],
   "source": [
    "from sklearn.linear_model import LogisticRegression\n",
    "\n",
    "lr_classifier_chroma = LogisticRegression(random_state=42, max_iter=1000)\n",
    "lr_classifier_chroma.fit(train_features_chroma_scaled, train_labels_chroma)\n",
    "val_pred_chroma_lr = lr_classifier_chroma.predict(val_features_chroma_scaled)\n",
    "test_pred_chroma_lr = lr_classifier_chroma.predict(test_features_chroma_scaled)\n",
    "\n",
    "test_accuracy_chroma_lr = accuracy_score(test_labels_chroma, test_pred_chroma_lr)\n",
    "print(f\"Logistic Regression (Chroma) - Test Accuracy: {test_accuracy_chroma_lr*100:.2f}%\")\n"
   ]
  },
  {
   "cell_type": "markdown",
   "metadata": {},
   "source": [
    "Chroma - RF"
   ]
  },
  {
   "cell_type": "code",
   "execution_count": 37,
   "metadata": {},
   "outputs": [
    {
     "name": "stdout",
     "output_type": "stream",
     "text": [
      "Random Forest (Chroma) - Test Accuracy: 76.42%\n"
     ]
    }
   ],
   "source": [
    "from sklearn.ensemble import RandomForestClassifier\n",
    "\n",
    "rf_classifier_chroma = RandomForestClassifier(n_estimators=100, random_state=42)\n",
    "rf_classifier_chroma.fit(train_features_chroma, train_labels_chroma)\n",
    "val_pred_chroma_rf = rf_classifier_chroma.predict(val_features_chroma)\n",
    "test_pred_chroma_rf = rf_classifier_chroma.predict(test_features_chroma)\n",
    "\n",
    "test_accuracy_chroma_rf = accuracy_score(test_labels_chroma, test_pred_chroma_rf)\n",
    "print(f\"Random Forest (Chroma) - Test Accuracy: {test_accuracy_chroma_rf*100:.2f}%\")\n"
   ]
  },
  {
   "cell_type": "markdown",
   "metadata": {},
   "source": [
    "Chroma - ET"
   ]
  },
  {
   "cell_type": "code",
   "execution_count": 38,
   "metadata": {},
   "outputs": [
    {
     "name": "stdout",
     "output_type": "stream",
     "text": [
      "Extra Trees (Chroma) - Test Accuracy: 75.42%\n"
     ]
    }
   ],
   "source": [
    "from sklearn.ensemble import ExtraTreesClassifier\n",
    "\n",
    "et_classifier_chroma = ExtraTreesClassifier(n_estimators=100, random_state=42)\n",
    "et_classifier_chroma.fit(train_features_chroma_scaled, train_labels_chroma)\n",
    "val_pred_chroma_et = et_classifier_chroma.predict(val_features_chroma_scaled)\n",
    "test_pred_chroma_et = et_classifier_chroma.predict(test_features_chroma_scaled)\n",
    "\n",
    "test_accuracy_chroma_et = accuracy_score(test_labels_chroma, test_pred_chroma_et)\n",
    "print(f\"Extra Trees (Chroma) - Test Accuracy: {test_accuracy_chroma_et*100:.2f}%\")\n"
   ]
  },
  {
   "cell_type": "markdown",
   "metadata": {},
   "source": [
    "# Spectral Contrast"
   ]
  },
  {
   "cell_type": "code",
   "execution_count": 39,
   "metadata": {},
   "outputs": [],
   "source": [
    "import numpy as np\n",
    "import librosa\n",
    "\n",
    "def compute_sc_features(signal_in, sr, n_bands=6, fmin=200, fmax=8000, n_fft=2048, hop_length=512):\n",
    "    \"\"\"\n",
    "    Tính đặc trưng Spectral Contrast của tín hiệu:\n",
    "      - Tính STFT của tín hiệu.\n",
    "      - Tạo Mel filter bank với n_bands, fmin, fmax.\n",
    "      - Áp dụng Mel filter bank lên phổ công suất để thu được mel-spectrogram.\n",
    "      - Với mỗi dải, tính hiệu giữa giá trị cực đại và cực tiểu.\n",
    "    \n",
    "    Trả về: vector SC có kích thước (n_bands,).\n",
    "    \"\"\"\n",
    "    # Tính STFT và lấy phổ công suất (mũi suất bình phương)\n",
    "    D = np.abs(librosa.stft(signal_in, n_fft=n_fft, hop_length=hop_length))**2\n",
    "    \n",
    "    # Tạo Mel filter bank\n",
    "    mel_filter = librosa.filters.mel(sr=sr, n_fft=n_fft, n_mels=n_bands, fmin=fmin, fmax=fmax)\n",
    "    \n",
    "    # Tính mel-spectrogram\n",
    "    mel_spectrogram = np.dot(mel_filter, D)\n",
    "    \n",
    "    # Tính Spectral Contrast: hiệu giữa peak và valley cho mỗi dải\n",
    "    sc = []\n",
    "    for i in range(n_bands):\n",
    "        peak = np.max(mel_spectrogram[i, :])\n",
    "        valley = np.min(mel_spectrogram[i, :])\n",
    "        sc.append(peak - valley)\n",
    "    \n",
    "    return np.array(sc)\n",
    "\n",
    "def load_sc_features_from_directory(directory, sample_rate=22050, n_bands=6, fmin=200, fmax=8000, n_fft=2048, hop_length=512):\n",
    "    \"\"\"\n",
    "    Duyệt qua các file âm thanh trong thư mục và tính đặc trưng Spectral Contrast cho mỗi file.\n",
    "    Giả sử trong directory có 2 thư mục con: 'Queen' và 'NonQueen'.\n",
    "    \n",
    "    Trả về:\n",
    "      - features: mảng các vector đặc trưng (mỗi vector có kích thước n_bands)\n",
    "      - labels: nhãn tương ứng.\n",
    "    \"\"\"\n",
    "    import os\n",
    "    features = []\n",
    "    labels = []\n",
    "    for label in ['Queen', 'NonQueen']:\n",
    "        path = os.path.join(directory, label)\n",
    "        for file in os.listdir(path):\n",
    "            file_path = os.path.join(path, file)\n",
    "            signal, sr = librosa.load(file_path, sr=sample_rate)\n",
    "            sc_feature = compute_sc_features(signal, sr, n_bands=n_bands, fmin=fmin, fmax=fmax, n_fft=n_fft, hop_length=hop_length)\n",
    "            features.append(sc_feature)\n",
    "            labels.append(label)\n",
    "    return np.array(features), np.array(labels)\n"
   ]
  },
  {
   "cell_type": "code",
   "execution_count": 40,
   "metadata": {},
   "outputs": [],
   "source": [
    "# Load dữ liệu sử dụng hàm trích xuất Spectral Contrast\n",
    "train_features_sc, train_labels_sc = load_sc_features_from_directory(train_dir, sample_rate=22050, n_bands=6, fmin=200, fmax=8000, n_fft=2048, hop_length=512)\n",
    "val_features_sc, val_labels_sc     = load_sc_features_from_directory(val_dir, sample_rate=22050, n_bands=6, fmin=200, fmax=8000, n_fft=2048, hop_length=512)\n",
    "test_features_sc, test_labels_sc   = load_sc_features_from_directory(test_dir, sample_rate=22050, n_bands=6, fmin=200, fmax=8000, n_fft=2048, hop_length=512)\n"
   ]
  },
  {
   "cell_type": "code",
   "execution_count": 41,
   "metadata": {},
   "outputs": [],
   "source": [
    "from sklearn.preprocessing import LabelEncoder, StandardScaler\n",
    "\n",
    "# Chuyển đổi nhãn từ chuỗi sang số\n",
    "label_encoder_sc = LabelEncoder()\n",
    "train_labels_sc = label_encoder_sc.fit_transform(train_labels_sc)\n",
    "val_labels_sc   = label_encoder_sc.transform(val_labels_sc)\n",
    "test_labels_sc  = label_encoder_sc.transform(test_labels_sc)\n",
    "\n",
    "# Chuẩn hóa đặc trưng SC (dữ liệu đã có kích thước (n_bands,) với n_bands=6)\n",
    "scaler_sc = StandardScaler()\n",
    "train_features_sc_scaled = scaler_sc.fit_transform(train_features_sc)\n",
    "val_features_sc_scaled   = scaler_sc.transform(val_features_sc)\n",
    "test_features_sc_scaled  = scaler_sc.transform(test_features_sc)\n"
   ]
  },
  {
   "cell_type": "markdown",
   "metadata": {},
   "source": [
    "SC - KNN"
   ]
  },
  {
   "cell_type": "code",
   "execution_count": 68,
   "metadata": {},
   "outputs": [
    {
     "name": "stdout",
     "output_type": "stream",
     "text": [
      "KNN (SC) - Test Accuracy: 65.70%\n"
     ]
    }
   ],
   "source": [
    "from sklearn.neighbors import KNeighborsClassifier\n",
    "from sklearn.metrics import accuracy_score\n",
    "\n",
    "knn_classifier_sc = KNeighborsClassifier(n_neighbors=25)\n",
    "knn_classifier_sc.fit(train_features_sc_scaled, train_labels_sc)\n",
    "val_pred_sc_knn = knn_classifier_sc.predict(val_features_sc_scaled)\n",
    "test_pred_sc_knn = knn_classifier_sc.predict(test_features_sc_scaled)\n",
    "\n",
    "test_accuracy_sc_knn = accuracy_score(test_labels_sc, test_pred_sc_knn)\n",
    "print(f\"KNN (SC) - Test Accuracy: {test_accuracy_sc_knn*100:.2f}%\")\n"
   ]
  },
  {
   "cell_type": "markdown",
   "metadata": {},
   "source": [
    "SC - SVM"
   ]
  },
  {
   "cell_type": "code",
   "execution_count": 69,
   "metadata": {},
   "outputs": [
    {
     "name": "stdout",
     "output_type": "stream",
     "text": [
      "SVM (SC) - Test Accuracy: 57.00%\n"
     ]
    }
   ],
   "source": [
    "from sklearn.svm import SVC\n",
    "\n",
    "svm_classifier_sc = SVC(C=100, kernel='rbf', gamma=1, random_state=42)\n",
    "svm_classifier_sc.fit(train_features_sc_scaled, train_labels_sc)\n",
    "val_pred_sc_svm = svm_classifier_sc.predict(val_features_sc_scaled)\n",
    "test_pred_sc_svm = svm_classifier_sc.predict(test_features_sc_scaled)\n",
    "\n",
    "test_accuracy_sc_svm = accuracy_score(test_labels_sc, test_pred_sc_svm)\n",
    "print(f\"SVM (SC) - Test Accuracy: {test_accuracy_sc_svm*100:.2f}%\")\n"
   ]
  },
  {
   "cell_type": "markdown",
   "metadata": {},
   "source": [
    "SC - LR"
   ]
  },
  {
   "cell_type": "code",
   "execution_count": 44,
   "metadata": {},
   "outputs": [
    {
     "name": "stdout",
     "output_type": "stream",
     "text": [
      "Logistic Regression (SC) - Test Accuracy: 53.47%\n"
     ]
    }
   ],
   "source": [
    "from sklearn.linear_model import LogisticRegression\n",
    "\n",
    "lr_classifier_sc = LogisticRegression(random_state=42, max_iter=1000)\n",
    "lr_classifier_sc.fit(train_features_sc_scaled, train_labels_sc)\n",
    "val_pred_sc_lr = lr_classifier_sc.predict(val_features_sc_scaled)\n",
    "test_pred_sc_lr = lr_classifier_sc.predict(test_features_sc_scaled)\n",
    "\n",
    "test_accuracy_sc_lr = accuracy_score(test_labels_sc, test_pred_sc_lr)\n",
    "print(f\"Logistic Regression (SC) - Test Accuracy: {test_accuracy_sc_lr*100:.2f}%\")\n"
   ]
  },
  {
   "cell_type": "markdown",
   "metadata": {},
   "source": [
    "SC - RF"
   ]
  },
  {
   "cell_type": "code",
   "execution_count": 45,
   "metadata": {},
   "outputs": [
    {
     "name": "stdout",
     "output_type": "stream",
     "text": [
      "Random Forest (SC) - Test Accuracy: 67.33%\n"
     ]
    }
   ],
   "source": [
    "from sklearn.ensemble import RandomForestClassifier\n",
    "\n",
    "rf_classifier_sc = RandomForestClassifier(n_estimators=100, random_state=42)\n",
    "rf_classifier_sc.fit(train_features_sc, train_labels_sc)\n",
    "val_pred_sc_rf = rf_classifier_sc.predict(val_features_sc)\n",
    "test_pred_sc_rf = rf_classifier_sc.predict(test_features_sc)\n",
    "\n",
    "test_accuracy_sc_rf = accuracy_score(test_labels_sc, test_pred_sc_rf)\n",
    "print(f\"Random Forest (SC) - Test Accuracy: {test_accuracy_sc_rf*100:.2f}%\")\n"
   ]
  },
  {
   "cell_type": "markdown",
   "metadata": {},
   "source": [
    "SC - ET"
   ]
  },
  {
   "cell_type": "code",
   "execution_count": 62,
   "metadata": {},
   "outputs": [
    {
     "name": "stdout",
     "output_type": "stream",
     "text": [
      "Extra Trees (SC) - Test Accuracy: 67.27%\n"
     ]
    }
   ],
   "source": [
    "# Cell 9\n",
    "from sklearn.ensemble import ExtraTreesClassifier\n",
    "\n",
    "et_classifier_sc = ExtraTreesClassifier(n_estimators=100, random_state=42)\n",
    "et_classifier_sc.fit(train_features_sc_scaled, train_labels_sc)\n",
    "val_pred_sc_et = et_classifier_sc.predict(val_features_sc_scaled)\n",
    "test_pred_sc_et = et_classifier_sc.predict(test_features_sc_scaled)\n",
    "\n",
    "test_accuracy_sc_et = accuracy_score(test_labels_sc, test_pred_sc_et)\n",
    "print(f\"Extra Trees (SC) - Test Accuracy: {test_accuracy_sc_et*100:.2f}%\")\n"
   ]
  },
  {
   "cell_type": "markdown",
   "metadata": {},
   "source": [
    "# Result"
   ]
  },
  {
   "cell_type": "code",
   "execution_count": 72,
   "metadata": {},
   "outputs": [
    {
     "name": "stdout",
     "output_type": "stream",
     "text": [
      "   Method     KNN     SVM      LR      RF      ET\n",
      "0     FFT  94.25%  97.82%  85.97%  94.67%  93.95%\n",
      "1    STFT  94.50%  56.62%  89.50%  94.65%  94.10%\n",
      "2    MFCC  92.75%  94.00%  73.28%  92.00%  92.53%\n",
      "3     CQT  95.83%  80.17%  83.60%  94.55%  95.08%\n",
      "4  CHROMA  73.22%  76.17%  63.12%  76.42%  75.42%\n",
      "5      SC  65.70%  57.00%  53.47%  67.33%  67.27%\n"
     ]
    }
   ],
   "source": [
    "import pandas as pd\n",
    "\n",
    "features = [\"fft\", \"stft\", \"mfcc\", \"cqt\", \"chroma\", \"sc\"]\n",
    "models   = [\"knn\", \"svm\", \"lr\", \"rf\", \"et\"]\n",
    "\n",
    "data = []\n",
    "\n",
    "for feature in features:\n",
    "    row = {}\n",
    "    method_name = feature.upper()\n",
    "    row[\"Method\"] = method_name\n",
    "\n",
    "    for model in models:\n",
    "        var_name = f\"test_accuracy_{feature}_{model}\"\n",
    "        value = globals().get(var_name, None)\n",
    "        row[model.upper()] = f\"{value * 100:.2f}%\"\n",
    "    data.append(row)\n",
    "\n",
    "df = pd.DataFrame(data)\n",
    "\n",
    "df.to_csv(\"results.csv\", index=False)\n",
    "print(df)\n"
   ]
  }
 ],
 "metadata": {
  "kernelspec": {
   "display_name": "Python 3",
   "language": "python",
   "name": "python3"
  },
  "language_info": {
   "codemirror_mode": {
    "name": "ipython",
    "version": 3
   },
   "file_extension": ".py",
   "mimetype": "text/x-python",
   "name": "python",
   "nbconvert_exporter": "python",
   "pygments_lexer": "ipython3",
   "version": "3.12.9"
  }
 },
 "nbformat": 4,
 "nbformat_minor": 2
}
